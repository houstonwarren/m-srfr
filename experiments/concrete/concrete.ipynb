{
 "cells": [
  {
   "cell_type": "markdown",
   "metadata": {},
   "source": [
    "# Concrete"
   ]
  },
  {
   "cell_type": "code",
   "execution_count": 1,
   "metadata": {},
   "outputs": [],
   "source": [
    "# set python to pick up local directory\n",
    "from pathlib import Path\n",
    "import sys\n",
    "import os\n",
    "path_root = str(Path(os.getcwd()).parents[0])\n",
    "package_root = str(Path(os.getcwd()).parents[1])\n",
    "sys.path.append(path_root)\n",
    "sys.path.append(package_root)\n",
    "\n",
    "# auto reload\n",
    "%reload_ext autoreload\n",
    "%autoreload 2\n",
    "\n",
    "# hush\n",
    "import warnings\n",
    "warnings.simplefilter('always', category=FutureWarning)"
   ]
  },
  {
   "cell_type": "code",
   "execution_count": 2,
   "metadata": {},
   "outputs": [],
   "source": [
    "from jax import config\n",
    "config.update(\"jax_enable_x64\", True)"
   ]
  },
  {
   "cell_type": "code",
   "execution_count": 3,
   "metadata": {},
   "outputs": [],
   "source": [
    "import pandas as pd\n",
    "import numpy as np\n",
    "import seaborn as sns\n",
    "import matplotlib.pyplot as plt\n",
    "from copy import deepcopy\n",
    "from sklearn.model_selection import train_test_split\n",
    "from sklearn.preprocessing import StandardScaler, MinMaxScaler\n",
    "import jax\n",
    "import jax.numpy as jnp\n",
    "from jax import vmap, jit\n",
    "from tensorflow_probability.substrates.jax import distributions as tfd\n",
    "from jax.lib import xla_bridge"
   ]
  },
  {
   "cell_type": "code",
   "execution_count": 4,
   "metadata": {},
   "outputs": [],
   "source": [
    "from steinRF import GP, LowRankGP, MixGP\n",
    "from steinRF.gp.kernels import RFF\n",
    "from steinRF.gp.transforms import Transform, ARD\n",
    "from steinRF.stein.targets import TFTarget\n",
    "\n",
    "from steinRF.stein.srfr import srfr\n",
    "# from steinRF.mar_srfr import mar_srfr\n",
    "from steinRF.utils import gp_cross_val, metric_model, run_hyperopt, mse, mae\n",
    "from steinRF.baselines import build_svgp, build_train_svgp, svgp_predict, svgp_cross_val\n",
    "from steinRF.gp.models import *"
   ]
  },
  {
   "cell_type": "code",
   "execution_count": 5,
   "metadata": {},
   "outputs": [
    {
     "name": "stdout",
     "output_type": "stream",
     "text": [
      "device: gpu\n"
     ]
    }
   ],
   "source": [
    "jax.clear_caches()\n",
    "print(f\"device: {xla_bridge.get_backend().platform}\")"
   ]
  },
  {
   "cell_type": "markdown",
   "metadata": {},
   "source": [
    "## Data Preparation"
   ]
  },
  {
   "cell_type": "code",
   "execution_count": 6,
   "metadata": {},
   "outputs": [],
   "source": [
    "key = jax.random.PRNGKey(0)"
   ]
  },
  {
   "cell_type": "code",
   "execution_count": 7,
   "metadata": {},
   "outputs": [],
   "source": [
    "concrete = pd.read_csv(\"concrete.csv\")\n",
    "X_scaler = MinMaxScaler()\n",
    "y_scaler = StandardScaler()\n",
    "\n",
    "X_cols = [col for col in concrete.columns if col != \"compressive_strength\"]\n",
    "concrete[X_cols] = X_scaler.fit_transform(concrete[X_cols])\n",
    "concrete[\"compressive_strength\"] = y_scaler.fit_transform(concrete[[\"compressive_strength\"]])\n",
    "\n",
    "X = jnp.array(concrete.drop(columns=['compressive_strength']))\n",
    "y = jnp.array(concrete['compressive_strength'])\n",
    "X_train, X_val, y_train, y_val = train_test_split(X, y, test_size=0.20, random_state=int(key[0]))\n",
    "X_train, X_val, y_train, y_val = jnp.array(X_train), jnp.array(X_val), jnp.array(y_train), jnp.array(y_val)\n",
    "\n",
    "d = X_train.shape[1]"
   ]
  },
  {
   "cell_type": "markdown",
   "metadata": {},
   "source": [
    "## Hyperparameter Optimization"
   ]
  },
  {
   "cell_type": "code",
   "execution_count": 8,
   "metadata": {},
   "outputs": [],
   "source": [
    "# total settings\n",
    "diag_min, diag_max = 1e-4, 1e-1\n",
    "epoch_min, epoch_max = 500, 4000\n",
    "lr_min, lr_max = 1e-3, 4e-1\n",
    "alpha_min, alpha_max = 0., 3.\n",
    "q_min, q_max = 2, 10\n",
    "s_vals = [0, 0.5, 1, 2]\n",
    "\n",
    "\n",
    "# --------------------------------- Sparse Variational GP -------------------------------- #\n",
    "def _svgp_cross_val(trial, key, X, y, **params):\n",
    "    # hparams\n",
    "    R = params.get('R')\n",
    "    diag = params.get('diag', None)\n",
    "    epochs = params.pop('epochs', None)\n",
    "    if epochs is None:\n",
    "        epochs = trial.suggest_int(\"epochs\", epoch_min, epoch_max, step=500)\n",
    "    lr = params.pop('lr', None)\n",
    "    if lr is None:\n",
    "        lr = trial.suggest_float(\"lr\", 5e-4, 0.1, log=True)\n",
    "    cv_params = {'R': R, 'epochs': epochs, 'lr': lr, 'diag': diag, **params}\n",
    "\n",
    "    # run cross val\n",
    "    cross_val_acc = svgp_cross_val(key, X, y, cv_params)\n",
    "    return cross_val_acc\n",
    "\n",
    "\n",
    "# ---------------------------------- RFF GP - RBF Kernel --------------------------------- #\n",
    "def rff_rbf_cross_val(trial, key, X, y, **params):\n",
    "    # hparams\n",
    "    R = params.pop('R')\n",
    "    diag = params.pop('diag', None)\n",
    "    if diag is None:\n",
    "        diag = trial.suggest_float(\"diag\", diag_min, diag_max, log=True)\n",
    "    epochs = params.pop('epochs', None)\n",
    "    if epochs is None:\n",
    "        epochs = trial.suggest_int(\"epochs\", epoch_min, epoch_max, step=500)\n",
    "    lr = params.pop('lr', None)\n",
    "    if lr is None:\n",
    "        lr = trial.suggest_float(\"lr\", lr_min, lr_max, log=True)\n",
    "    cv_params = {'R': R, 'epochs': epochs, 'lr': lr, 'diag': diag, **params}\n",
    "\n",
    "    # run cross val\n",
    "    cross_val_acc = gp_cross_val(build_train_rff_rbf, key, X, y, cv_params)\n",
    "    return cross_val_acc\n",
    "\n",
    "\n",
    "# --------------------------------------- RFF BASIC -------------------------------------- #\n",
    "def rff_cross_val(trial, key, X, y, **params):\n",
    "    # hparams\n",
    "    R = params.pop('R')\n",
    "    diag = params.pop('diag', None)\n",
    "    if diag is None:\n",
    "        diag = trial.suggest_float(\"diag\", diag_min, diag_max, log=True)\n",
    "    epochs = params.pop('epochs', None)\n",
    "    if epochs is None:\n",
    "        epochs = trial.suggest_int(\"epochs\", epoch_min, epoch_max, step=500)\n",
    "    lr = params.pop('lr', None)\n",
    "    if lr is None:\n",
    "        lr = trial.suggest_float(\"lr\", lr_min, lr_max, log=True)\n",
    "    cv_params = {'R': R, 'epochs': epochs, 'lr': lr, 'diag': diag, **params}\n",
    "\n",
    "    # run cross val\n",
    "    cross_val_acc = gp_cross_val(build_train_rff, key, X, y, cv_params)\n",
    "    return cross_val_acc\n",
    "\n",
    "# --------------------------------------- STEIN RFF -------------------------------------- #\n",
    "def srf_cross_val(trial, key, X, y, **params):\n",
    "    # hparams\n",
    "    R = params.pop('R')\n",
    "\n",
    "    diag = params.pop('diag', None)\n",
    "    if diag is None:\n",
    "        diag = trial.suggest_float(\"diag\", diag_min, diag_max, log=True)\n",
    "    epochs = params.pop('epochs', None)\n",
    "    if epochs is None:\n",
    "        epochs = trial.suggest_int(\"epochs\", epoch_min, epoch_max, step=500)\n",
    "    lr = params.pop('lr', None)\n",
    "    if lr is None:\n",
    "        lr = trial.suggest_float(\"lr\", lr_min, lr_max, log=True)\n",
    "    lr_gd = params.pop('lr_gd', None)\n",
    "    if lr_gd is None:\n",
    "        lr_gd = trial.suggest_float(\"lr_gd\", lr_min, lr_max, log=True)\n",
    "    alpha = params.pop('alpha', None)\n",
    "    if alpha is None:\n",
    "        alpha = trial.suggest_float(\"alpha\", alpha_min, alpha_max, step=0.2)\n",
    "    s = params.pop('s', None)\n",
    "    if s is None:\n",
    "        s = trial.suggest_categorical(\"s\", s_vals)\n",
    "    cv_params = {\n",
    "        'R': R, 'epochs': epochs, 'lr': lr, 'lr_gd': lr_gd, 'diag': diag, 'alpha': alpha, \n",
    "        's': s, **params\n",
    "    }\n",
    "    # cv_params = {\n",
    "    #     'R': R, 'epochs': epochs, 'lr': lr, 'diag': diag, 'alpha': alpha, \n",
    "    #     's': s, **params\n",
    "    # }\n",
    "\n",
    "    # run cross val\n",
    "    cross_val_acc = gp_cross_val(build_train_srf, key, X, y, cv_params)\n",
    "    return cross_val_acc\n",
    "\n",
    "\n",
    "# ----------------------------------- NONSTATIONARY RFF ---------------------------------- #\n",
    "def nrff_cross_val(trial, key, X, y, **params):\n",
    "    # hparams\n",
    "    R = params.get('R')\n",
    "    diag = params.get('diag', None)\n",
    "    if diag is None:\n",
    "        diag = trial.suggest_float(\"diag\", diag_min, diag_max, log=True)\n",
    "    epochs = params.get('epochs', None)\n",
    "    if epochs is None:\n",
    "        epochs = trial.suggest_int(\"epochs\", epoch_min, epoch_max, step=500)\n",
    "    lr = params.get('lr', None)\n",
    "    if lr is None:\n",
    "        lr = trial.suggest_float(\"lr\", lr_min, lr_max, log=True)\n",
    "\n",
    "    cv_params = {'R': R, 'epochs': epochs, 'lr': lr, 'diag': diag, **params}\n",
    "\n",
    "    # run cross val\n",
    "    cross_val_acc = gp_cross_val(build_train_nrff, key, X, y, cv_params)\n",
    "    return cross_val_acc\n",
    "\n",
    "\n",
    "# ------------------------------------ MARGINAL KERNEL ----------------------------------- #\n",
    "def mix_rff_cross_val(trial, key, X, y, **params):\n",
    "    # hparams\n",
    "    R = params.pop('R')\n",
    "\n",
    "    diag = params.pop('diag', None)\n",
    "    if diag is None:\n",
    "        diag = trial.suggest_float(\"diag\", diag_min, diag_max, log=True)\n",
    "    epochs = params.pop('epochs', None)\n",
    "    if epochs is None:\n",
    "        epochs = trial.suggest_int(\"epochs\", epoch_min, epoch_max, step=500)\n",
    "    lr = params.pop('lr', None)\n",
    "    if lr is None:\n",
    "        lr = trial.suggest_float(\"lr\", lr_min, lr_max, log=True)\n",
    "    lr_gd = params.pop('lr_gd', None)\n",
    "    if lr_gd is None:\n",
    "        lr_gd = trial.suggest_float(\"lr_gd\", lr_min, lr_max, log=True)\n",
    "    alpha = params.pop('alpha', None)\n",
    "    if alpha is None:\n",
    "        alpha = trial.suggest_float(\"alpha\", alpha_min, alpha_max, step=0.2)\n",
    "    q = params.pop('q', None)\n",
    "    if q is None:\n",
    "        q = trial.suggest_int(\"q\", q_min, q_max, step=2)\n",
    "    s = params.pop('s', None)\n",
    "    if s is None:\n",
    "        s = trial.suggest_categorical(\"s\", s_vals)\n",
    "\n",
    "    cv_params = {\n",
    "        'R': R, 'epochs': epochs, 'lr': lr, 'diag': diag, 'lr_gd': lr_gd,\n",
    "        'alpha': alpha, 's': s, 'q': q, **params\n",
    "    }\n",
    "\n",
    "    # run cross val\n",
    "    cross_val_acc = gp_cross_val(build_train_mix_rff, key, X, y, cv_params)\n",
    "    return cross_val_acc\n",
    "\n",
    "\n",
    "# ------------------------------ NONSTATIONARY STEIN MIXTURE ----------------------------- #\n",
    "def nmix_cross_val(trial, key, X, y, **params):\n",
    "    # hparams\n",
    "    R = params.get('R')\n",
    "    diag = params.get('diag', None)\n",
    "    if diag is None:\n",
    "        diag = trial.suggest_float(\"diag\", diag_min, diag_max, log=True)\n",
    "    epochs = params.get('epochs', None)\n",
    "    if epochs is None:\n",
    "        epochs = trial.suggest_int(\"epochs\", epoch_min, epoch_max, step=500)\n",
    "    lr = params.get('lr', None)\n",
    "    if lr is None:\n",
    "        lr = trial.suggest_float(\"lr\", lr_min, lr_max, log=True)\n",
    "    lr_gd = params.pop('lr_gd', None)\n",
    "    if lr_gd is None:\n",
    "        lr_gd = trial.suggest_float(\"lr_gd\", lr_min, lr_max, log=True)\n",
    "    alpha = params.get('alpha', None)\n",
    "    if alpha is None:\n",
    "        alpha = trial.suggest_float(\"alpha\", alpha_min, alpha_max, step=0.2)\n",
    "    s = params.pop('s', None)\n",
    "    if s is None:\n",
    "        s = trial.suggest_categorical(\"s\", s_vals)\n",
    "    q = params.pop('q', None)\n",
    "    if q is None:\n",
    "        q = trial.suggest_int(\"q\", q_min, q_max, step=2)\n",
    "    cv_params = {\n",
    "        'R': R, 'epochs': epochs, 'lr': lr, 'lr_gd': lr_gd, 'diag': diag, 'alpha': alpha,\n",
    "        's': s, 'q': q, **params\n",
    "    }\n",
    "\n",
    "    # run cross val\n",
    "    cross_val_acc = gp_cross_val(build_train_nmix_rff, key, X, y, cv_params)\n",
    "    return cross_val_acc"
   ]
  },
  {
   "cell_type": "markdown",
   "metadata": {},
   "source": [
    "### Run Optimization"
   ]
  },
  {
   "cell_type": "code",
   "execution_count": 9,
   "metadata": {},
   "outputs": [],
   "source": [
    "n_trials = 30\n",
    "R = 100\n",
    "q = 10\n",
    "hparams = {}"
   ]
  },
  {
   "cell_type": "markdown",
   "metadata": {},
   "source": [
    "#### Sparse-Variational GP"
   ]
  },
  {
   "cell_type": "code",
   "execution_count": 10,
   "metadata": {},
   "outputs": [
    {
     "name": "stderr",
     "output_type": "stream",
     "text": [
      "[I 2024-02-10 01:34:48,562] A new study created in memory with name: no-name-60b00659-9b5a-4843-8911-372d520e2288\n"
     ]
    },
    {
     "data": {
      "application/vnd.jupyter.widget-view+json": {
       "model_id": "f6c7f75810634517b3630b297119b85a",
       "version_major": 2,
       "version_minor": 0
      },
      "text/plain": [
       "  0%|          | 0/30 [00:00<?, ?it/s]"
      ]
     },
     "metadata": {},
     "output_type": "display_data"
    },
    {
     "name": "stdout",
     "output_type": "stream",
     "text": [
      "[I 2024-02-10 01:35:25,090] Trial 0 finished with value: 0.3684043744747548 and parameters: {'lr': 0.0006728018524728593}. Best is trial 0 with value: 0.3684043744747548.\n",
      "[I 2024-02-10 01:35:56,565] Trial 1 finished with value: 0.19670388557321522 and parameters: {'lr': 0.07920197843656476}. Best is trial 1 with value: 0.19670388557321522.\n",
      "[I 2024-02-10 01:36:27,302] Trial 2 finished with value: 0.23411662457014418 and parameters: {'lr': 0.001567476042144662}. Best is trial 1 with value: 0.19670388557321522.\n",
      "[I 2024-02-10 01:36:58,235] Trial 3 finished with value: 0.20444573559830231 and parameters: {'lr': 0.004180130757767301}. Best is trial 1 with value: 0.19670388557321522.\n",
      "[I 2024-02-10 01:37:29,357] Trial 4 finished with value: 0.4024862814342782 and parameters: {'lr': 0.0005805878779183577}. Best is trial 1 with value: 0.19670388557321522.\n",
      "[I 2024-02-10 01:38:00,581] Trial 5 finished with value: 0.16709677968953224 and parameters: {'lr': 0.018994658441233388}. Best is trial 5 with value: 0.16709677968953224.\n",
      "[I 2024-02-10 01:38:31,821] Trial 6 finished with value: 0.16993112196001792 and parameters: {'lr': 0.016724963074241022}. Best is trial 5 with value: 0.16709677968953224.\n",
      "[I 2024-02-10 01:39:02,817] Trial 7 finished with value: 0.20636595914724784 and parameters: {'lr': 0.0038409877798286484}. Best is trial 5 with value: 0.16709677968953224.\n",
      "[I 2024-02-10 01:39:34,030] Trial 8 finished with value: 0.17531473136926623 and parameters: {'lr': 0.013469673935832845}. Best is trial 5 with value: 0.16709677968953224.\n",
      "[I 2024-02-10 01:40:05,298] Trial 9 finished with value: 0.29918266044205566 and parameters: {'lr': 0.0009277987518732351}. Best is trial 5 with value: 0.16709677968953224.\n",
      "[I 2024-02-10 01:40:36,307] Trial 10 finished with value: 0.20470752949850218 and parameters: {'lr': 0.08119752999161854}. Best is trial 5 with value: 0.16709677968953224.\n",
      "[I 2024-02-10 01:41:07,613] Trial 11 finished with value: 0.16641070531613278 and parameters: {'lr': 0.020257596571975785}. Best is trial 11 with value: 0.16641070531613278.\n",
      "[I 2024-02-10 01:41:38,619] Trial 12 finished with value: 0.16330345972813637 and parameters: {'lr': 0.02731102962621922}. Best is trial 12 with value: 0.16330345972813637.\n",
      "[I 2024-02-10 01:42:09,933] Trial 13 finished with value: 0.16349166547841434 and parameters: {'lr': 0.03821587076622479}. Best is trial 12 with value: 0.16330345972813637.\n",
      "[I 2024-02-10 01:42:40,997] Trial 14 finished with value: 0.16434129404729764 and parameters: {'lr': 0.04135903300404289}. Best is trial 12 with value: 0.16330345972813637.\n",
      "[I 2024-02-10 01:43:12,373] Trial 15 finished with value: 0.164834554646837 and parameters: {'lr': 0.04014447866696064}. Best is trial 12 with value: 0.16330345972813637.\n",
      "[I 2024-02-10 01:43:43,395] Trial 16 finished with value: 0.19334744493200587 and parameters: {'lr': 0.006869471721104653}. Best is trial 12 with value: 0.16330345972813637.\n",
      "[I 2024-02-10 01:44:14,775] Trial 17 finished with value: 0.16007997800996812 and parameters: {'lr': 0.03943006189843416}. Best is trial 17 with value: 0.16007997800996812.\n",
      "[I 2024-02-10 01:44:45,822] Trial 18 finished with value: 0.18280800716676124 and parameters: {'lr': 0.010250570735073093}. Best is trial 17 with value: 0.16007997800996812.\n",
      "[I 2024-02-10 01:45:17,237] Trial 19 finished with value: 0.1622441823164087 and parameters: {'lr': 0.033663417392692886}. Best is trial 17 with value: 0.16007997800996812.\n",
      "[I 2024-02-10 01:45:48,249] Trial 20 finished with value: 0.180514611500097 and parameters: {'lr': 0.06587712344431222}. Best is trial 17 with value: 0.16007997800996812.\n",
      "[I 2024-02-10 01:46:19,725] Trial 21 finished with value: 0.16283671784780993 and parameters: {'lr': 0.029286018892221547}. Best is trial 17 with value: 0.16007997800996812.\n",
      "[I 2024-02-10 01:46:50,725] Trial 22 finished with value: 0.16403712313071703 and parameters: {'lr': 0.03014184078942729}. Best is trial 17 with value: 0.16007997800996812.\n",
      "[I 2024-02-10 01:47:21,786] Trial 23 finished with value: 0.172300170337746 and parameters: {'lr': 0.056991646370090805}. Best is trial 17 with value: 0.16007997800996812.\n",
      "[I 2024-02-10 01:47:53,335] Trial 24 finished with value: 0.18841992546910752 and parameters: {'lr': 0.008395370335165426}. Best is trial 17 with value: 0.16007997800996812.\n",
      "[I 2024-02-10 01:48:24,418] Trial 25 finished with value: 0.1632462946750027 and parameters: {'lr': 0.026365783355392674}. Best is trial 17 with value: 0.16007997800996812.\n",
      "[I 2024-02-10 01:48:55,676] Trial 26 finished with value: 0.16879825338606919 and parameters: {'lr': 0.04923649673945411}. Best is trial 17 with value: 0.16007997800996812.\n",
      "[I 2024-02-10 01:49:27,458] Trial 27 finished with value: 0.19669219658511342 and parameters: {'lr': 0.005850206994301775}. Best is trial 17 with value: 0.16007997800996812.\n",
      "[I 2024-02-10 01:49:58,778] Trial 28 finished with value: 0.260718183450916 and parameters: {'lr': 0.09544160787604244}. Best is trial 17 with value: 0.16007997800996812.\n",
      "[I 2024-02-10 01:50:30,543] Trial 29 finished with value: 0.17753921130157785 and parameters: {'lr': 0.012006949361633752}. Best is trial 17 with value: 0.16007997800996812.\n"
     ]
    }
   ],
   "source": [
    "# svgp = build_train_svgp(key, X, y, R=R, diag=1e-2, epochs=1000, lr=0.01, from_data=True)[0]\n",
    "svgp_study = run_hyperopt(\n",
    "    _svgp_cross_val, key, X_train, y_train, n_trials=n_trials, R=R, diag=1e-2, from_data=False, epochs=1000\n",
    ")\n",
    "hparams[\"svgp\"] = svgp_study.best_params"
   ]
  },
  {
   "cell_type": "markdown",
   "metadata": {},
   "source": [
    "#### RFF with RBF"
   ]
  },
  {
   "cell_type": "code",
   "execution_count": null,
   "metadata": {},
   "outputs": [],
   "source": [
    "# rff_rbf = build_train_rff_rbf(key, X_train, R=100, diag=1e-2, epochs=1000, lr=0.01, from_data=False)[0]\n",
    "rff_rbf_study = run_hyperopt(\n",
    "    rff_rbf_cross_val, key, X_train, y_train, n_trials=n_trials, R=R, epochs=1000, init_ls=False\n",
    ")\n",
    "hparams[\"rff_rbf\"] = rff_rbf_study.best_params"
   ]
  },
  {
   "cell_type": "markdown",
   "metadata": {},
   "source": [
    "#### Basic RFF GP"
   ]
  },
  {
   "cell_type": "code",
   "execution_count": 11,
   "metadata": {},
   "outputs": [
    {
     "name": "stderr",
     "output_type": "stream",
     "text": [
      "[I 2024-02-10 02:01:14,493] A new study created in memory with name: no-name-3f7c95e5-686b-460f-999e-8539b79b48e6\n"
     ]
    },
    {
     "data": {
      "application/vnd.jupyter.widget-view+json": {
       "model_id": "f558c1a943d745d3ac3f97dcd262123d",
       "version_major": 2,
       "version_minor": 0
      },
      "text/plain": [
       "  0%|          | 0/30 [00:00<?, ?it/s]"
      ]
     },
     "metadata": {},
     "output_type": "display_data"
    },
    {
     "name": "stdout",
     "output_type": "stream",
     "text": [
      "[I 2024-02-10 02:01:31,059] Trial 0 finished with value: 0.3130512038124511 and parameters: {'diag': 0.00011899057245427316, 'lr': 0.17639032540647825}. Best is trial 0 with value: 0.3130512038124511.\n",
      "[I 2024-02-10 02:01:45,733] Trial 1 finished with value: 0.1276076855572909 and parameters: {'diag': 0.030822676516862647, 'lr': 0.00987201891888893}. Best is trial 1 with value: 0.1276076855572909.\n",
      "[I 2024-02-10 02:02:00,503] Trial 2 finished with value: 1.009601344360198 and parameters: {'diag': 0.00015793581531171045, 'lr': 0.0117777584502081}. Best is trial 1 with value: 0.1276076855572909.\n",
      "[I 2024-02-10 02:02:15,286] Trial 3 finished with value: 0.11582558453854805 and parameters: {'diag': 0.05854497803653283, 'lr': 0.009455215905141085}. Best is trial 3 with value: 0.11582558453854805.\n",
      "[I 2024-02-10 02:02:30,044] Trial 4 finished with value: 0.4859430112313782 and parameters: {'diag': 0.0006317727820432532, 'lr': 0.026329004009463197}. Best is trial 3 with value: 0.11582558453854805.\n",
      "[I 2024-02-10 02:02:44,793] Trial 5 finished with value: 0.962262719547153 and parameters: {'diag': 0.00010000879760033664, 'lr': 0.005692547780369407}. Best is trial 3 with value: 0.11582558453854805.\n",
      "[I 2024-02-10 02:02:59,549] Trial 6 finished with value: 0.11804566839478325 and parameters: {'diag': 0.08097418785043718, 'lr': 0.12468445502382694}. Best is trial 3 with value: 0.11582558453854805.\n",
      "[I 2024-02-10 02:03:14,239] Trial 7 finished with value: 0.12292374352035536 and parameters: {'diag': 0.03803307511706551, 'lr': 0.0776906481604782}. Best is trial 3 with value: 0.11582558453854805.\n",
      "[I 2024-02-10 02:03:29,016] Trial 8 finished with value: 0.29287574694966806 and parameters: {'diag': 0.0030682575791312517, 'lr': 0.009129677684811337}. Best is trial 3 with value: 0.11582558453854805.\n",
      "[I 2024-02-10 02:03:43,853] Trial 9 finished with value: 0.31918927929950924 and parameters: {'diag': 0.00013724126261760306, 'lr': 0.20694579627636922}. Best is trial 3 with value: 0.11582558453854805.\n",
      "[I 2024-02-10 02:03:58,725] Trial 10 finished with value: 0.15061723512821593 and parameters: {'diag': 0.008800693975296706, 'lr': 0.0014880176435439606}. Best is trial 3 with value: 0.11582558453854805.\n",
      "[I 2024-02-10 02:04:13,574] Trial 11 finished with value: 0.1273563130954224 and parameters: {'diag': 0.07813052437071942, 'lr': 0.041566135368593826}. Best is trial 3 with value: 0.11582558453854805.\n",
      "[I 2024-02-10 02:04:28,482] Trial 12 finished with value: 0.15569021219270576 and parameters: {'diag': 0.00989614469455232, 'lr': 0.0025306119555523108}. Best is trial 3 with value: 0.11582558453854805.\n",
      "[I 2024-02-10 02:04:43,212] Trial 13 finished with value: 0.1153340198709 and parameters: {'diag': 0.09557277712120715, 'lr': 0.3673756353254991}. Best is trial 13 with value: 0.1153340198709.\n",
      "[I 2024-02-10 02:04:58,100] Trial 14 finished with value: 0.14444645982200535 and parameters: {'diag': 0.014688206789146943, 'lr': 0.369050569760123}. Best is trial 13 with value: 0.1153340198709.\n",
      "[I 2024-02-10 02:05:12,973] Trial 15 finished with value: 0.2779553517396761 and parameters: {'diag': 0.0023448860432362696, 'lr': 0.05929797827391546}. Best is trial 13 with value: 0.1153340198709.\n",
      "[I 2024-02-10 02:05:27,803] Trial 16 finished with value: 0.13626460714327832 and parameters: {'diag': 0.031043629578002194, 'lr': 0.004127223896716536}. Best is trial 13 with value: 0.1153340198709.\n",
      "[I 2024-02-10 02:05:42,589] Trial 17 finished with value: 0.12754186859358901 and parameters: {'diag': 0.08774884560106407, 'lr': 0.02040186175457926}. Best is trial 13 with value: 0.1153340198709.\n",
      "[I 2024-02-10 02:05:57,372] Trial 18 finished with value: 0.39961595274035816 and parameters: {'diag': 0.00123732566945871, 'lr': 0.030543229212478155}. Best is trial 13 with value: 0.1153340198709.\n",
      "[I 2024-02-10 02:06:12,184] Trial 19 finished with value: 0.12746560280734126 and parameters: {'diag': 0.0177840318938641, 'lr': 0.0010829864437016752}. Best is trial 13 with value: 0.1153340198709.\n",
      "[I 2024-02-10 02:06:26,970] Trial 20 finished with value: 0.17266498759321794 and parameters: {'diag': 0.004618507721586225, 'lr': 0.3139008663552258}. Best is trial 13 with value: 0.1153340198709.\n",
      "[I 2024-02-10 02:06:41,773] Trial 21 finished with value: 0.1355629629114192 and parameters: {'diag': 0.059819749329975976, 'lr': 0.12536518896206614}. Best is trial 13 with value: 0.1153340198709.\n",
      "[I 2024-02-10 02:06:56,627] Trial 22 finished with value: 0.13068849148932915 and parameters: {'diag': 0.052855089332845294, 'lr': 0.102125748210936}. Best is trial 13 with value: 0.1153340198709.\n",
      "[I 2024-02-10 02:07:11,469] Trial 23 finished with value: 0.13144637652750976 and parameters: {'diag': 0.092084454071509, 'lr': 0.19338576017772324}. Best is trial 13 with value: 0.1153340198709.\n",
      "[I 2024-02-10 02:07:26,341] Trial 24 finished with value: 0.1386955604676157 and parameters: {'diag': 0.022315242635601806, 'lr': 0.3907616794499341}. Best is trial 13 with value: 0.1153340198709.\n",
      "[I 2024-02-10 02:07:41,157] Trial 25 finished with value: 0.1312435958848732 and parameters: {'diag': 0.04756194652143633, 'lr': 0.05074258979318168}. Best is trial 13 with value: 0.1153340198709.\n",
      "[I 2024-02-10 02:07:55,884] Trial 26 finished with value: 0.20578996916214023 and parameters: {'diag': 0.00908803399681418, 'lr': 0.013061671398311754}. Best is trial 13 with value: 0.1153340198709.\n",
      "[I 2024-02-10 02:08:10,713] Trial 27 finished with value: 0.15335390054824907 and parameters: {'diag': 0.021892098030694255, 'lr': 0.11874912147114645}. Best is trial 13 with value: 0.1153340198709.\n",
      "[I 2024-02-10 02:08:25,594] Trial 28 finished with value: 0.1179736926303159 and parameters: {'diag': 0.09891188524244993, 'lr': 0.2637332648388464}. Best is trial 13 with value: 0.1153340198709.\n",
      "[I 2024-02-10 02:08:40,478] Trial 29 finished with value: 0.3296224740684088 and parameters: {'diag': 0.0004120285773502267, 'lr': 0.20824570251324143}. Best is trial 13 with value: 0.1153340198709.\n"
     ]
    }
   ],
   "source": [
    "# rff = build_train_rff(key, X_train, y_train, R=R, diag=0.09, epochs=2000, lr=.013, from_data=False, init_ls=False)[0]\n",
    "rff_study = run_hyperopt(\n",
    "    rff_cross_val, key, X_train, y_train, n_trials=n_trials, R=R, epochs=1000, from_data=False, init_ls=False\n",
    ")\n",
    "hparams[\"rff\"] = rff_study.best_params"
   ]
  },
  {
   "cell_type": "markdown",
   "metadata": {},
   "source": [
    "#### Stein Random Features"
   ]
  },
  {
   "cell_type": "code",
   "execution_count": 12,
   "metadata": {},
   "outputs": [
    {
     "name": "stderr",
     "output_type": "stream",
     "text": [
      "[I 2024-02-10 02:08:53,523] A new study created in memory with name: no-name-495170fe-e384-444c-bf0b-c0e534ce3801\n"
     ]
    },
    {
     "data": {
      "application/vnd.jupyter.widget-view+json": {
       "model_id": "f4e19d14a2b940f7afbd2efa7bc84c62",
       "version_major": 2,
       "version_minor": 0
      },
      "text/plain": [
       "  0%|          | 0/50 [00:00<?, ?it/s]"
      ]
     },
     "metadata": {},
     "output_type": "display_data"
    },
    {
     "name": "stdout",
     "output_type": "stream",
     "text": [
      "[I 2024-02-10 02:09:12,337] Trial 0 finished with value: 0.5865822960073148 and parameters: {'diag': 0.00024282177812108373, 'lr': 0.00644087337919752, 'lr_gd': 0.052595922878610715, 'alpha': 0.0, 's': 2}. Best is trial 0 with value: 0.5865822960073148.\n",
      "[I 2024-02-10 02:09:29,950] Trial 1 finished with value: 0.1701304637574811 and parameters: {'diag': 0.014154012553906711, 'lr': 0.0022194712558587758, 'lr_gd': 0.0028390487894859625, 'alpha': 2.6, 's': 0}. Best is trial 1 with value: 0.1701304637574811.\n",
      "[I 2024-02-10 02:09:48,220] Trial 2 finished with value: 0.1952352102886128 and parameters: {'diag': 0.00755509061274433, 'lr': 0.08952762005592099, 'lr_gd': 0.0038011188576371198, 'alpha': 0.0, 's': 0}. Best is trial 1 with value: 0.1701304637574811.\n",
      "[I 2024-02-10 02:10:05,888] Trial 3 finished with value: 0.6386056788632002 and parameters: {'diag': 0.00013332915515950507, 'lr': 0.0015787554554618452, 'lr_gd': 0.02002046909385376, 'alpha': 3.0, 's': 0.5}. Best is trial 1 with value: 0.1701304637574811.\n",
      "[I 2024-02-10 02:10:23,526] Trial 4 finished with value: 0.26045632036075944 and parameters: {'diag': 0.0004222550988445244, 'lr': 0.39398688342070215, 'lr_gd': 0.1948512657171019, 'alpha': 0.8, 's': 1}. Best is trial 1 with value: 0.1701304637574811.\n",
      "[I 2024-02-10 02:10:41,169] Trial 5 finished with value: 0.3046996217252648 and parameters: {'diag': 0.0006531433356940395, 'lr': 0.21396837927218937, 'lr_gd': 0.1891361964432605, 'alpha': 1.2000000000000002, 's': 2}. Best is trial 1 with value: 0.1701304637574811.\n",
      "[I 2024-02-10 02:10:58,981] Trial 6 finished with value: 0.5096457345153562 and parameters: {'diag': 0.0005744668772699874, 'lr': 0.0011319131264423275, 'lr_gd': 0.17185094500370698, 'alpha': 0.8, 's': 0.5}. Best is trial 1 with value: 0.1701304637574811.\n",
      "[I 2024-02-10 02:11:16,759] Trial 7 finished with value: 0.13179766686614708 and parameters: {'diag': 0.022986489533854345, 'lr': 0.27043118883349276, 'lr_gd': 0.013627322178473383, 'alpha': 0.0, 's': 1}. Best is trial 7 with value: 0.13179766686614708.\n",
      "[I 2024-02-10 02:11:34,601] Trial 8 finished with value: 0.17816608209291512 and parameters: {'diag': 0.0034494257679859963, 'lr': 0.001146898066930271, 'lr_gd': 0.0011185191559700206, 'alpha': 2.8000000000000003, 's': 0.5}. Best is trial 7 with value: 0.13179766686614708.\n",
      "[I 2024-02-10 02:11:52,329] Trial 9 finished with value: 0.16576226852167433 and parameters: {'diag': 0.03886181663986426, 'lr': 0.059061828113231005, 'lr_gd': 0.0012002686179421475, 'alpha': 2.0, 's': 0}. Best is trial 7 with value: 0.13179766686614708.\n",
      "[I 2024-02-10 02:12:10,116] Trial 10 finished with value: 0.15027601112526243 and parameters: {'diag': 0.042261877330861744, 'lr': 0.017922812085655125, 'lr_gd': 0.011864036306608379, 'alpha': 1.8, 's': 1}. Best is trial 7 with value: 0.13179766686614708.\n",
      "[I 2024-02-10 02:12:27,889] Trial 11 finished with value: 0.1354845065267224 and parameters: {'diag': 0.09162902449315131, 'lr': 0.014447901078908231, 'lr_gd': 0.011482139422546727, 'alpha': 1.8, 's': 1}. Best is trial 7 with value: 0.13179766686614708.\n",
      "[I 2024-02-10 02:12:45,672] Trial 12 finished with value: 0.13614607317757504 and parameters: {'diag': 0.09114795139296916, 'lr': 0.01664768006500967, 'lr_gd': 0.01172160724634664, 'alpha': 2.2, 's': 1}. Best is trial 7 with value: 0.13179766686614708.\n",
      "[I 2024-02-10 02:13:03,378] Trial 13 finished with value: 0.13918469602470082 and parameters: {'diag': 0.0955305679283921, 'lr': 0.04295899166782378, 'lr_gd': 0.040140947890791694, 'alpha': 1.4000000000000001, 's': 1}. Best is trial 7 with value: 0.13179766686614708.\n",
      "[I 2024-02-10 02:13:21,231] Trial 14 finished with value: 0.16514207447035328 and parameters: {'diag': 0.02304252801825824, 'lr': 0.006808983231287823, 'lr_gd': 0.005384602340861066, 'alpha': 0.6000000000000001, 's': 1}. Best is trial 7 with value: 0.13179766686614708.\n",
      "[I 2024-02-10 02:13:39,002] Trial 15 finished with value: 0.25221880430491916 and parameters: {'diag': 0.008883924004608986, 'lr': 0.006276993280665303, 'lr_gd': 0.048689919361987216, 'alpha': 2.4000000000000004, 's': 1}. Best is trial 7 with value: 0.13179766686614708.\n",
      "[I 2024-02-10 02:13:56,759] Trial 16 finished with value: 0.3802003373444341 and parameters: {'diag': 0.002301073812467127, 'lr': 0.12366441838979478, 'lr_gd': 0.021340793359164903, 'alpha': 1.6, 's': 1}. Best is trial 7 with value: 0.13179766686614708.\n",
      "[I 2024-02-10 02:14:14,535] Trial 17 finished with value: 0.16271444812071784 and parameters: {'diag': 0.03941914944628789, 'lr': 0.031580312524059045, 'lr_gd': 0.00793413659025349, 'alpha': 1.2000000000000002, 's': 1}. Best is trial 7 with value: 0.13179766686614708.\n",
      "[I 2024-02-10 02:14:32,340] Trial 18 finished with value: 0.2916306537745221 and parameters: {'diag': 0.0029126467310729974, 'lr': 0.011237722773073121, 'lr_gd': 0.09311294427236326, 'alpha': 0.4, 's': 2}. Best is trial 7 with value: 0.13179766686614708.\n",
      "[I 2024-02-10 02:14:50,098] Trial 19 finished with value: 0.16183302023088347 and parameters: {'diag': 0.01653336339336836, 'lr': 0.0038091465187091917, 'lr_gd': 0.002682418615959872, 'alpha': 1.8, 's': 1}. Best is trial 7 with value: 0.13179766686614708.\n",
      "[I 2024-02-10 02:15:07,782] Trial 20 finished with value: 0.14938364832111284 and parameters: {'diag': 0.0484193156191935, 'lr': 0.34457395652941925, 'lr_gd': 0.3663850807655871, 'alpha': 0.4, 's': 1}. Best is trial 7 with value: 0.13179766686614708.\n",
      "[I 2024-02-10 02:15:25,542] Trial 21 finished with value: 0.13139886844487364 and parameters: {'diag': 0.09605792010056687, 'lr': 0.01821058468763105, 'lr_gd': 0.013285678053308094, 'alpha': 2.4000000000000004, 's': 1}. Best is trial 21 with value: 0.13139886844487364.\n",
      "[I 2024-02-10 02:15:43,341] Trial 22 finished with value: 0.14965746248952744 and parameters: {'diag': 0.07420250584750482, 'lr': 0.025068021905329953, 'lr_gd': 0.028077503834462347, 'alpha': 2.4000000000000004, 's': 1}. Best is trial 21 with value: 0.13139886844487364.\n",
      "[I 2024-02-10 02:16:01,192] Trial 23 finished with value: 0.1900224601056128 and parameters: {'diag': 0.02522255635094171, 'lr': 0.011194234193727422, 'lr_gd': 0.011659563524294798, 'alpha': 2.2, 's': 1}. Best is trial 21 with value: 0.13139886844487364.\n",
      "[I 2024-02-10 02:16:18,967] Trial 24 finished with value: 0.16080012693799411 and parameters: {'diag': 0.05781784101351013, 'lr': 0.053326582812084675, 'lr_gd': 0.008742490922047241, 'alpha': 1.4000000000000001, 's': 1}. Best is trial 21 with value: 0.13139886844487364.\n",
      "[I 2024-02-10 02:16:36,729] Trial 25 finished with value: 0.19075055734141216 and parameters: {'diag': 0.0995829386204827, 'lr': 0.11597654868508572, 'lr_gd': 0.0049320942771534865, 'alpha': 1.8, 's': 1}. Best is trial 21 with value: 0.13139886844487364.\n",
      "[I 2024-02-10 02:16:54,366] Trial 26 finished with value: 0.22559511604284926 and parameters: {'diag': 0.0073786468114131675, 'lr': 0.013000429289434574, 'lr_gd': 0.01807532389674552, 'alpha': 2.6, 's': 0}. Best is trial 21 with value: 0.13139886844487364.\n",
      "[I 2024-02-10 02:17:12,135] Trial 27 finished with value: 0.17908431934994784 and parameters: {'diag': 0.02680846482827837, 'lr': 0.0310835454801986, 'lr_gd': 0.033512809170005084, 'alpha': 1.0, 's': 2}. Best is trial 21 with value: 0.13139886844487364.\n",
      "[I 2024-02-10 02:17:29,859] Trial 28 finished with value: 0.19092536230925555 and parameters: {'diag': 0.014269231417767776, 'lr': 0.003088876575426482, 'lr_gd': 0.07317124129874174, 'alpha': 2.2, 's': 0.5}. Best is trial 21 with value: 0.13139886844487364.\n",
      "[I 2024-02-10 02:17:47,620] Trial 29 finished with value: 0.36168787665890034 and parameters: {'diag': 0.0016200045290916025, 'lr': 0.006871679317916179, 'lr_gd': 0.0019263178956367688, 'alpha': 0.0, 's': 2}. Best is trial 21 with value: 0.13139886844487364.\n",
      "[I 2024-02-10 02:18:05,447] Trial 30 finished with value: 0.16861347587366143 and parameters: {'diag': 0.05428034061489224, 'lr': 0.07486192433506678, 'lr_gd': 0.00761883833559365, 'alpha': 3.0, 's': 1}. Best is trial 21 with value: 0.13139886844487364.\n",
      "[I 2024-02-10 02:18:23,216] Trial 31 finished with value: 0.1458762242454359 and parameters: {'diag': 0.07955116491474727, 'lr': 0.017238034618431392, 'lr_gd': 0.017051993274777223, 'alpha': 2.0, 's': 1}. Best is trial 21 with value: 0.13139886844487364.\n",
      "[I 2024-02-10 02:18:41,612] Trial 32 finished with value: 0.1767939290517675 and parameters: {'diag': 0.03228793261316656, 'lr': 0.021062639501854753, 'lr_gd': 0.01199826899633394, 'alpha': 2.4000000000000004, 's': 1}. Best is trial 21 with value: 0.13139886844487364.\n",
      "[I 2024-02-10 02:18:59,334] Trial 33 finished with value: 0.1395694900239139 and parameters: {'diag': 0.06434246875469254, 'lr': 0.009384095023452664, 'lr_gd': 0.005529747155100327, 'alpha': 2.2, 's': 1}. Best is trial 21 with value: 0.13139886844487364.\n",
      "[I 2024-02-10 02:19:16,997] Trial 34 finished with value: 0.15849031863011537 and parameters: {'diag': 0.019498097312964972, 'lr': 0.004416386029931438, 'lr_gd': 0.02487450112597454, 'alpha': 2.6, 's': 0}. Best is trial 21 with value: 0.13139886844487364.\n",
      "[I 2024-02-10 02:19:34,773] Trial 35 finished with value: 0.13592889540975542 and parameters: {'diag': 0.09662848848557326, 'lr': 0.01415169244393473, 'lr_gd': 0.013995525819635576, 'alpha': 1.6, 's': 1}. Best is trial 21 with value: 0.13139886844487364.\n",
      "[I 2024-02-10 02:19:52,590] Trial 36 finished with value: 0.2325568987862962 and parameters: {'diag': 0.010172700455035514, 'lr': 0.040948030656218964, 'lr_gd': 0.015578820489819257, 'alpha': 1.6, 's': 1}. Best is trial 21 with value: 0.13139886844487364.\n",
      "[I 2024-02-10 02:20:10,364] Trial 37 finished with value: 0.312986765702641 and parameters: {'diag': 0.005273282881007462, 'lr': 0.16713719704925964, 'lr_gd': 0.004185756715707719, 'alpha': 1.2000000000000002, 's': 0.5}. Best is trial 21 with value: 0.13139886844487364.\n",
      "[I 2024-02-10 02:20:28,123] Trial 38 finished with value: 0.4128093302795298 and parameters: {'diag': 0.0010724508998481636, 'lr': 0.008501652110768145, 'lr_gd': 0.006808159714440348, 'alpha': 0.2, 's': 0}. Best is trial 21 with value: 0.13139886844487364.\n",
      "[I 2024-02-10 02:20:45,948] Trial 39 finished with value: 0.9327523619589482 and parameters: {'diag': 0.00010720419559819695, 'lr': 0.002413848873027583, 'lr_gd': 0.0034020554808842744, 'alpha': 2.8000000000000003, 's': 1}. Best is trial 21 with value: 0.13139886844487364.\n",
      "[I 2024-02-10 02:21:03,673] Trial 40 finished with value: 0.18635898991857663 and parameters: {'diag': 0.03293040870132565, 'lr': 0.02710150522249837, 'lr_gd': 0.00922777209293465, 'alpha': 1.0, 's': 2}. Best is trial 21 with value: 0.13139886844487364.\n",
      "[I 2024-02-10 02:21:21,451] Trial 41 finished with value: 0.13242952986513332 and parameters: {'diag': 0.09666739770901968, 'lr': 0.015259665466016328, 'lr_gd': 0.013270799424841564, 'alpha': 2.0, 's': 1}. Best is trial 21 with value: 0.13139886844487364.\n",
      "[I 2024-02-10 02:21:39,214] Trial 42 finished with value: 0.15142948707750473 and parameters: {'diag': 0.06423379404923431, 'lr': 0.01591120061370294, 'lr_gd': 0.012733707711095025, 'alpha': 2.0, 's': 1}. Best is trial 21 with value: 0.13139886844487364.\n",
      "[I 2024-02-10 02:21:56,971] Trial 43 finished with value: 0.1503186515256225 and parameters: {'diag': 0.05118457134023721, 'lr': 0.005417715094832605, 'lr_gd': 0.026677547197352297, 'alpha': 1.6, 's': 1}. Best is trial 21 with value: 0.13139886844487364.\n",
      "[I 2024-02-10 02:22:14,834] Trial 44 finished with value: 0.13267650450977256 and parameters: {'diag': 0.0983788298996414, 'lr': 0.013683819114394048, 'lr_gd': 0.015450965546439627, 'alpha': 2.0, 's': 1}. Best is trial 21 with value: 0.13139886844487364.\n",
      "[I 2024-02-10 02:22:32,588] Trial 45 finished with value: 0.7575591641307617 and parameters: {'diag': 0.00021133843374285396, 'lr': 0.021532241319689976, 'lr_gd': 0.02076380391239411, 'alpha': 2.0, 's': 0.5}. Best is trial 21 with value: 0.13139886844487364.\n",
      "[I 2024-02-10 02:22:50,291] Trial 46 finished with value: 0.19930968491943699 and parameters: {'diag': 0.03941386556760267, 'lr': 0.04062111770769452, 'lr_gd': 0.00980602181196548, 'alpha': 1.8, 's': 1}. Best is trial 21 with value: 0.13139886844487364.\n",
      "[I 2024-02-10 02:23:08,133] Trial 47 finished with value: 0.13205174017872573 and parameters: {'diag': 0.07084494956437128, 'lr': 0.008415103450821266, 'lr_gd': 0.038934076871378745, 'alpha': 2.8000000000000003, 's': 1}. Best is trial 21 with value: 0.13139886844487364.\n",
      "[I 2024-02-10 02:23:25,884] Trial 48 finished with value: 0.14131074240657293 and parameters: {'diag': 0.0724759320736825, 'lr': 0.00883407848703699, 'lr_gd': 0.049888912361244014, 'alpha': 2.8000000000000003, 's': 1}. Best is trial 21 with value: 0.13139886844487364.\n",
      "[I 2024-02-10 02:23:43,611] Trial 49 finished with value: 0.16792165642726695 and parameters: {'diag': 0.02960645868711831, 'lr': 0.2577041163883572, 'lr_gd': 0.07295897382033034, 'alpha': 2.6, 's': 0}. Best is trial 21 with value: 0.13139886844487364.\n"
     ]
    }
   ],
   "source": [
    "# srf = build_train_srf(key, X_train, y_train, R=R, diag=1e-3, epochs=1000, lr=0.1, alpha=0.5, s=0.5, from_data=False, init_ls=False)[0]\n",
    "srf_study = run_hyperopt(\n",
    "    srf_cross_val, key, X_train, y_train, n_trials=50, R=R, epochs=1000, from_data=False, init_ls=False,\n",
    "    gd_params=lambda t: [t.kernel.transform.scale]\n",
    ")\n",
    "hparams[\"srf\"] = srf_study.best_params"
   ]
  },
  {
   "cell_type": "markdown",
   "metadata": {},
   "source": [
    "#### Mixture SRFR"
   ]
  },
  {
   "cell_type": "code",
   "execution_count": 26,
   "metadata": {},
   "outputs": [
    {
     "name": "stderr",
     "output_type": "stream",
     "text": [
      "[I 2024-02-08 22:11:43,016] A new study created in memory with name: no-name-7bc311cd-4955-44db-80ff-c99da633a8bc\n"
     ]
    },
    {
     "data": {
      "application/vnd.jupyter.widget-view+json": {
       "model_id": "8b4e223577604d93bdc07ddc0c9e699a",
       "version_major": 2,
       "version_minor": 0
      },
      "text/plain": [
       "  0%|          | 0/75 [00:00<?, ?it/s]"
      ]
     },
     "metadata": {},
     "output_type": "display_data"
    },
    {
     "name": "stdout",
     "output_type": "stream",
     "text": [
      "[I 2024-02-08 22:13:10,194] Trial 0 finished with value: 0.29708814141020995 and parameters: {'diag': 0.00015019678272494203, 'lr': 0.03756491583306538, 'lr_gd': 0.015119729641671504, 'alpha': 0.2, 'q': 6, 's': 0.5}. Best is trial 0 with value: 0.29708814141020995.\n",
      "[I 2024-02-08 22:14:10,353] Trial 1 finished with value: 0.105772653093206 and parameters: {'diag': 0.04731404978278705, 'lr': 0.05480265116019067, 'lr_gd': 0.022885965528919867, 'alpha': 0.0, 'q': 4, 's': 2}. Best is trial 1 with value: 0.105772653093206.\n",
      "[I 2024-02-08 22:15:08,263] Trial 2 finished with value: 0.10921101058790646 and parameters: {'diag': 0.0431121824389674, 'lr': 0.0022317891736973704, 'lr_gd': 0.02858769325631335, 'alpha': 0.6000000000000001, 'q': 4, 's': 1}. Best is trial 1 with value: 0.105772653093206.\n",
      "[I 2024-02-08 22:16:06,057] Trial 3 finished with value: 0.17987110966248598 and parameters: {'diag': 0.0001244545364431794, 'lr': 0.3604268753918517, 'lr_gd': 0.07422693852055715, 'alpha': 0.8, 'q': 4, 's': 2}. Best is trial 1 with value: 0.105772653093206.\n",
      "[I 2024-02-08 22:18:54,702] Trial 4 finished with value: 0.2139352769060129 and parameters: {'diag': 0.0005097506400932363, 'lr': 0.007718926087693461, 'lr_gd': 0.009559523108033291, 'alpha': 0.4, 'q': 10, 's': 2}. Best is trial 1 with value: 0.105772653093206.\n",
      "[I 2024-02-08 22:21:42,951] Trial 5 finished with value: 0.15698081243712045 and parameters: {'diag': 0.0006486287360979114, 'lr': 0.19750720102761052, 'lr_gd': 0.14802253450345337, 'alpha': 1.0, 'q': 10, 's': 0.5}. Best is trial 1 with value: 0.105772653093206.\n",
      "[I 2024-02-08 22:24:31,246] Trial 6 finished with value: 0.10680050295303516 and parameters: {'diag': 0.012974137494029538, 'lr': 0.004268322187307804, 'lr_gd': 0.019302896514984756, 'alpha': 0.4, 'q': 10, 's': 2}. Best is trial 1 with value: 0.105772653093206.\n",
      "[I 2024-02-08 22:25:57,647] Trial 7 finished with value: 0.12663011911746716 and parameters: {'diag': 0.008576493095990284, 'lr': 0.0013793655217074995, 'lr_gd': 0.011743625300549959, 'alpha': 0.0, 'q': 6, 's': 1}. Best is trial 1 with value: 0.105772653093206.\n",
      "[I 2024-02-08 22:28:46,103] Trial 8 finished with value: 0.09950910065234805 and parameters: {'diag': 0.01929578820957832, 'lr': 0.059453254775486825, 'lr_gd': 0.021172182497780783, 'alpha': 0.0, 'q': 10, 's': 1}. Best is trial 8 with value: 0.09950910065234805.\n",
      "[I 2024-02-08 22:29:44,938] Trial 9 finished with value: 0.09755210248705007 and parameters: {'diag': 0.032601783451048916, 'lr': 0.24997259712940667, 'lr_gd': 0.10657929952961721, 'alpha': 0.6000000000000001, 'q': 4, 's': 1}. Best is trial 9 with value: 0.09755210248705007.\n",
      "[I 2024-02-08 22:30:23,356] Trial 10 finished with value: 0.17815104538900658 and parameters: {'diag': 0.0034928952838011946, 'lr': 0.1520025346563699, 'lr_gd': 0.001613453768139646, 'alpha': 0.8, 'q': 2, 's': 0}. Best is trial 9 with value: 0.09755210248705007.\n",
      "[I 2024-02-08 22:32:28,351] Trial 11 finished with value: 0.10336371591290497 and parameters: {'diag': 0.017245913056968657, 'lr': 0.07956482033646016, 'lr_gd': 0.3095118611666221, 'alpha': 0.6000000000000001, 'q': 8, 's': 1}. Best is trial 9 with value: 0.09755210248705007.\n",
      "[I 2024-02-08 22:34:31,722] Trial 12 finished with value: 0.11279843312650703 and parameters: {'diag': 0.099047456025746, 'lr': 0.030051905981983835, 'lr_gd': 0.0031567078583463488, 'alpha': 0.2, 'q': 8, 's': 1}. Best is trial 9 with value: 0.09755210248705007.\n",
      "[I 2024-02-08 22:35:49,897] Trial 13 finished with value: 0.20912436374330187 and parameters: {'diag': 0.0031506063799854327, 'lr': 0.015493061107218093, 'lr_gd': 0.0742026425064678, 'alpha': 0.2, 'q': 2, 's': 1}. Best is trial 9 with value: 0.09755210248705007.\n",
      "[I 2024-02-08 22:37:52,444] Trial 14 finished with value: 0.1238322060640201 and parameters: {'diag': 0.005478929118868189, 'lr': 0.11754856333448492, 'lr_gd': 0.05825366980780054, 'alpha': 0.8, 'q': 8, 's': 0}. Best is trial 9 with value: 0.09755210248705007.\n",
      "[I 2024-02-08 22:38:50,917] Trial 15 finished with value: 0.0909893568806553 and parameters: {'diag': 0.028063452496796277, 'lr': 0.3596566997147329, 'lr_gd': 0.35959157620419474, 'alpha': 0.4, 'q': 4, 's': 1}. Best is trial 15 with value: 0.0909893568806553.\n",
      "[I 2024-02-08 22:39:49,465] Trial 16 finished with value: 0.09114977420434801 and parameters: {'diag': 0.04042792862676734, 'lr': 0.3973770428353927, 'lr_gd': 0.396705156818873, 'alpha': 0.6000000000000001, 'q': 4, 's': 1}. Best is trial 15 with value: 0.0909893568806553.\n",
      "[I 2024-02-08 22:41:07,351] Trial 17 finished with value: 0.10104395337339764 and parameters: {'diag': 0.09722091460866233, 'lr': 0.37407930167489584, 'lr_gd': 0.3550992775877508, 'alpha': 0.4, 'q': 2, 's': 1}. Best is trial 15 with value: 0.0909893568806553.\n",
      "[I 2024-02-08 22:42:33,010] Trial 18 finished with value: 0.19365233173362967 and parameters: {'diag': 0.0010856857572432198, 'lr': 0.01566997333087389, 'lr_gd': 0.19572845622516793, 'alpha': 1.0, 'q': 6, 's': 0}. Best is trial 15 with value: 0.0909893568806553.\n",
      "[I 2024-02-08 22:43:31,450] Trial 19 finished with value: 0.15201486963871877 and parameters: {'diag': 0.0017446892742405981, 'lr': 0.11796585911744135, 'lr_gd': 0.2514091061559381, 'alpha': 0.6000000000000001, 'q': 4, 's': 0.5}. Best is trial 15 with value: 0.0909893568806553.\n",
      "[I 2024-02-08 22:44:50,356] Trial 20 finished with value: 0.10550634246953092 and parameters: {'diag': 0.0296878905625852, 'lr': 0.20651697978593253, 'lr_gd': 0.04135888729997627, 'alpha': 0.4, 'q': 2, 's': 1}. Best is trial 15 with value: 0.0909893568806553.\n",
      "[I 2024-02-08 22:45:48,533] Trial 21 finished with value: 0.09114280674021283 and parameters: {'diag': 0.04642802153991737, 'lr': 0.35170559053419226, 'lr_gd': 0.11378343613943818, 'alpha': 0.6000000000000001, 'q': 4, 's': 1}. Best is trial 15 with value: 0.0909893568806553.\n",
      "[I 2024-02-08 22:46:46,949] Trial 22 finished with value: 0.08971375264895673 and parameters: {'diag': 0.057654098110653015, 'lr': 0.392136143894836, 'lr_gd': 0.3639034747083697, 'alpha': 0.8, 'q': 4, 's': 1}. Best is trial 22 with value: 0.08971375264895673.\n",
      "[I 2024-02-08 22:48:13,012] Trial 23 finished with value: 0.09552674869778467 and parameters: {'diag': 0.06708895121133503, 'lr': 0.1011673654484995, 'lr_gd': 0.14153349915904528, 'alpha': 0.8, 'q': 6, 's': 1}. Best is trial 22 with value: 0.08971375264895673.\n",
      "[I 2024-02-08 22:49:11,577] Trial 24 finished with value: 0.0984828561031678 and parameters: {'diag': 0.01113614815291773, 'lr': 0.2843195530240659, 'lr_gd': 0.20139431701657257, 'alpha': 0.8, 'q': 4, 's': 1}. Best is trial 22 with value: 0.08971375264895673.\n",
      "[I 2024-02-08 22:50:37,902] Trial 25 finished with value: 0.09565836427704574 and parameters: {'diag': 0.026609198323475417, 'lr': 0.16789781836894993, 'lr_gd': 0.10698139165675447, 'alpha': 1.0, 'q': 6, 's': 1}. Best is trial 22 with value: 0.08971375264895673.\n",
      "[I 2024-02-08 22:51:56,005] Trial 26 finished with value: 0.12015043814754071 and parameters: {'diag': 0.0072548923397987965, 'lr': 0.2368886604464018, 'lr_gd': 0.23095689074363368, 'alpha': 0.4, 'q': 2, 's': 1}. Best is trial 22 with value: 0.08971375264895673.\n",
      "[I 2024-02-08 22:52:54,117] Trial 27 finished with value: 0.09304270828437367 and parameters: {'diag': 0.06485436652660767, 'lr': 0.06744542866266526, 'lr_gd': 0.3956208160527739, 'alpha': 0.6000000000000001, 'q': 4, 's': 0.5}. Best is trial 22 with value: 0.08971375264895673.\n",
      "[I 2024-02-08 22:54:20,201] Trial 28 finished with value: 0.12817689766871673 and parameters: {'diag': 0.016088737586888453, 'lr': 0.008535699000973859, 'lr_gd': 0.14398696927769514, 'alpha': 0.2, 'q': 6, 's': 0}. Best is trial 22 with value: 0.08971375264895673.\n",
      "[I 2024-02-08 22:55:18,557] Trial 29 finished with value: 0.2964720678904874 and parameters: {'diag': 0.0002585746184683695, 'lr': 0.04010762946459348, 'lr_gd': 0.006222266768006124, 'alpha': 0.8, 'q': 4, 's': 0.5}. Best is trial 22 with value: 0.08971375264895673.\n",
      "[I 2024-02-08 22:56:36,497] Trial 30 finished with value: 0.1141928083319356 and parameters: {'diag': 0.06346218939331584, 'lr': 0.14393714024360804, 'lr_gd': 0.03887558646998504, 'alpha': 0.4, 'q': 2, 's': 1}. Best is trial 22 with value: 0.08971375264895673.\n",
      "[I 2024-02-08 22:57:34,644] Trial 31 finished with value: 0.09566923362777884 and parameters: {'diag': 0.03741452749580712, 'lr': 0.3978003605956457, 'lr_gd': 0.382612775269982, 'alpha': 0.6000000000000001, 'q': 4, 's': 1}. Best is trial 22 with value: 0.08971375264895673.\n",
      "[I 2024-02-08 22:58:33,191] Trial 32 finished with value: 0.09207581625397263 and parameters: {'diag': 0.020959803692860483, 'lr': 0.2663698476450753, 'lr_gd': 0.24883779199805295, 'alpha': 0.6000000000000001, 'q': 4, 's': 1}. Best is trial 22 with value: 0.08971375264895673.\n",
      "[I 2024-02-08 22:59:59,250] Trial 33 finished with value: 0.08802915915885526 and parameters: {'diag': 0.05303029465427649, 'lr': 0.3981950212841493, 'lr_gd': 0.16726349027986145, 'alpha': 0.6000000000000001, 'q': 6, 's': 1}. Best is trial 33 with value: 0.08802915915885526.\n",
      "[I 2024-02-08 23:01:25,351] Trial 34 finished with value: 0.09344159811947399 and parameters: {'diag': 0.05725934341417828, 'lr': 0.29562022402362825, 'lr_gd': 0.08933694573683015, 'alpha': 0.8, 'q': 6, 's': 2}. Best is trial 33 with value: 0.08802915915885526.\n",
      "[I 2024-02-08 23:03:27,693] Trial 35 finished with value: 0.09440298334509334 and parameters: {'diag': 0.047209770947994195, 'lr': 0.09336031738981332, 'lr_gd': 0.165566738385313, 'alpha': 0.6000000000000001, 'q': 8, 's': 1}. Best is trial 33 with value: 0.08802915915885526.\n",
      "[I 2024-02-08 23:04:25,944] Trial 36 finished with value: 0.10186996090576157 and parameters: {'diag': 0.09268722612001455, 'lr': 0.18543271834025774, 'lr_gd': 0.04976585617800058, 'alpha': 0.4, 'q': 4, 's': 1}. Best is trial 33 with value: 0.08802915915885526.\n",
      "[I 2024-02-08 23:05:52,218] Trial 37 finished with value: 0.09414448901849023 and parameters: {'diag': 0.02346746014573895, 'lr': 0.3058390552187657, 'lr_gd': 0.2757840735190463, 'alpha': 1.0, 'q': 6, 's': 2}. Best is trial 33 with value: 0.08802915915885526.\n",
      "[I 2024-02-08 23:07:18,281] Trial 38 finished with value: 0.09345868442659543 and parameters: {'diag': 0.04603918243037761, 'lr': 0.041401404945599365, 'lr_gd': 0.12104202898732962, 'alpha': 0.8, 'q': 6, 's': 1}. Best is trial 33 with value: 0.08802915915885526.\n",
      "[I 2024-02-08 23:08:17,153] Trial 39 finished with value: 0.10554718877790978 and parameters: {'diag': 0.011494068811339972, 'lr': 0.19943566379113845, 'lr_gd': 0.028750262134884637, 'alpha': 0.4, 'q': 4, 's': 0.5}. Best is trial 33 with value: 0.08802915915885526.\n",
      "[I 2024-02-08 23:09:15,423] Trial 40 finished with value: 0.10888015827709963 and parameters: {'diag': 0.03210856213328209, 'lr': 0.0031762146198101742, 'lr_gd': 0.07202323384117655, 'alpha': 0.6000000000000001, 'q': 4, 's': 2}. Best is trial 33 with value: 0.08802915915885526.\n",
      "[I 2024-02-08 23:10:13,801] Trial 41 finished with value: 0.08891774141072455 and parameters: {'diag': 0.04578926465901459, 'lr': 0.3741229529983633, 'lr_gd': 0.1864755730618891, 'alpha': 0.6000000000000001, 'q': 4, 's': 1}. Best is trial 33 with value: 0.08802915915885526.\n",
      "[I 2024-02-08 23:11:12,238] Trial 42 finished with value: 0.10173649943378119 and parameters: {'diag': 0.07619395993504847, 'lr': 0.2943743272614083, 'lr_gd': 0.17126183167593464, 'alpha': 0.6000000000000001, 'q': 4, 's': 1}. Best is trial 33 with value: 0.08802915915885526.\n",
      "[I 2024-02-08 23:12:10,611] Trial 43 finished with value: 0.09232108236559475 and parameters: {'diag': 0.049626804315499484, 'lr': 0.14578230262946465, 'lr_gd': 0.2973973485368586, 'alpha': 0.4, 'q': 4, 's': 1}. Best is trial 33 with value: 0.08802915915885526.\n",
      "[I 2024-02-08 23:13:28,595] Trial 44 finished with value: 0.1031098531969215 and parameters: {'diag': 0.02518573118372993, 'lr': 0.22392651637576508, 'lr_gd': 0.20748874852303886, 'alpha': 0.8, 'q': 2, 's': 1}. Best is trial 33 with value: 0.08802915915885526.\n",
      "[I 2024-02-08 23:14:26,774] Trial 45 finished with value: 0.09114029916405503 and parameters: {'diag': 0.039766774075235774, 'lr': 0.38823540413607954, 'lr_gd': 0.09249151157348788, 'alpha': 0.6000000000000001, 'q': 4, 's': 1}. Best is trial 33 with value: 0.08802915915885526.\n",
      "[I 2024-02-08 23:15:53,152] Trial 46 finished with value: 0.09353775459815336 and parameters: {'diag': 0.015057651827962202, 'lr': 0.238591445578008, 'lr_gd': 0.085220200763697, 'alpha': 0.2, 'q': 6, 's': 1}. Best is trial 33 with value: 0.08802915915885526.\n",
      "[I 2024-02-08 23:17:55,593] Trial 47 finished with value: 0.10383884419812386 and parameters: {'diag': 0.00832577136413897, 'lr': 0.39515583788755226, 'lr_gd': 0.2730631091168876, 'alpha': 0.6000000000000001, 'q': 8, 's': 0}. Best is trial 33 with value: 0.08802915915885526.\n",
      "[I 2024-02-08 23:18:54,248] Trial 48 finished with value: 0.11170858057640651 and parameters: {'diag': 0.03469986727435791, 'lr': 0.1218741602475287, 'lr_gd': 0.0010136557788168591, 'alpha': 0.8, 'q': 4, 's': 1}. Best is trial 33 with value: 0.08802915915885526.\n",
      "[I 2024-02-08 23:20:11,989] Trial 49 finished with value: 0.26009131610250613 and parameters: {'diag': 0.00020604173149669537, 'lr': 0.16763599154537978, 'lr_gd': 0.014782968701967106, 'alpha': 0.4, 'q': 2, 's': 1}. Best is trial 33 with value: 0.08802915915885526.\n",
      "[I 2024-02-08 23:21:37,551] Trial 50 finished with value: 0.1333744479323373 and parameters: {'diag': 0.00459624099355782, 'lr': 0.0010979254005392008, 'lr_gd': 0.00717836067996056, 'alpha': 0.6000000000000001, 'q': 6, 's': 1}. Best is trial 33 with value: 0.08802915915885526.\n",
      "[I 2024-02-08 23:22:35,710] Trial 51 finished with value: 0.08817882383490089 and parameters: {'diag': 0.048713780817536835, 'lr': 0.3169233703441837, 'lr_gd': 0.12617139924715398, 'alpha': 0.6000000000000001, 'q': 4, 's': 1}. Best is trial 33 with value: 0.08802915915885526.\n",
      "[I 2024-02-08 23:23:33,660] Trial 52 finished with value: 0.10185040361456114 and parameters: {'diag': 0.0753144701191378, 'lr': 0.30952728115895334, 'lr_gd': 0.14284561801812462, 'alpha': 0.6000000000000001, 'q': 4, 's': 1}. Best is trial 33 with value: 0.08802915915885526.\n",
      "[I 2024-02-08 23:24:31,920] Trial 53 finished with value: 0.0933608365637574 and parameters: {'diag': 0.020085688792096566, 'lr': 0.22734505627856838, 'lr_gd': 0.18455026331442875, 'alpha': 0.6000000000000001, 'q': 4, 's': 1}. Best is trial 33 with value: 0.08802915915885526.\n",
      "[I 2024-02-08 23:25:30,066] Trial 54 finished with value: 0.09263612462492954 and parameters: {'diag': 0.04097308343223806, 'lr': 0.322931031862561, 'lr_gd': 0.3137283161405985, 'alpha': 0.4, 'q': 4, 's': 1}. Best is trial 33 with value: 0.08802915915885526.\n",
      "[I 2024-02-08 23:26:28,137] Trial 55 finished with value: 0.09196802078367443 and parameters: {'diag': 0.054496060679171524, 'lr': 0.3948297619338834, 'lr_gd': 0.0927114874544114, 'alpha': 0.8, 'q': 4, 's': 1}. Best is trial 33 with value: 0.08802915915885526.\n",
      "[I 2024-02-08 23:27:46,170] Trial 56 finished with value: 0.11162083268999537 and parameters: {'diag': 0.03067049862533432, 'lr': 0.26778061502436307, 'lr_gd': 0.12614262938314016, 'alpha': 0.0, 'q': 2, 's': 2}. Best is trial 33 with value: 0.08802915915885526.\n",
      "[I 2024-02-08 23:29:12,032] Trial 57 finished with value: 0.09948339921602953 and parameters: {'diag': 0.0830065586134875, 'lr': 0.0069429249239390985, 'lr_gd': 0.057619169615534434, 'alpha': 0.6000000000000001, 'q': 6, 's': 1}. Best is trial 33 with value: 0.08802915915885526.\n",
      "[I 2024-02-08 23:31:59,999] Trial 58 finished with value: 0.09902752000231099 and parameters: {'diag': 0.05853902177678157, 'lr': 0.03018392317490944, 'lr_gd': 0.21638264334443227, 'alpha': 1.0, 'q': 10, 's': 0}. Best is trial 33 with value: 0.08802915915885526.\n",
      "[I 2024-02-08 23:32:58,278] Trial 59 finished with value: 0.13563126431113792 and parameters: {'diag': 0.0014949382291992803, 'lr': 0.1736356140851367, 'lr_gd': 0.3222188103197142, 'alpha': 0.4, 'q': 4, 's': 1}. Best is trial 33 with value: 0.08802915915885526.\n",
      "[I 2024-02-08 23:34:24,426] Trial 60 finished with value: 0.08974388859181673 and parameters: {'diag': 0.03732165277715062, 'lr': 0.1312850041501315, 'lr_gd': 0.16397491189077268, 'alpha': 0.6000000000000001, 'q': 6, 's': 0.5}. Best is trial 33 with value: 0.08802915915885526.\n",
      "[I 2024-02-08 23:35:50,667] Trial 61 finished with value: 0.09455328263308019 and parameters: {'diag': 0.0371808582397475, 'lr': 0.33910093259262347, 'lr_gd': 0.1651097807517917, 'alpha': 0.6000000000000001, 'q': 6, 's': 0.5}. Best is trial 33 with value: 0.08802915915885526.\n",
      "[I 2024-02-08 23:37:53,585] Trial 62 finished with value: 0.09176352435710697 and parameters: {'diag': 0.02397459501822462, 'lr': 0.21567218882110878, 'lr_gd': 0.23529722572302672, 'alpha': 0.6000000000000001, 'q': 8, 's': 0.5}. Best is trial 33 with value: 0.08802915915885526.\n",
      "[I 2024-02-08 23:39:20,416] Trial 63 finished with value: 0.09665728669338122 and parameters: {'diag': 0.014496295191748342, 'lr': 0.13803458847465486, 'lr_gd': 0.06973197322956427, 'alpha': 0.6000000000000001, 'q': 6, 's': 0.5}. Best is trial 33 with value: 0.08802915915885526.\n",
      "[I 2024-02-08 23:40:46,623] Trial 64 finished with value: 0.10211993409202849 and parameters: {'diag': 0.09881239737058695, 'lr': 0.3272994342263026, 'lr_gd': 0.10377492026058764, 'alpha': 0.8, 'q': 6, 's': 0.5}. Best is trial 33 with value: 0.08802915915885526.\n",
      "[I 2024-02-08 23:41:45,163] Trial 65 finished with value: 0.09325045711180244 and parameters: {'diag': 0.029330968361585365, 'lr': 0.25519016973408515, 'lr_gd': 0.3453060775783215, 'alpha': 0.4, 'q': 4, 's': 1}. Best is trial 33 with value: 0.08802915915885526.\n",
      "[I 2024-02-08 23:42:44,603] Trial 66 finished with value: 0.09906420314254387 and parameters: {'diag': 0.07164601854598594, 'lr': 0.07952617579774686, 'lr_gd': 0.12682936917320134, 'alpha': 0.6000000000000001, 'q': 4, 's': 0.5}. Best is trial 33 with value: 0.08802915915885526.\n",
      "[I 2024-02-08 23:44:02,836] Trial 67 finished with value: 0.1061462854329912 and parameters: {'diag': 0.01849386067458862, 'lr': 0.1894602279726011, 'lr_gd': 0.19316230777094626, 'alpha': 0.8, 'q': 2, 's': 1}. Best is trial 33 with value: 0.08802915915885526.\n",
      "[I 2024-02-08 23:45:28,721] Trial 68 finished with value: 0.09029117177782275 and parameters: {'diag': 0.04379383298766885, 'lr': 0.39689827797702115, 'lr_gd': 0.15390589666728352, 'alpha': 0.4, 'q': 6, 's': 1}. Best is trial 33 with value: 0.08802915915885526.\n",
      "[I 2024-02-08 23:46:54,868] Trial 69 finished with value: 0.09458227851840864 and parameters: {'diag': 0.05516811161906457, 'lr': 0.269931092360558, 'lr_gd': 0.258992852379127, 'alpha': 0.2, 'q': 6, 's': 0}. Best is trial 33 with value: 0.08802915915885526.\n",
      "[I 2024-02-08 23:48:57,811] Trial 70 finished with value: 0.20350057135792393 and parameters: {'diag': 0.0006215444463663416, 'lr': 0.09433533994401204, 'lr_gd': 0.0034684631862701466, 'alpha': 0.4, 'q': 8, 's': 1}. Best is trial 33 with value: 0.08802915915885526.\n",
      "[I 2024-02-08 23:50:24,473] Trial 71 finished with value: 0.08631239834963658 and parameters: {'diag': 0.04158413731186824, 'lr': 0.342489358101857, 'lr_gd': 0.15121439497743513, 'alpha': 0.4, 'q': 6, 's': 1}. Best is trial 71 with value: 0.08631239834963658.\n",
      "[I 2024-02-08 23:51:50,608] Trial 72 finished with value: 0.09260902923558763 and parameters: {'diag': 0.04215461305388292, 'lr': 0.3286182880460243, 'lr_gd': 0.1453035508092418, 'alpha': 0.4, 'q': 6, 's': 1}. Best is trial 71 with value: 0.08631239834963658.\n",
      "[I 2024-02-08 23:53:16,625] Trial 73 finished with value: 0.09322882737473188 and parameters: {'diag': 0.06701018772696173, 'lr': 0.25412671295826844, 'lr_gd': 0.17749355302513636, 'alpha': 0.4, 'q': 6, 's': 1}. Best is trial 71 with value: 0.08631239834963658.\n",
      "[I 2024-02-08 23:54:42,681] Trial 74 finished with value: 0.09453904696947699 and parameters: {'diag': 0.051234577212974315, 'lr': 0.3349052682028476, 'lr_gd': 0.24079718791162968, 'alpha': 0.4, 'q': 6, 's': 1}. Best is trial 71 with value: 0.08631239834963658.\n"
     ]
    }
   ],
   "source": [
    "# mix_rff = build_train_mix_rff(\n",
    "#     key, X_train, y_train, diag=1e-2, q=5, R=100, alpha=1.4, lr=0.1, from_data=False, epochs=1000, init_ls=False\n",
    "# )[0]\n",
    "prior = TFTarget(tfd.Normal(jnp.zeros(d), jnp.ones(d) * 3))\n",
    "mix_rff_study = run_hyperopt(\n",
    "    mix_rff_cross_val, key, X_train, y_train, n_trials=75, R=R, epochs=1000, from_data=False, prior=prior,\n",
    "    gd_params=lambda t: [t.kernel.transform.scale], init_ls=False\n",
    ")"
   ]
  },
  {
   "cell_type": "markdown",
   "metadata": {},
   "source": [
    "#### Nonstationary GP"
   ]
  },
  {
   "cell_type": "code",
   "execution_count": null,
   "metadata": {},
   "outputs": [],
   "source": [
    "# build_train_nrff(key, X_train, y_train, R=100, diag=1e-4, epochs=1000, lr=0.01, from_data=False, init_ls=False)\n",
    "nrff_study = run_hyperopt(\n",
    "    nrff_cross_val, key, X_train, y_train, n_trials=n_trials, R=R, from_data=False, epochs=1000, init_ls=False\n",
    ")\n",
    "hparams[\"nrff\"] = nrff_study.best_params"
   ]
  },
  {
   "cell_type": "markdown",
   "metadata": {},
   "source": [
    "#### Nonstationary Mixture SRFR"
   ]
  },
  {
   "cell_type": "code",
   "execution_count": null,
   "metadata": {},
   "outputs": [],
   "source": [
    "# build_train_nmix_rff(\n",
    "#     key, X_train, y_train, q=5, R=100, diag=1e-4, alpha=0.5, epochs=10, lr=0.01, from_data=False, init_ls=False\n",
    "# )\n",
    "nmix_rff = run_hyperopt(\n",
    "    nmix_cross_val, key, X_train, y_train, n_trials=75, R=R, from_data=False, epochs=1000, init_ls=False\n",
    ")\n",
    "hparams[\"nmix_rff\"] = nmix_rff.best_params"
   ]
  },
  {
   "cell_type": "markdown",
   "metadata": {},
   "source": [
    "## Define and Run Experiment"
   ]
  },
  {
   "cell_type": "markdown",
   "metadata": {},
   "source": [
    "### Definition"
   ]
  },
  {
   "cell_type": "code",
   "execution_count": 9,
   "metadata": {},
   "outputs": [],
   "source": [
    "def experiment_run(exp_key, X, y, scaler, params, R, restarts=1):    \n",
    "    # split data\n",
    "    X_tr, X_test, y_tr, y_test = train_test_split(X, y, test_size=0.2, random_state=int(exp_key[0]))\n",
    "    X_tr, X_test, y_tr, y_test = jnp.array(X_tr), jnp.array(X_test), jnp.array(y_tr), jnp.array(y_test)\n",
    "\n",
    "    ############ ORF ############\n",
    "    # orf_gp, _, _ = build_train_orf(exp_key, X_tr, y_tr, R=R, **params[\"orf\"])\n",
    "    # orf_preds, orf_sd = orf_gp.condition(y_tr, X_test)\n",
    "    # orf_metrics = metric_model(y_test, orf_preds, orf_sd, scaler=scaler)\n",
    "\n",
    "    ############ SVGP ############\n",
    "    svgp, _ = build_train_svgp(exp_key, X_tr, y_tr, R=R, **params[\"svgp\"])\n",
    "    svgp_preds, svgp_sd = svgp_predict(svgp, X_test)\n",
    "    svgp_metrics = metric_model(y_test, svgp_preds, svgp_sd, scaler=scaler)\n",
    "\n",
    "    ############ RFF RBF ############\n",
    "    rff_rbf_gp, _ = build_train_rff_rbf(exp_key, X_tr, y_tr, R=R, restarts=restarts, **params[\"rff_rbf\"])\n",
    "    rff_rbf_preds, rff_rbf_sd = rff_rbf_gp.condition(y_tr, X_test)\n",
    "    rff_rbf_metrics = metric_model(y_test, rff_rbf_preds, rff_rbf_sd, scaler=scaler)\n",
    "\n",
    "    ############ RFF ############\n",
    "    rff_gp, _ = build_train_rff(exp_key, X_tr, y_tr, R=R, restarts=restarts, **params[\"rff\"])\n",
    "    rff_preds, rff_sd = rff_gp.condition(y_tr, X_test)\n",
    "    rff_metrics = metric_model(y_test, rff_preds, rff_sd, scaler=scaler)\n",
    "\n",
    "    ############ RFF-Q ############\n",
    "    # RFF with the equilvalent number of R as the computational complexity of the mixture.\n",
    "    q = params[\"mix_rff\"][\"q\"]\n",
    "    R_equiv_q = int((q * R**3)**(1/3))\n",
    "    qrff_gp, _ = build_train_rff(exp_key, X_tr, y_tr, R=R_equiv_q, restarts=restarts, **params[\"rff\"])\n",
    "    qrff_preds, qrff_sd = qrff_gp.condition(y_tr, X_test)\n",
    "    qrff_metrics = metric_model(y_test, qrff_preds, qrff_sd, scaler=scaler)\n",
    "\n",
    "    ############ SRF ############\n",
    "    srf_gp, _ = build_train_srf(exp_key, X_tr, y_tr, R=R, restarts=restarts, **params[\"srf\"])\n",
    "    srf_preds, srf_sd = srf_gp.condition(y_tr, X_test)\n",
    "    srf_metrics = metric_model(y_test, srf_preds, srf_sd, scaler=scaler)\n",
    "\n",
    "    ############ NRFF ############\n",
    "    # nrff_gp, _ = build_train_nrff(exp_key, X_tr, y_tr, R=R, restarts=restarts, **params[\"nrff\"])\n",
    "    # nrff_preds, nrff_sd = nrff_gp.condition(y_tr, X_test)\n",
    "    # nrff_metrics = metric_model(y_test, nrff_preds, nrff_sd, scaler=scaler)\n",
    "\n",
    "    ############ MIX ############\n",
    "    mix_gp, _ = build_train_mix_rff(exp_key, X_tr, y_tr, R=R, restarts=restarts, **params[\"mix_rff\"])\n",
    "    mix_preds, mix_sd = mix_gp.condition(exp_key, y_tr, X_test)\n",
    "    mix_metrics = metric_model(y_test, mix_preds, mix_sd, scaler=scaler)\n",
    "\n",
    "    # # ############ NMIX ############\n",
    "    # nmix_rff_gp, _ = build_train_nsrf(exp_key, X_tr, y_tr, R=R, **params[\"nmix_rff\"])\n",
    "    # nmix_rff_preds, nmix_rff_sd = nmix_rff_gp.condition(exp_key, y_tr, X_test)\n",
    "    # nmix_rff_metrics = metric_model(y_test, nmix_rff_preds, nmix_rff_sd, scaler=scaler)\n",
    "\n",
    "    metrics = {\n",
    "        \"seed\": exp_key[1],\n",
    "        \"svgp\": svgp_metrics,\n",
    "        \"rff_rbf\": rff_rbf_metrics,\n",
    "        \"rff\": rff_metrics,\n",
    "        \"qrff\": qrff_metrics,\n",
    "        \"srf\": srf_metrics,\n",
    "        # \"nrff\": nrff_metrics,\n",
    "        \"mix\": mix_metrics,\n",
    "        # \"nmix\": nmix_rff_metrics\n",
    "    }\n",
    "\n",
    "    return metrics"
   ]
  },
  {
   "cell_type": "code",
   "execution_count": 10,
   "metadata": {},
   "outputs": [],
   "source": [
    "def multi_run(multi_key, X, y, scaler, params, R, n_runs=10):\n",
    "    metrics = []\n",
    "    run_keys = jax.random.split(multi_key, n_runs)\n",
    "\n",
    "    for i in range(n_runs):\n",
    "        print(f\"Running experiment {i+1} of {n_runs}\")\n",
    "        run_res = experiment_run(run_keys[i], X, y, scaler, params, R)\n",
    "        metrics.append(run_res)\n",
    "        print(run_res)\n",
    "    \n",
    "    return metrics"
   ]
  },
  {
   "cell_type": "markdown",
   "metadata": {},
   "source": [
    "### Run"
   ]
  },
  {
   "cell_type": "code",
   "execution_count": 11,
   "metadata": {},
   "outputs": [],
   "source": [
    "# parameters\n",
    "KEY, subkey = jax.random.split(jax.random.PRNGKey(2024))\n",
    "params = {\n",
    "    \"svgp\": {'epochs': 1000, 'lr':  0.03943006189843416, 'diag': 0.01, 'from_data': False},  # not done\n",
    "    \"rff_rbf\": {'diag': 0.09557277712120715, 'lr': 0.3673756353254991, 'epochs': 1000, 'init_ls': False}, # done\n",
    "    \"rff\": {'diag': 0.08941600525463213, 'lr': 0.013028342062540154, 'epochs': 1000, 'from_data': False, 'init_ls': False},  # done\n",
    "    \"srf\": {\n",
    "        'diag': 0.09605792010056687, 'lr': 0.01821058468763105, 'lr_gd': 0.013285678053308094, 'alpha': 2.4, 's': 1,  # not done\n",
    "        'epochs': 1000, 'from_data': False, 'gd_params': lambda t: [t.kernel.transform.scale], 'init_ls': False\n",
    "    },\n",
    "    \"mix_rff\": {\n",
    "        'diag': 0.04158413731186824, 'lr': 0.342489358101857, 'lr_gd': 0.15121439497743513, 'alpha': 0.4, 'q': 6, 's': 1,  # done\n",
    "        'epochs': 1000, 'from_data': False, 'gd_params': lambda t: [t.kernel.transform.scale], 'init_ls': False,\n",
    "        'prior': TFTarget(tfd.Normal(jnp.zeros(d), jnp.ones(d) * 3))\n",
    "    },\n",
    "}"
   ]
  },
  {
   "cell_type": "code",
   "execution_count": 12,
   "metadata": {},
   "outputs": [
    {
     "name": "stdout",
     "output_type": "stream",
     "text": [
      "Running experiment 1 of 10\n",
      "{'seed': Array(3007921430, dtype=uint32), 'svgp': Array([ 4.06681940e+01,  4.93923481e+00,  9.66019452e-01, -3.70460195e-03],      dtype=float64), 'rff_rbf': Array([ 3.27686074e+01,  4.16276147e+00,  9.41747606e-01, -2.14048630e-03],      dtype=float64), 'rff': Array([1.74414914e+01, 3.00176125e+00, 9.56310689e-01, 5.36184370e-03],      dtype=float64), 'qrff': Array([1.71822282e+01, 2.85929268e+00, 9.66019452e-01, 7.47114638e-03],      dtype=float64), 'srf': Array([2.98831819e+01, 3.73473810e+00, 9.56310689e-01, 5.28508430e-03],      dtype=float64), 'mix': Array([1.47601628e+01, 2.81100518e+00, 9.70873773e-01, 1.71924147e-03],      dtype=float64)}\n",
      "Running experiment 2 of 10\n",
      "{'seed': Array(2158071644, dtype=uint32), 'svgp': Array([4.64786264e+01, 5.09141418e+00, 9.41747606e-01, 3.81034956e-03],      dtype=float64), 'rff_rbf': Array([ 3.52274302e+01,  4.49195611e+00,  9.32038844e-01, -4.87785340e-03],      dtype=float64), 'rff': Array([3.27948508e+01, 3.73795790e+00, 9.22330081e-01, 2.16844550e-03],      dtype=float64), 'qrff': Array([2.34932476e+01, 3.29147110e+00, 9.46601927e-01, 2.91828462e-03],      dtype=float64), 'srf': Array([ 3.01801970e+01,  3.97456233e+00,  9.46601927e-01, -2.37224830e-03],      dtype=float64), 'mix': Array([ 1.97689276e+01,  2.92131246e+00,  9.27184463e-01, -7.65955249e-04],      dtype=float64)}\n",
      "Running experiment 3 of 10\n",
      "{'seed': Array(1467386374, dtype=uint32), 'svgp': Array([ 3.72473246e+01,  4.71349370e+00,  9.66019452e-01, -3.74309269e-03],      dtype=float64), 'rff_rbf': Array([ 2.81723101e+01,  3.85449985e+00,  9.46601927e-01, -2.05727319e-03],      dtype=float64), 'rff': Array([2.08346678e+01, 3.32192746e+00, 9.70873773e-01, 3.25823788e-03],      dtype=float64), 'qrff': Array([1.87139950e+01, 3.20714087e+00, 9.61165071e-01, 1.77054018e-03],      dtype=float64), 'srf': Array([2.60205484e+01, 3.73273250e+00, 9.51456308e-01, 8.06481066e-03],      dtype=float64), 'mix': Array([ 1.53158168e+01,  2.78458165e+00,  9.56310689e-01, -4.98717981e-03],      dtype=float64)}\n",
      "Running experiment 4 of 10\n",
      "{'seed': Array(165929394, dtype=uint32), 'svgp': Array([3.86312460e+01, 4.65886880e+00, 9.61165071e-01, 1.77994826e-02],      dtype=float64), 'rff_rbf': Array([3.13615919e+01, 3.99093242e+00, 9.36893225e-01, 1.27792577e-02],      dtype=float64), 'rff': Array([2.52909900e+01, 3.37339225e+00, 9.51456308e-01, 1.36679730e-02],      dtype=float64), 'qrff': Array([27.12578344,  3.28040742,  0.94174761,  0.02875186], dtype=float64), 'srf': Array([2.81679196e+01, 3.55724508e+00, 9.46601927e-01, 1.73027057e-02],      dtype=float64), 'mix': Array([16.11274254,  2.69639966,  0.95145631,  0.01889639], dtype=float64)}\n",
      "Running experiment 5 of 10\n",
      "{'seed': Array(1594289240, dtype=uint32), 'svgp': Array([3.53400885e+01, 4.71680040e+00, 9.70873773e-01, 9.47211442e-04],      dtype=float64), 'rff_rbf': Array([3.71967259e+01, 4.54084517e+00, 9.02912617e-01, 1.03556804e-03],      dtype=float64), 'rff': Array([1.80487807e+01, 3.12232480e+00, 9.66019452e-01, 5.04756716e-03],      dtype=float64), 'qrff': Array([1.45242653e+01, 2.89886996e+00, 9.85436916e-01, 7.32238097e-04],      dtype=float64), 'srf': Array([2.16153914e+01, 3.42365010e+00, 9.70873773e-01, 3.11271145e-03],      dtype=float64), 'mix': Array([1.42363364e+01, 2.66534584e+00, 9.56310689e-01, 7.93001378e-03],      dtype=float64)}\n",
      "Running experiment 6 of 10\n",
      "{'seed': Array(1320423330, dtype=uint32), 'svgp': Array([4.27773796e+01, 5.05811280e+00, 9.56310689e-01, 5.70696620e-03],      dtype=float64), 'rff_rbf': Array([3.77069298e+01, 4.39154142e+00, 9.32038844e-01, 1.15168792e-02],      dtype=float64), 'rff': Array([ 3.19506583e+01,  3.93816196e+00,  8.98058236e-01, -1.76617679e-02],      dtype=float64), 'qrff': Array([ 3.33791279e+01,  3.89777131e+00,  9.27184463e-01, -1.05283687e-02],      dtype=float64), 'srf': Array([ 3.14799402e+01,  4.02199990e+00,  9.56310689e-01, -8.53628250e-03],      dtype=float64), 'mix': Array([ 1.95482346e+01,  3.01147159e+00,  9.56310689e-01, -3.23262615e-03],      dtype=float64)}\n",
      "Running experiment 7 of 10\n",
      "{'seed': Array(4018544872, dtype=uint32), 'svgp': Array([ 4.57251397e+01,  5.13670157e+00,  9.41747606e-01, -3.26972408e-02],      dtype=float64), 'rff_rbf': Array([ 4.83302529e+01,  5.02437527e+00,  9.02912617e-01, -9.54686712e-03],      dtype=float64), 'rff': Array([ 3.28246013e+01,  3.50307015e+00,  9.36893225e-01, -1.11582034e-02],      dtype=float64), 'qrff': Array([ 2.64464673e+01,  3.53394945e+00,  9.51456308e-01, -6.93299259e-03],      dtype=float64), 'srf': Array([ 4.07872503e+01,  4.24849488e+00,  9.51456308e-01, -2.26265533e-02],      dtype=float64), 'mix': Array([ 2.33577590e+01,  3.07720845e+00,  9.51456308e-01, -8.91528789e-03],      dtype=float64)}\n",
      "Running experiment 8 of 10\n",
      "{'seed': Array(614199572, dtype=uint32), 'svgp': Array([4.83637344e+01, 5.02752413e+00, 9.51456308e-01, 8.31891737e-03],      dtype=float64), 'rff_rbf': Array([3.54977041e+01, 4.11967421e+00, 9.51456308e-01, 1.75499145e-02],      dtype=float64), 'rff': Array([2.63177063e+01, 3.43498225e+00, 9.56310689e-01, 1.52921583e-02],      dtype=float64), 'qrff': Array([2.67766056e+01, 3.40630839e+00, 9.46601927e-01, 7.40614003e-03],      dtype=float64), 'srf': Array([3.51123823e+01, 4.02176426e+00, 9.36893225e-01, 2.13930986e-02],      dtype=float64), 'mix': Array([2.57279748e+01, 3.22643722e+00, 9.36893225e-01, 1.86325834e-02],      dtype=float64)}\n",
      "Running experiment 9 of 10\n",
      "{'seed': Array(1580435565, dtype=uint32), 'svgp': Array([ 4.79576982e+01,  5.14840351e+00,  9.66019452e-01, -4.24029428e-03],      dtype=float64), 'rff_rbf': Array([4.69221688e+01, 4.72086307e+00, 9.36893225e-01, 1.40833949e-03],      dtype=float64), 'rff': Array([ 2.88159044e+01,  3.91853300e+00,  9.46601927e-01, -7.52740429e-03],      dtype=float64), 'qrff': Array([ 2.77080283e+01,  3.53801540e+00,  9.51456308e-01, -2.62251374e-03],      dtype=float64), 'srf': Array([ 3.89507053e+01,  4.16526266e+00,  9.41747606e-01, -8.91139720e-04],      dtype=float64), 'mix': Array([ 2.13735900e+01,  3.14650105e+00,  9.46601927e-01, -5.20364396e-03],      dtype=float64)}\n",
      "Running experiment 10 of 10\n",
      "{'seed': Array(2847194475, dtype=uint32), 'svgp': Array([ 5.44284814e+01,  5.41769152e+00,  9.32038844e-01, -1.96222547e-02],      dtype=float64), 'rff_rbf': Array([ 4.02597848e+01,  4.62349433e+00,  9.22330081e-01, -2.07554524e-02],      dtype=float64), 'rff': Array([2.39177877e+01, 3.43566674e+00, 9.56310689e-01, 3.29507775e-03],      dtype=float64), 'qrff': Array([2.05401684e+01, 3.22129929e+00, 9.56310689e-01, 2.03116634e-03],      dtype=float64), 'srf': Array([ 2.61232447e+01,  3.75715647e+00,  9.56310689e-01, -8.62820876e-03],      dtype=float64), 'mix': Array([ 1.43284262e+01,  2.78751820e+00,  9.46601927e-01, -1.65559876e-03],      dtype=float64)}\n"
     ]
    }
   ],
   "source": [
    "# experiment_run(subkey, X_val, y_val, y_scaler, params, R)\n",
    "res = multi_run(KEY, X, y, y_scaler, params, R=100, n_runs=10)"
   ]
  },
  {
   "cell_type": "code",
   "execution_count": 14,
   "metadata": {},
   "outputs": [],
   "source": [
    "res_df = []\n",
    "for exp in res:\n",
    "    res_df.extend([[k, *v.tolist()] for k,v in exp.items() if k != \"seed\"])\n",
    "res_df = pd.DataFrame(res_df, columns=[\"model\", \"mse\", \"mae\", \"cal\", \"z\"])\n",
    "res_df.to_csv(\"results.csv\", index=False)"
   ]
  },
  {
   "cell_type": "markdown",
   "metadata": {},
   "source": [
    "## Evaluate"
   ]
  },
  {
   "cell_type": "code",
   "execution_count": 17,
   "metadata": {},
   "outputs": [],
   "source": [
    "res_df = pd.read_csv(\"results.csv\")\n",
    "\n",
    "names = {\n",
    "    \"rff\": \"RFF\",\n",
    "    \"nrff\": \"Nonstationary RFF\",\n",
    "    \"rff_rbf\": \"RFF-RBF\",\n",
    "    \"svgp\": \"Sparse VGP\",\n",
    "    \"srf\": \"Stein RFF\",\n",
    "    \"qrff\": \"RFF Equiv Mix Big-O\",\n",
    "    \"mix\": \"Stein Mixture RFF\",\n",
    "    \"nmix\": \"Nonstationary Stein Mixture RFF\",\n",
    "}\n",
    "\n",
    "res_df[\"model\"] = res_df[\"model\"].apply(lambda x: names[x])\n",
    "res_df[\"rmse\"] = np.sqrt(res_df[\"mse\"])\n",
    "res_df[\"log_mse\"] = np.log(res_df[\"mse\"])"
   ]
  },
  {
   "cell_type": "code",
   "execution_count": 18,
   "metadata": {},
   "outputs": [
    {
     "data": {
      "text/html": [
       "<div>\n",
       "<style scoped>\n",
       "    .dataframe tbody tr th:only-of-type {\n",
       "        vertical-align: middle;\n",
       "    }\n",
       "\n",
       "    .dataframe tbody tr th {\n",
       "        vertical-align: top;\n",
       "    }\n",
       "\n",
       "    .dataframe thead th {\n",
       "        text-align: right;\n",
       "    }\n",
       "</style>\n",
       "<table border=\"1\" class=\"dataframe\">\n",
       "  <thead>\n",
       "    <tr style=\"text-align: right;\">\n",
       "      <th></th>\n",
       "      <th>model</th>\n",
       "      <th>mse_mean</th>\n",
       "      <th>mse_std</th>\n",
       "      <th>mae_mean</th>\n",
       "      <th>mae_std</th>\n",
       "      <th>cal_mean</th>\n",
       "      <th>cal_std</th>\n",
       "      <th>z_mean</th>\n",
       "      <th>z_std</th>\n",
       "      <th>rmse_mean</th>\n",
       "      <th>rmse_std</th>\n",
       "      <th>log_mse_mean</th>\n",
       "      <th>log_mse_std</th>\n",
       "    </tr>\n",
       "  </thead>\n",
       "  <tbody>\n",
       "    <tr>\n",
       "      <th>0</th>\n",
       "      <td>Stein Mixture RFF</td>\n",
       "      <td>18.452997</td>\n",
       "      <td>4.112192</td>\n",
       "      <td>2.912778</td>\n",
       "      <td>0.194475</td>\n",
       "      <td>0.950000</td>\n",
       "      <td>0.011902</td>\n",
       "      <td>0.002242</td>\n",
       "      <td>0.009804</td>\n",
       "      <td>4.272389</td>\n",
       "      <td>0.471039</td>\n",
       "      <td>2.893613</td>\n",
       "      <td>0.217378</td>\n",
       "    </tr>\n",
       "    <tr>\n",
       "      <th>1</th>\n",
       "      <td>RFF Equiv Mix Big-O</td>\n",
       "      <td>23.588992</td>\n",
       "      <td>5.772869</td>\n",
       "      <td>3.313453</td>\n",
       "      <td>0.307066</td>\n",
       "      <td>0.953398</td>\n",
       "      <td>0.015554</td>\n",
       "      <td>0.003100</td>\n",
       "      <td>0.010663</td>\n",
       "      <td>4.822807</td>\n",
       "      <td>0.605094</td>\n",
       "      <td>3.132085</td>\n",
       "      <td>0.257168</td>\n",
       "    </tr>\n",
       "    <tr>\n",
       "      <th>2</th>\n",
       "      <td>RFF</td>\n",
       "      <td>25.823744</td>\n",
       "      <td>5.810565</td>\n",
       "      <td>3.478778</td>\n",
       "      <td>0.310246</td>\n",
       "      <td>0.946117</td>\n",
       "      <td>0.021884</td>\n",
       "      <td>0.001174</td>\n",
       "      <td>0.010437</td>\n",
       "      <td>5.051535</td>\n",
       "      <td>0.582842</td>\n",
       "      <td>3.227043</td>\n",
       "      <td>0.235986</td>\n",
       "    </tr>\n",
       "    <tr>\n",
       "      <th>3</th>\n",
       "      <td>Stein RFF</td>\n",
       "      <td>30.832076</td>\n",
       "      <td>5.985655</td>\n",
       "      <td>3.863761</td>\n",
       "      <td>0.265421</td>\n",
       "      <td>0.951456</td>\n",
       "      <td>0.009435</td>\n",
       "      <td>0.001210</td>\n",
       "      <td>0.012956</td>\n",
       "      <td>5.529272</td>\n",
       "      <td>0.536689</td>\n",
       "      <td>3.411635</td>\n",
       "      <td>0.194190</td>\n",
       "    </tr>\n",
       "    <tr>\n",
       "      <th>4</th>\n",
       "      <td>RFF-RBF</td>\n",
       "      <td>37.344351</td>\n",
       "      <td>6.410289</td>\n",
       "      <td>4.392094</td>\n",
       "      <td>0.360595</td>\n",
       "      <td>0.930583</td>\n",
       "      <td>0.016667</td>\n",
       "      <td>0.000491</td>\n",
       "      <td>0.011349</td>\n",
       "      <td>6.091209</td>\n",
       "      <td>0.518029</td>\n",
       "      <td>3.607265</td>\n",
       "      <td>0.168555</td>\n",
       "    </tr>\n",
       "    <tr>\n",
       "      <th>5</th>\n",
       "      <td>Sparse VGP</td>\n",
       "      <td>43.761791</td>\n",
       "      <td>5.906898</td>\n",
       "      <td>4.990825</td>\n",
       "      <td>0.237856</td>\n",
       "      <td>0.955340</td>\n",
       "      <td>0.013106</td>\n",
       "      <td>-0.002742</td>\n",
       "      <td>0.014371</td>\n",
       "      <td>6.601750</td>\n",
       "      <td>0.445582</td>\n",
       "      <td>3.770571</td>\n",
       "      <td>0.134970</td>\n",
       "    </tr>\n",
       "  </tbody>\n",
       "</table>\n",
       "</div>"
      ],
      "text/plain": [
       "                 model   mse_mean   mse_std  mae_mean   mae_std  cal_mean  \\\n",
       "0    Stein Mixture RFF  18.452997  4.112192  2.912778  0.194475  0.950000   \n",
       "1  RFF Equiv Mix Big-O  23.588992  5.772869  3.313453  0.307066  0.953398   \n",
       "2                  RFF  25.823744  5.810565  3.478778  0.310246  0.946117   \n",
       "3            Stein RFF  30.832076  5.985655  3.863761  0.265421  0.951456   \n",
       "4              RFF-RBF  37.344351  6.410289  4.392094  0.360595  0.930583   \n",
       "5           Sparse VGP  43.761791  5.906898  4.990825  0.237856  0.955340   \n",
       "\n",
       "    cal_std    z_mean     z_std  rmse_mean  rmse_std  log_mse_mean  \\\n",
       "0  0.011902  0.002242  0.009804   4.272389  0.471039      2.893613   \n",
       "1  0.015554  0.003100  0.010663   4.822807  0.605094      3.132085   \n",
       "2  0.021884  0.001174  0.010437   5.051535  0.582842      3.227043   \n",
       "3  0.009435  0.001210  0.012956   5.529272  0.536689      3.411635   \n",
       "4  0.016667  0.000491  0.011349   6.091209  0.518029      3.607265   \n",
       "5  0.013106 -0.002742  0.014371   6.601750  0.445582      3.770571   \n",
       "\n",
       "   log_mse_std  \n",
       "0     0.217378  \n",
       "1     0.257168  \n",
       "2     0.235986  \n",
       "3     0.194190  \n",
       "4     0.168555  \n",
       "5     0.134970  "
      ]
     },
     "execution_count": 18,
     "metadata": {},
     "output_type": "execute_result"
    }
   ],
   "source": [
    "sum_df = res_df.groupby(\"model\").agg([\"mean\", \"std\"])\n",
    "sum_df.columns = sum_df.columns.map(lambda x: '_'.join(x) if isinstance(x, tuple) else x)\n",
    "sum_df = sum_df.sort_values(\"mse_mean\", ascending=True).reset_index()\n",
    "sum_df"
   ]
  },
  {
   "cell_type": "code",
   "execution_count": null,
   "metadata": {},
   "outputs": [],
   "source": [
    "unique_models = res_df[\"model\"].unique()\n",
    "colors = sns.color_palette(\"hls\", len(unique_models))\n",
    "\n",
    "pointplot = sns.pointplot(\n",
    "    data=res_df, x=\"log_mse\", y=\"model\", hue=\"model\",\n",
    "    errorbar=\"ci\", capsize=.4,\n",
    "    palette=colors, legend=False,\n",
    "    color=\".5\", linestyle=\"none\", marker=\"D\",\n",
    ")\n",
    "pointplot.set_title(\"Concrete UCI Dataset Error\")"
   ]
  }
 ],
 "metadata": {
  "kernelspec": {
   "display_name": "steinRF",
   "language": "python",
   "name": "python3"
  },
  "language_info": {
   "codemirror_mode": {
    "name": "ipython",
    "version": 3
   },
   "file_extension": ".py",
   "mimetype": "text/x-python",
   "name": "python",
   "nbconvert_exporter": "python",
   "pygments_lexer": "ipython3",
   "version": "3.1.0"
  }
 },
 "nbformat": 4,
 "nbformat_minor": 2
}
