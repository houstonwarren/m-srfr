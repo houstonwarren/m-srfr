{
 "cells": [
  {
   "cell_type": "markdown",
   "metadata": {},
   "source": [
    "# Forest Fires UCI Dataset"
   ]
  },
  {
   "cell_type": "code",
   "execution_count": null,
   "metadata": {},
   "outputs": [],
   "source": [
    "# set python to pick up local directory\n",
    "from pathlib import Path\n",
    "import sys\n",
    "import os\n",
    "path_root = Path(os.getcwd()).parents[0]\n",
    "sys.path.append(str(path_root))\n",
    "sys.path.append(str(Path(os.getcwd()).parents[1]))\n",
    "\n",
    "%reload_ext autoreload\n",
    "%autoreload 2\n",
    "\n",
    "import warnings\n",
    "warnings.simplefilter('always', category=FutureWarning)"
   ]
  },
  {
   "cell_type": "code",
   "execution_count": null,
   "metadata": {},
   "outputs": [],
   "source": [
    "from jax import config\n",
    "config.update(\"jax_enable_x64\", True)"
   ]
  },
  {
   "cell_type": "code",
   "execution_count": null,
   "metadata": {},
   "outputs": [],
   "source": [
    "import pandas as pd\n",
    "import numpy as np\n",
    "import seaborn as sns\n",
    "import matplotlib.pyplot as plt\n",
    "from matplotlib import cm\n",
    "from copy import deepcopy\n",
    "from sklearn.model_selection import train_test_split\n",
    "from sklearn.preprocessing import StandardScaler, MinMaxScaler"
   ]
  },
  {
   "cell_type": "code",
   "execution_count": null,
   "metadata": {},
   "outputs": [],
   "source": [
    "import jax\n",
    "import jax.numpy as jnp\n",
    "from jax import vmap, jit\n",
    "from tensorflow_probability.substrates.jax import distributions as tfd\n",
    "import optax\n",
    "import equinox as eqx\n",
    "from jax.lib import xla_bridge"
   ]
  },
  {
   "cell_type": "code",
   "execution_count": null,
   "metadata": {},
   "outputs": [],
   "source": [
    "from steinRF import GP, LowRankGP, MixGP\n",
    "from steinRF.gp.kernels import RFF\n",
    "from steinRF.gp.transforms import Transform, ARD\n",
    "\n",
    "from steinRF.stein.srfr import srfr\n",
    "# from steinRF.mar_srfr import mar_srfr\n",
    "from steinRF.utils import gp_cross_val, metric_model, run_hyperopt, mse, mae\n",
    "from steinRF.baselines import build_svgp, build_train_svgp, svgp_predict, svgp_cross_val\n",
    "from steinRF.baselines import orthogonal_gaussian\n",
    "from steinRF.gp.models import *"
   ]
  },
  {
   "cell_type": "code",
   "execution_count": null,
   "metadata": {},
   "outputs": [
    {
     "name": "stdout",
     "output_type": "stream",
     "text": [
      "device: gpu\n"
     ]
    }
   ],
   "source": [
    "jax.clear_caches()\n",
    "print(f\"device: {xla_bridge.get_backend().platform}\")"
   ]
  },
  {
   "cell_type": "markdown",
   "metadata": {},
   "source": [
    "## Data Preparation"
   ]
  },
  {
   "cell_type": "code",
   "execution_count": null,
   "metadata": {},
   "outputs": [],
   "source": [
    "key = jax.random.PRNGKey(0)"
   ]
  },
  {
   "cell_type": "code",
   "execution_count": null,
   "metadata": {},
   "outputs": [],
   "source": [
    "wine = pd.read_csv(\"wine.csv\")\n",
    "X, y = jnp.array(wine.iloc[:, :-1]), jnp.array(wine[\"quality\"])\n",
    "y = y.reshape(-1)\n",
    "X_scaler = StandardScaler().fit(X)\n",
    "X = jnp.array(X_scaler.transform(X))\n",
    "y_scaler = StandardScaler().fit(y.reshape(-1, 1))\n",
    "y = jnp.array(y_scaler.transform(y.reshape(-1, 1)).reshape(-1))\n",
    "\n",
    "X_train, X_val, y_train, y_val = train_test_split(X, y, test_size=0.1, random_state=int(key[0]))\n",
    "X_train, X_val, y_train, y_val = jnp.array(X_train), jnp.array(X_val), jnp.array(y_train), jnp.array(y_val)"
   ]
  }
 ],
 "metadata": {
  "language_info": {
   "name": "python"
  }
 },
 "nbformat": 4,
 "nbformat_minor": 2
}
