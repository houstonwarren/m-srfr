{
 "cells": [
  {
   "cell_type": "markdown",
   "metadata": {},
   "source": [
    "# Energy"
   ]
  },
  {
   "cell_type": "code",
   "execution_count": 1,
   "metadata": {},
   "outputs": [],
   "source": [
    "# set python to pick up local directory\n",
    "from pathlib import Path\n",
    "import sys\n",
    "import os\n",
    "path_root = str(Path(os.getcwd()).parents[0])\n",
    "package_root = str(Path(os.getcwd()).parents[1])\n",
    "sys.path.append(path_root)\n",
    "sys.path.append(package_root)\n",
    "\n",
    "# auto reload\n",
    "%reload_ext autoreload\n",
    "%autoreload 2\n",
    "\n",
    "# hush\n",
    "import warnings\n",
    "warnings.simplefilter('always', category=FutureWarning)"
   ]
  },
  {
   "cell_type": "code",
   "execution_count": 2,
   "metadata": {},
   "outputs": [],
   "source": [
    "from jax import config\n",
    "config.update(\"jax_enable_x64\", True)"
   ]
  },
  {
   "cell_type": "code",
   "execution_count": 3,
   "metadata": {},
   "outputs": [],
   "source": [
    "import pandas as pd\n",
    "import numpy as np\n",
    "import seaborn as sns\n",
    "import matplotlib.pyplot as plt\n",
    "from copy import deepcopy\n",
    "from sklearn.model_selection import train_test_split\n",
    "from sklearn.preprocessing import StandardScaler, MinMaxScaler\n",
    "import jax\n",
    "import jax.numpy as jnp\n",
    "from jax import vmap, jit\n",
    "from tensorflow_probability.substrates.jax import distributions as tfd\n",
    "from jax.lib import xla_bridge"
   ]
  },
  {
   "cell_type": "code",
   "execution_count": 4,
   "metadata": {},
   "outputs": [],
   "source": [
    "from steinRF import GP, LowRankGP, MixGP\n",
    "from steinRF.gp.kernels import RFF\n",
    "from steinRF.gp.transforms import Transform, ARD\n",
    "from steinRF.stein.targets import TFTarget\n",
    "\n",
    "from steinRF.stein.srfr import srfr\n",
    "# from steinRF.mar_srfr import mar_srfr\n",
    "from steinRF.utils import gp_cross_val, metric_model, run_hyperopt, mse, mae\n",
    "from steinRF.baselines import build_svgp, build_train_svgp, svgp_predict, svgp_cross_val\n",
    "from steinRF.gp.models import *"
   ]
  },
  {
   "cell_type": "code",
   "execution_count": 5,
   "metadata": {},
   "outputs": [
    {
     "name": "stdout",
     "output_type": "stream",
     "text": [
      "device: gpu\n"
     ]
    }
   ],
   "source": [
    "jax.clear_caches()\n",
    "print(f\"device: {xla_bridge.get_backend().platform}\")"
   ]
  },
  {
   "cell_type": "markdown",
   "metadata": {},
   "source": [
    "## Data Preparation"
   ]
  },
  {
   "cell_type": "code",
   "execution_count": 6,
   "metadata": {},
   "outputs": [],
   "source": [
    "key = jax.random.PRNGKey(0)"
   ]
  },
  {
   "cell_type": "code",
   "execution_count": 63,
   "metadata": {},
   "outputs": [],
   "source": [
    "energy = pd.read_csv(\"energy.csv\")\n",
    "energy = energy.drop(columns=['cooling_load'])\n",
    "\n",
    "cont_columns = ['rel_compact', 'surface_area', 'wall_area', 'roof_area', 'overall_height', 'glazing_area']\n",
    "energy_cont = energy[cont_columns]\n",
    "X_scaler = MinMaxScaler()\n",
    "energy[cont_columns] = X_scaler.fit_transform(energy[cont_columns])\n",
    "y_scaler = StandardScaler()\n",
    "energy['heating_load'] = y_scaler.fit_transform(np.array(energy['heating_load']).reshape(-1, 1))\n",
    "\n",
    "X = jnp.array(energy.drop(columns=['heating_load']))\n",
    "y = jnp.array(energy['heating_load'])\n",
    "X_train, X_val, y_train, y_val = train_test_split(X, y, test_size=0.20, random_state=int(key[0]))\n",
    "X_train, X_val, y_train, y_val = jnp.array(X_train), jnp.array(X_val), jnp.array(y_train), jnp.array(y_val)\n",
    "\n",
    "d = X_train.shape[1]"
   ]
  },
  {
   "cell_type": "markdown",
   "metadata": {},
   "source": [
    "## Hyperparameter Optimization"
   ]
  },
  {
   "cell_type": "code",
   "execution_count": 10,
   "metadata": {},
   "outputs": [],
   "source": [
    "# total settings\n",
    "diag_min, diag_max = 1e-4, 1e-1\n",
    "epoch_min, epoch_max = 500, 4000\n",
    "lr_min, lr_max = 1e-3, 4e-1\n",
    "alpha_min, alpha_max = 0., 3.\n",
    "q_min, q_max = 2, 10\n",
    "s_vals = [0, 0.5, 1, 2]\n",
    "\n",
    "\n",
    "# --------------------------------- Sparse Variational GP -------------------------------- #\n",
    "def _svgp_cross_val(trial, key, X, y, **params):\n",
    "    # hparams\n",
    "    R = params.get('R')\n",
    "    diag = params.get('diag', None)\n",
    "    epochs = params.pop('epochs', None)\n",
    "    if epochs is None:\n",
    "        epochs = trial.suggest_int(\"epochs\", epoch_min, epoch_max, step=500)\n",
    "    lr = params.pop('lr', None)\n",
    "    if lr is None:\n",
    "        lr = trial.suggest_float(\"lr\", 5e-4, 0.1, log=True)\n",
    "    cv_params = {'R': R, 'epochs': epochs, 'lr': lr, 'diag': diag, **params}\n",
    "\n",
    "    # run cross val\n",
    "    cross_val_acc = svgp_cross_val(key, X, y, cv_params)\n",
    "    return cross_val_acc\n",
    "\n",
    "\n",
    "# ---------------------------------- RFF GP - RBF Kernel --------------------------------- #\n",
    "def rff_rbf_cross_val(trial, key, X, y, **params):\n",
    "    # hparams\n",
    "    R = params.pop('R')\n",
    "    diag = params.pop('diag', None)\n",
    "    if diag is None:\n",
    "        diag = trial.suggest_float(\"diag\", diag_min, diag_max, log=True)\n",
    "    epochs = params.pop('epochs', None)\n",
    "    if epochs is None:\n",
    "        epochs = trial.suggest_int(\"epochs\", epoch_min, epoch_max, step=500)\n",
    "    lr = params.pop('lr', None)\n",
    "    if lr is None:\n",
    "        lr = trial.suggest_float(\"lr\", lr_min, lr_max, log=True)\n",
    "    cv_params = {'R': R, 'epochs': epochs, 'lr': lr, 'diag': diag, **params}\n",
    "\n",
    "    # run cross val\n",
    "    cross_val_acc = gp_cross_val(build_train_rff_rbf, key, X, y, cv_params)\n",
    "    return cross_val_acc\n",
    "\n",
    "\n",
    "# --------------------------------------- RFF BASIC -------------------------------------- #\n",
    "def rff_cross_val(trial, key, X, y, **params):\n",
    "    # hparams\n",
    "    R = params.pop('R')\n",
    "    diag = params.pop('diag', None)\n",
    "    if diag is None:\n",
    "        diag = trial.suggest_float(\"diag\", diag_min, diag_max, log=True)\n",
    "    epochs = params.pop('epochs', None)\n",
    "    if epochs is None:\n",
    "        epochs = trial.suggest_int(\"epochs\", epoch_min, epoch_max, step=500)\n",
    "    lr = params.pop('lr', None)\n",
    "    if lr is None:\n",
    "        lr = trial.suggest_float(\"lr\", lr_min, lr_max, log=True)\n",
    "    cv_params = {'R': R, 'epochs': epochs, 'lr': lr, 'diag': diag, **params}\n",
    "\n",
    "    # run cross val\n",
    "    cross_val_acc = gp_cross_val(build_train_rff, key, X, y, cv_params)\n",
    "    return cross_val_acc\n",
    "\n",
    "# --------------------------------------- STEIN RFF -------------------------------------- #\n",
    "def srf_cross_val(trial, key, X, y, **params):\n",
    "    # hparams\n",
    "    R = params.pop('R')\n",
    "\n",
    "    diag = params.pop('diag', None)\n",
    "    if diag is None:\n",
    "        diag = trial.suggest_float(\"diag\", diag_min, diag_max, log=True)\n",
    "    epochs = params.pop('epochs', None)\n",
    "    if epochs is None:\n",
    "        epochs = trial.suggest_int(\"epochs\", epoch_min, epoch_max, step=500)\n",
    "    lr = params.pop('lr', None)\n",
    "    if lr is None:\n",
    "        lr = trial.suggest_float(\"lr\", lr_min, lr_max, log=True)\n",
    "    lr_gd = params.pop('lr_gd', None)\n",
    "    if lr_gd is None:\n",
    "        lr_gd = trial.suggest_float(\"lr_gd\", lr_min, lr_max, log=True)\n",
    "    alpha = params.pop('alpha', None)\n",
    "    if alpha is None:\n",
    "        alpha = trial.suggest_float(\"alpha\", alpha_min, alpha_max, step=0.2)\n",
    "    s = params.pop('s', None)\n",
    "    if s is None:\n",
    "        s = trial.suggest_categorical(\"s\", s_vals)\n",
    "    cv_params = {\n",
    "        'R': R, 'epochs': epochs, 'lr': lr, 'lr_gd': lr_gd, 'diag': diag, 'alpha': alpha, \n",
    "        's': s, **params\n",
    "    }\n",
    "    # cv_params = {\n",
    "    #     'R': R, 'epochs': epochs, 'lr': lr, 'diag': diag, 'alpha': alpha, \n",
    "    #     's': s, **params\n",
    "    # }\n",
    "\n",
    "    # run cross val\n",
    "    cross_val_acc = gp_cross_val(build_train_srf, key, X, y, cv_params)\n",
    "    return cross_val_acc\n",
    "\n",
    "\n",
    "# ----------------------------------- NONSTATIONARY RFF ---------------------------------- #\n",
    "def nrff_cross_val(trial, key, X, y, **params):\n",
    "    # hparams\n",
    "    R = params.get('R')\n",
    "    diag = params.get('diag', None)\n",
    "    if diag is None:\n",
    "        diag = trial.suggest_float(\"diag\", diag_min, diag_max, log=True)\n",
    "    epochs = params.get('epochs', None)\n",
    "    if epochs is None:\n",
    "        epochs = trial.suggest_int(\"epochs\", epoch_min, epoch_max, step=500)\n",
    "    lr = params.get('lr', None)\n",
    "    if lr is None:\n",
    "        lr = trial.suggest_float(\"lr\", lr_min, lr_max, log=True)\n",
    "\n",
    "    cv_params = {'R': R, 'epochs': epochs, 'lr': lr, 'diag': diag, **params}\n",
    "\n",
    "    # run cross val\n",
    "    cross_val_acc = gp_cross_val(build_train_nrff, key, X, y, cv_params)\n",
    "    return cross_val_acc\n",
    "\n",
    "\n",
    "# ------------------------------------ MARGINAL KERNEL ----------------------------------- #\n",
    "def mix_rff_cross_val(trial, key, X, y, **params):\n",
    "    # hparams\n",
    "    R = params.pop('R')\n",
    "\n",
    "    diag = params.pop('diag', None)\n",
    "    if diag is None:\n",
    "        diag = trial.suggest_float(\"diag\", diag_min, diag_max, log=True)\n",
    "    epochs = params.pop('epochs', None)\n",
    "    if epochs is None:\n",
    "        epochs = trial.suggest_int(\"epochs\", epoch_min, epoch_max, step=500)\n",
    "    lr = params.pop('lr', None)\n",
    "    if lr is None:\n",
    "        lr = trial.suggest_float(\"lr\", lr_min, lr_max, log=True)\n",
    "    lr_gd = params.pop('lr_gd', None)\n",
    "    if lr_gd is None:\n",
    "        lr_gd = trial.suggest_float(\"lr_gd\", lr_min, lr_max, log=True)\n",
    "    alpha = params.pop('alpha', None)\n",
    "    if alpha is None:\n",
    "        alpha = trial.suggest_float(\"alpha\", alpha_min, alpha_max, step=0.2)\n",
    "    q = params.pop('q', None)\n",
    "    if q is None:\n",
    "        q = trial.suggest_int(\"q\", q_min, q_max, step=2)\n",
    "    s = params.pop('s', None)\n",
    "    if s is None:\n",
    "        s = trial.suggest_categorical(\"s\", s_vals)\n",
    "\n",
    "    cv_params = {\n",
    "        'R': R, 'epochs': epochs, 'lr': lr, 'diag': diag, 'lr_gd': lr_gd,\n",
    "        'alpha': alpha, 's': s, 'q': q, **params\n",
    "    }\n",
    "\n",
    "    # run cross val\n",
    "    cross_val_acc = gp_cross_val(build_train_mix_rff, key, X, y, cv_params)\n",
    "    return cross_val_acc\n",
    "\n",
    "\n",
    "# ------------------------------ NONSTATIONARY STEIN MIXTURE ----------------------------- #\n",
    "def nmix_cross_val(trial, key, X, y, **params):\n",
    "    # hparams\n",
    "    R = params.get('R')\n",
    "    diag = params.get('diag', None)\n",
    "    if diag is None:\n",
    "        diag = trial.suggest_float(\"diag\", diag_min, diag_max, log=True)\n",
    "    epochs = params.get('epochs', None)\n",
    "    if epochs is None:\n",
    "        epochs = trial.suggest_int(\"epochs\", epoch_min, epoch_max, step=500)\n",
    "    lr = params.get('lr', None)\n",
    "    if lr is None:\n",
    "        lr = trial.suggest_float(\"lr\", lr_min, lr_max, log=True)\n",
    "    lr_gd = params.pop('lr_gd', None)\n",
    "    if lr_gd is None:\n",
    "        lr_gd = trial.suggest_float(\"lr_gd\", lr_min, lr_max, log=True)\n",
    "    alpha = params.get('alpha', None)\n",
    "    if alpha is None:\n",
    "        alpha = trial.suggest_float(\"alpha\", alpha_min, alpha_max, step=0.2)\n",
    "    s = params.pop('s', None)\n",
    "    if s is None:\n",
    "        s = trial.suggest_categorical(\"s\", s_vals)\n",
    "    q = params.pop('q', None)\n",
    "    if q is None:\n",
    "        q = trial.suggest_int(\"q\", q_min, q_max, step=2)\n",
    "    cv_params = {\n",
    "        'R': R, 'epochs': epochs, 'lr': lr, 'lr_gd': lr_gd, 'diag': diag, 'alpha': alpha,\n",
    "        's': s, 'q': q, **params\n",
    "    }\n",
    "\n",
    "    # run cross val\n",
    "    cross_val_acc = gp_cross_val(build_train_nmix_rff, key, X, y, cv_params)\n",
    "    return cross_val_acc"
   ]
  },
  {
   "cell_type": "markdown",
   "metadata": {},
   "source": [
    "### Run Optimization"
   ]
  },
  {
   "cell_type": "code",
   "execution_count": 9,
   "metadata": {},
   "outputs": [],
   "source": [
    "n_trials = 30\n",
    "R = 50\n",
    "hparams = {}"
   ]
  },
  {
   "cell_type": "markdown",
   "metadata": {},
   "source": [
    "#### Sparse-Variational GP"
   ]
  },
  {
   "cell_type": "code",
   "execution_count": 14,
   "metadata": {},
   "outputs": [
    {
     "name": "stderr",
     "output_type": "stream",
     "text": [
      "[I 2024-02-09 15:41:36,118] A new study created in memory with name: no-name-830bbb58-221f-410c-a616-a590204b06fb\n"
     ]
    },
    {
     "data": {
      "application/vnd.jupyter.widget-view+json": {
       "model_id": "e348ce170a794318aaa9f7ecf9fae878",
       "version_major": 2,
       "version_minor": 0
      },
      "text/plain": [
       "  0%|          | 0/30 [00:00<?, ?it/s]"
      ]
     },
     "metadata": {},
     "output_type": "display_data"
    },
    {
     "name": "stdout",
     "output_type": "stream",
     "text": [
      "[I 2024-02-09 15:42:03,500] Trial 0 finished with value: 0.0723546888469429 and parameters: {'epochs': 1500, 'lr': 0.03309772208832381}. Best is trial 0 with value: 0.0723546888469429.\n",
      "[I 2024-02-09 15:42:45,945] Trial 1 finished with value: 0.07246194621173883 and parameters: {'epochs': 2500, 'lr': 0.04691263826926706}. Best is trial 0 with value: 0.0723546888469429.\n",
      "[I 2024-02-09 15:43:28,214] Trial 2 finished with value: 0.07228150563602145 and parameters: {'epochs': 2500, 'lr': 0.003437146683193231}. Best is trial 2 with value: 0.07228150563602145.\n",
      "[I 2024-02-09 15:44:03,141] Trial 3 finished with value: 0.07242275772474403 and parameters: {'epochs': 2000, 'lr': 0.0010333256323531148}. Best is trial 2 with value: 0.07228150563602145.\n",
      "[I 2024-02-09 15:44:45,362] Trial 4 finished with value: 0.07260437533575247 and parameters: {'epochs': 2500, 'lr': 0.07394452288043542}. Best is trial 2 with value: 0.07228150563602145.\n",
      "[I 2024-02-09 15:45:20,715] Trial 5 finished with value: 0.07247210161967041 and parameters: {'epochs': 2000, 'lr': 0.03952687140148051}. Best is trial 2 with value: 0.07228150563602145.\n",
      "[I 2024-02-09 15:45:55,034] Trial 6 finished with value: 0.07230447528613015 and parameters: {'epochs': 2000, 'lr': 0.011962609810345276}. Best is trial 2 with value: 0.07228150563602145.\n",
      "[I 2024-02-09 15:46:22,175] Trial 7 finished with value: 0.0746655283996771 and parameters: {'epochs': 1500, 'lr': 0.0005226679420760954}. Best is trial 2 with value: 0.07228150563602145.\n",
      "[I 2024-02-09 15:46:56,517] Trial 8 finished with value: 0.07243716806905487 and parameters: {'epochs': 2000, 'lr': 0.05566002865724307}. Best is trial 2 with value: 0.07228150563602145.\n",
      "[I 2024-02-09 15:47:52,980] Trial 9 finished with value: 0.07231477717078073 and parameters: {'epochs': 3500, 'lr': 0.004703206417671848}. Best is trial 2 with value: 0.07228150563602145.\n",
      "[I 2024-02-09 15:48:06,250] Trial 10 finished with value: 0.07221443669657837 and parameters: {'epochs': 500, 'lr': 0.0030573875268507175}. Best is trial 10 with value: 0.07221443669657837.\n",
      "[I 2024-02-09 15:48:18,867] Trial 11 finished with value: 0.07228352076336118 and parameters: {'epochs': 500, 'lr': 0.002792973436769299}. Best is trial 10 with value: 0.07221443669657837.\n",
      "[I 2024-02-09 15:49:15,006] Trial 12 finished with value: 0.0722274135962851 and parameters: {'epochs': 3500, 'lr': 0.002659422730146046}. Best is trial 10 with value: 0.07221443669657837.\n",
      "[I 2024-02-09 15:50:11,422] Trial 13 finished with value: 0.07242851133898776 and parameters: {'epochs': 3500, 'lr': 0.001488941542881199}. Best is trial 10 with value: 0.07221443669657837.\n",
      "[I 2024-02-09 15:51:16,230] Trial 14 finished with value: 0.07235400635247272 and parameters: {'epochs': 4000, 'lr': 0.011356810108771816}. Best is trial 10 with value: 0.07221443669657837.\n",
      "[I 2024-02-09 15:51:28,730] Trial 15 finished with value: 0.07420293087127765 and parameters: {'epochs': 500, 'lr': 0.001683167565599342}. Best is trial 10 with value: 0.07221443669657837.\n",
      "[I 2024-02-09 15:51:48,558] Trial 16 finished with value: 0.07240685065147764 and parameters: {'epochs': 1000, 'lr': 0.008342054347178007}. Best is trial 10 with value: 0.07221443669657837.\n",
      "[I 2024-02-09 15:52:37,757] Trial 17 finished with value: 0.07234141573661433 and parameters: {'epochs': 3000, 'lr': 0.005487770511032528}. Best is trial 10 with value: 0.07221443669657837.\n",
      "[I 2024-02-09 15:53:41,658] Trial 18 finished with value: 0.07251812249800363 and parameters: {'epochs': 4000, 'lr': 0.019873397270978803}. Best is trial 10 with value: 0.07221443669657837.\n",
      "[I 2024-02-09 15:54:32,015] Trial 19 finished with value: 0.07251353749354185 and parameters: {'epochs': 3000, 'lr': 0.0006457504852088647}. Best is trial 10 with value: 0.07221443669657837.\n",
      "[I 2024-02-09 15:54:51,818] Trial 20 finished with value: 0.07229884257845647 and parameters: {'epochs': 1000, 'lr': 0.002208579511133194}. Best is trial 10 with value: 0.07221443669657837.\n",
      "[I 2024-02-09 15:55:40,942] Trial 21 finished with value: 0.07231989475782838 and parameters: {'epochs': 3000, 'lr': 0.003345291697233677}. Best is trial 10 with value: 0.07221443669657837.\n",
      "[I 2024-02-09 15:56:37,359] Trial 22 finished with value: 0.0722670544079361 and parameters: {'epochs': 3500, 'lr': 0.0037347082483952325}. Best is trial 10 with value: 0.07221443669657837.\n",
      "[I 2024-02-09 15:57:33,764] Trial 23 finished with value: 0.07241625422567013 and parameters: {'epochs': 3500, 'lr': 0.0012542875590777472}. Best is trial 10 with value: 0.07221443669657837.\n",
      "[I 2024-02-09 15:58:37,590] Trial 24 finished with value: 0.07219921848492392 and parameters: {'epochs': 4000, 'lr': 0.006205596625783714}. Best is trial 24 with value: 0.07219921848492392.\n",
      "[I 2024-02-09 15:59:42,694] Trial 25 finished with value: 0.07237507148698064 and parameters: {'epochs': 4000, 'lr': 0.006992006420724096}. Best is trial 24 with value: 0.07219921848492392.\n",
      "[I 2024-02-09 16:00:46,602] Trial 26 finished with value: 0.07231633249766592 and parameters: {'epochs': 4000, 'lr': 0.014067074289402735}. Best is trial 24 with value: 0.07219921848492392.\n",
      "[I 2024-02-09 16:01:35,788] Trial 27 finished with value: 0.07229167950026608 and parameters: {'epochs': 3000, 'lr': 0.0021543337124152466}. Best is trial 24 with value: 0.07219921848492392.\n",
      "[I 2024-02-09 16:01:55,654] Trial 28 finished with value: 0.07233762081099235 and parameters: {'epochs': 1000, 'lr': 0.021481512040668803}. Best is trial 24 with value: 0.07219921848492392.\n",
      "[I 2024-02-09 16:02:22,824] Trial 29 finished with value: 0.07266544477295736 and parameters: {'epochs': 1500, 'lr': 0.0008740291298762312}. Best is trial 24 with value: 0.07219921848492392.\n"
     ]
    }
   ],
   "source": [
    "# svgp = build_train_svgp(key, X, y, R=R, diag=1e-2, epochs=1000, lr=0.01, from_data=True)[0]\n",
    "svgp_study = run_hyperopt(\n",
    "    _svgp_cross_val, key, X_train, y_train, n_trials=n_trials, R=R, diag=1e-2, from_data=False\n",
    ")\n",
    "hparams[\"svgp\"] = svgp_study.best_params"
   ]
  },
  {
   "cell_type": "markdown",
   "metadata": {},
   "source": [
    "#### RFF with RBF"
   ]
  },
  {
   "cell_type": "code",
   "execution_count": 15,
   "metadata": {},
   "outputs": [
    {
     "name": "stderr",
     "output_type": "stream",
     "text": [
      "[I 2024-02-09 16:03:36,732] A new study created in memory with name: no-name-e9060e73-7972-49a9-8ea5-66e51ca1e1a7\n"
     ]
    },
    {
     "data": {
      "application/vnd.jupyter.widget-view+json": {
       "model_id": "fa9437961fc14afcb98cab1e10a25823",
       "version_major": 2,
       "version_minor": 0
      },
      "text/plain": [
       "  0%|          | 0/30 [00:00<?, ?it/s]"
      ]
     },
     "metadata": {},
     "output_type": "display_data"
    },
    {
     "name": "stdout",
     "output_type": "stream",
     "text": [
      "[I 2024-02-09 16:03:46,686] Trial 0 finished with value: 0.0030328495574064355 and parameters: {'diag': 0.016627874566784058, 'lr': 0.007184037716470032}. Best is trial 0 with value: 0.0030328495574064355.\n",
      "[I 2024-02-09 16:03:55,380] Trial 1 finished with value: 0.0030313058714395618 and parameters: {'diag': 0.004040004947784547, 'lr': 0.005323056818645421}. Best is trial 1 with value: 0.0030313058714395618.\n",
      "[I 2024-02-09 16:04:03,848] Trial 2 finished with value: 0.0028470370548588633 and parameters: {'diag': 0.0002720932043697088, 'lr': 0.008470200724526845}. Best is trial 2 with value: 0.0028470370548588633.\n",
      "[I 2024-02-09 16:04:12,312] Trial 3 finished with value: 0.0024398497663512095 and parameters: {'diag': 0.002570374171301592, 'lr': 0.0822901381581731}. Best is trial 3 with value: 0.0024398497663512095.\n",
      "[I 2024-02-09 16:04:20,937] Trial 4 finished with value: 0.004565365144376345 and parameters: {'diag': 0.004412385736989299, 'lr': 0.0028869540397688663}. Best is trial 3 with value: 0.0024398497663512095.\n",
      "[I 2024-02-09 16:04:29,567] Trial 5 finished with value: 0.002436175209027767 and parameters: {'diag': 0.00010082174277040181, 'lr': 0.0628281126659773}. Best is trial 5 with value: 0.002436175209027767.\n",
      "[I 2024-02-09 16:04:38,371] Trial 6 finished with value: 0.0023355661220997538 and parameters: {'diag': 0.0030875320767177862, 'lr': 0.37846251844769196}. Best is trial 6 with value: 0.0023355661220997538.\n",
      "[I 2024-02-09 16:04:46,865] Trial 7 finished with value: 0.003524896541549475 and parameters: {'diag': 0.07910868535721123, 'lr': 0.03737497410497091}. Best is trial 6 with value: 0.0023355661220997538.\n",
      "[I 2024-02-09 16:04:56,554] Trial 8 finished with value: 0.002664408747006231 and parameters: {'diag': 0.0012991365820714952, 'lr': 0.009160630632164588}. Best is trial 6 with value: 0.0023355661220997538.\n",
      "[I 2024-02-09 16:05:05,233] Trial 9 finished with value: 0.002960281235196834 and parameters: {'diag': 0.04858958508502783, 'lr': 0.07687139153172472}. Best is trial 6 with value: 0.0023355661220997538.\n",
      "[I 2024-02-09 16:05:13,754] Trial 10 finished with value: 0.002415038553173837 and parameters: {'diag': 0.0010703763773856248, 'lr': 0.3682347582139365}. Best is trial 6 with value: 0.0023355661220997538.\n",
      "[I 2024-02-09 16:05:22,161] Trial 11 finished with value: 0.0040421390412967995 and parameters: {'diag': 0.0006175047099971267, 'lr': 0.3235605477247492}. Best is trial 6 with value: 0.0023355661220997538.\n",
      "[I 2024-02-09 16:05:30,716] Trial 12 finished with value: 0.0024556150991807894 and parameters: {'diag': 0.012133402765499702, 'lr': 0.331860944869025}. Best is trial 6 with value: 0.0023355661220997538.\n",
      "[I 2024-02-09 16:05:46,765] Trial 13 finished with value: 0.002445491017234304 and parameters: {'diag': 0.0008136628509554484, 'lr': 0.17056258498825205}. Best is trial 6 with value: 0.0023355661220997538.\n",
      "[I 2024-02-09 16:05:55,191] Trial 14 finished with value: 0.0023609804118929927 and parameters: {'diag': 0.010564591774992728, 'lr': 0.3997255657148895}. Best is trial 6 with value: 0.0023355661220997538.\n",
      "[I 2024-02-09 16:06:04,264] Trial 15 finished with value: 0.04222210852060978 and parameters: {'diag': 0.011684879144667813, 'lr': 0.0010059016576535703}. Best is trial 6 with value: 0.0023355661220997538.\n",
      "[I 2024-02-09 16:06:13,295] Trial 16 finished with value: 0.0026748388429063048 and parameters: {'diag': 0.030558608550030016, 'lr': 0.1602591137671138}. Best is trial 6 with value: 0.0023355661220997538.\n",
      "[I 2024-02-09 16:06:21,745] Trial 17 finished with value: 0.002304868525445745 and parameters: {'diag': 0.005825909358247842, 'lr': 0.023698059190152814}. Best is trial 17 with value: 0.002304868525445745.\n",
      "[I 2024-02-09 16:06:30,608] Trial 18 finished with value: 0.002277103577056643 and parameters: {'diag': 0.002835618090676002, 'lr': 0.018185556807764743}. Best is trial 18 with value: 0.002277103577056643.\n",
      "[I 2024-02-09 16:06:39,541] Trial 19 finished with value: 0.0026004929996873974 and parameters: {'diag': 0.000311676246196938, 'lr': 0.019368018107199736}. Best is trial 18 with value: 0.002277103577056643.\n",
      "[I 2024-02-09 16:06:48,057] Trial 20 finished with value: 0.002277153268345992 and parameters: {'diag': 0.005716808203453412, 'lr': 0.030902688275002987}. Best is trial 18 with value: 0.002277103577056643.\n",
      "[I 2024-02-09 16:06:56,759] Trial 21 finished with value: 0.0023168158470267134 and parameters: {'diag': 0.0058219780416311345, 'lr': 0.02256417059992937}. Best is trial 18 with value: 0.002277103577056643.\n",
      "[I 2024-02-09 16:07:05,178] Trial 22 finished with value: 0.002260191082253873 and parameters: {'diag': 0.00205761050871471, 'lr': 0.020909907343192233}. Best is trial 22 with value: 0.002260191082253873.\n",
      "[I 2024-02-09 16:07:13,877] Trial 23 finished with value: 0.00239137828589482 and parameters: {'diag': 0.0016351603345221746, 'lr': 0.016545893202523237}. Best is trial 22 with value: 0.002260191082253873.\n",
      "[I 2024-02-09 16:07:22,279] Trial 24 finished with value: 0.0025091862792371382 and parameters: {'diag': 0.0017848559870190924, 'lr': 0.012850329215147723}. Best is trial 22 with value: 0.002260191082253873.\n",
      "[I 2024-02-09 16:07:31,212] Trial 25 finished with value: 0.002252364064686747 and parameters: {'diag': 0.0005648708919900467, 'lr': 0.03923901332404974}. Best is trial 25 with value: 0.002252364064686747.\n",
      "[I 2024-02-09 16:07:39,667] Trial 26 finished with value: 0.002456498563421511 and parameters: {'diag': 0.0004129692476066108, 'lr': 0.04913702565498682}. Best is trial 25 with value: 0.002252364064686747.\n",
      "[I 2024-02-09 16:07:48,040] Trial 27 finished with value: 0.003324008567891899 and parameters: {'diag': 0.00017300835387158242, 'lr': 0.004479478169139473}. Best is trial 25 with value: 0.002252364064686747.\n",
      "[I 2024-02-09 16:07:56,874] Trial 28 finished with value: 0.002540789659159368 and parameters: {'diag': 0.0006889357291478552, 'lr': 0.013190352549847862}. Best is trial 25 with value: 0.002252364064686747.\n",
      "[I 2024-02-09 16:08:05,587] Trial 29 finished with value: 0.0021855645396502295 and parameters: {'diag': 0.002107794213114641, 'lr': 0.04026430906645888}. Best is trial 29 with value: 0.0021855645396502295.\n"
     ]
    }
   ],
   "source": [
    "# rff_rbf = build_train_rff_rbf(key, X_train, R=100, diag=1e-2, epochs=1000, lr=0.01, from_data=False)[0]\n",
    "rff_rbf_study = run_hyperopt(\n",
    "    rff_rbf_cross_val, key, X_train, y_train, n_trials=n_trials, R=R, epochs=1000, init_ls=False\n",
    ")\n",
    "hparams[\"rff_rbf\"] = rff_rbf_study.best_params"
   ]
  },
  {
   "cell_type": "markdown",
   "metadata": {},
   "source": [
    "#### Basic RFF GP"
   ]
  },
  {
   "cell_type": "code",
   "execution_count": null,
   "metadata": {},
   "outputs": [],
   "source": [
    "# rff = build_train_rff(key, X_train, y_train, R=R, diag=0.001, epochs=1000, lr=0.05, from_data=False, init_ls=False)[0]\n",
    "# best 0.0015\n",
    "rff_study = run_hyperopt(\n",
    "    rff_cross_val, key, X_train, y_train, n_trials=n_trials, R=R, epochs=1000, from_data=False, init_ls=False\n",
    ")\n",
    "hparams[\"rff\"] = rff_study.best_params"
   ]
  },
  {
   "cell_type": "markdown",
   "metadata": {},
   "source": [
    "#### Stein Random Features"
   ]
  },
  {
   "cell_type": "code",
   "execution_count": 16,
   "metadata": {},
   "outputs": [
    {
     "name": "stderr",
     "output_type": "stream",
     "text": [
      "[I 2024-02-09 16:11:08,300] A new study created in memory with name: no-name-63da9f47-1ac5-49b5-8dbd-91213a54b2a2\n"
     ]
    },
    {
     "data": {
      "application/vnd.jupyter.widget-view+json": {
       "model_id": "bb7e525270e7496998fd87e4c6a1f1c7",
       "version_major": 2,
       "version_minor": 0
      },
      "text/plain": [
       "  0%|          | 0/50 [00:00<?, ?it/s]"
      ]
     },
     "metadata": {},
     "output_type": "display_data"
    },
    {
     "name": "stdout",
     "output_type": "stream",
     "text": [
      "[I 2024-02-09 16:11:20,537] Trial 0 finished with value: 0.002407155921893539 and parameters: {'diag': 0.05781837878590701, 'lr': 0.07145935696322236, 'lr_gd': 0.01711045988956662, 'alpha': 2.6, 's': 1}. Best is trial 0 with value: 0.002407155921893539.\n",
      "[I 2024-02-09 16:11:32,454] Trial 1 finished with value: 0.0021572380871791447 and parameters: {'diag': 0.055722918622498764, 'lr': 0.001972057440411891, 'lr_gd': 0.007529955609092703, 'alpha': 1.8, 's': 0}. Best is trial 1 with value: 0.0021572380871791447.\n",
      "[I 2024-02-09 16:11:43,640] Trial 2 finished with value: 0.002205458455500357 and parameters: {'diag': 0.002127433079941622, 'lr': 0.027831143065993064, 'lr_gd': 0.35869903418941657, 'alpha': 1.2000000000000002, 's': 0}. Best is trial 1 with value: 0.0021572380871791447.\n",
      "[I 2024-02-09 16:11:55,212] Trial 3 finished with value: 0.0024868306231082857 and parameters: {'diag': 0.05367691597475788, 'lr': 0.30706270809353986, 'lr_gd': 0.0035344525955690507, 'alpha': 0.4, 's': 0.5}. Best is trial 1 with value: 0.0021572380871791447.\n",
      "[I 2024-02-09 16:12:06,551] Trial 4 finished with value: 0.00209718050963268 and parameters: {'diag': 0.007373550042620988, 'lr': 0.0010312758053243646, 'lr_gd': 0.2034946406818863, 'alpha': 0.2, 's': 0.5}. Best is trial 4 with value: 0.00209718050963268.\n",
      "[I 2024-02-09 16:12:17,812] Trial 5 finished with value: 0.002120990137210068 and parameters: {'diag': 0.01567260598329583, 'lr': 0.005814814520595585, 'lr_gd': 0.2275099690895112, 'alpha': 1.2000000000000002, 's': 1}. Best is trial 4 with value: 0.00209718050963268.\n",
      "[I 2024-02-09 16:12:29,602] Trial 6 finished with value: 0.0020407015539850365 and parameters: {'diag': 0.0008011437969677885, 'lr': 0.07266223811063882, 'lr_gd': 0.020062526815029503, 'alpha': 2.4000000000000004, 's': 1}. Best is trial 6 with value: 0.0020407015539850365.\n",
      "[I 2024-02-09 16:12:41,048] Trial 7 finished with value: 0.0015721074222604325 and parameters: {'diag': 0.0029063878055823403, 'lr': 0.022673764723243135, 'lr_gd': 0.005764693817455525, 'alpha': 1.8, 's': 2}. Best is trial 7 with value: 0.0015721074222604325.\n",
      "[I 2024-02-09 16:12:52,650] Trial 8 finished with value: 0.0027047686774660843 and parameters: {'diag': 0.00039925615978682495, 'lr': 0.367419103172028, 'lr_gd': 0.02245707692764305, 'alpha': 2.0, 's': 0.5}. Best is trial 7 with value: 0.0015721074222604325.\n",
      "[I 2024-02-09 16:13:04,264] Trial 9 finished with value: 0.007175066457666179 and parameters: {'diag': 0.00039842725057470294, 'lr': 0.02397206621674172, 'lr_gd': 0.003467577638329219, 'alpha': 2.2, 's': 0.5}. Best is trial 7 with value: 0.0015721074222604325.\n",
      "[I 2024-02-09 16:13:15,864] Trial 10 finished with value: 0.010639913572388774 and parameters: {'diag': 0.00010957143055948453, 'lr': 0.005398610239897925, 'lr_gd': 0.0014681872890595909, 'alpha': 3.0, 's': 2}. Best is trial 7 with value: 0.0015721074222604325.\n",
      "[I 2024-02-09 16:13:27,456] Trial 11 finished with value: 0.0016921736949158006 and parameters: {'diag': 0.0014635358163488585, 'lr': 0.08735986772119252, 'lr_gd': 0.05236877493718252, 'alpha': 2.6, 's': 2}. Best is trial 7 with value: 0.0015721074222604325.\n",
      "[I 2024-02-09 16:13:38,814] Trial 12 finished with value: 0.001604806744605566 and parameters: {'diag': 0.0028502108416396063, 'lr': 0.08993419337534053, 'lr_gd': 0.07069120234717474, 'alpha': 3.0, 's': 2}. Best is trial 7 with value: 0.0015721074222604325.\n",
      "[I 2024-02-09 16:13:50,052] Trial 13 finished with value: 0.0017222415860566307 and parameters: {'diag': 0.00536372805421029, 'lr': 0.009534471420684277, 'lr_gd': 0.0746440371904006, 'alpha': 3.0, 's': 2}. Best is trial 7 with value: 0.0015721074222604325.\n",
      "[I 2024-02-09 16:14:01,976] Trial 14 finished with value: 0.00206689407536507 and parameters: {'diag': 0.017176636663253933, 'lr': 0.11866601951000677, 'lr_gd': 0.07642873635224708, 'alpha': 1.4000000000000001, 's': 2}. Best is trial 7 with value: 0.0015721074222604325.\n",
      "[I 2024-02-09 16:14:14,022] Trial 15 finished with value: 0.0017390214265103452 and parameters: {'diag': 0.0035365250389142915, 'lr': 0.037193617558432535, 'lr_gd': 0.00896068107166485, 'alpha': 1.8, 's': 2}. Best is trial 7 with value: 0.0015721074222604325.\n",
      "[I 2024-02-09 16:14:26,085] Trial 16 finished with value: 0.001765448962013329 and parameters: {'diag': 0.0009889260300766582, 'lr': 0.012277824113523803, 'lr_gd': 0.04372940715073405, 'alpha': 0.8, 's': 2}. Best is trial 7 with value: 0.0015721074222604325.\n",
      "[I 2024-02-09 16:14:37,807] Trial 17 finished with value: 0.0022399207778153567 and parameters: {'diag': 0.010578930541993062, 'lr': 0.19986534873370854, 'lr_gd': 0.0011756089636195159, 'alpha': 0.8, 's': 2}. Best is trial 7 with value: 0.0015721074222604325.\n",
      "[I 2024-02-09 16:14:49,403] Trial 18 finished with value: 0.0016273106973624912 and parameters: {'diag': 0.0030209618398044803, 'lr': 0.049482146617617705, 'lr_gd': 0.004407378517089013, 'alpha': 2.8000000000000003, 's': 2}. Best is trial 7 with value: 0.0015721074222604325.\n",
      "[I 2024-02-09 16:15:00,672] Trial 19 finished with value: 0.002329170041122595 and parameters: {'diag': 0.02683157217758727, 'lr': 0.15498952650620443, 'lr_gd': 0.13573076650353003, 'alpha': 1.6, 's': 0}. Best is trial 7 with value: 0.0015721074222604325.\n",
      "[I 2024-02-09 16:15:11,772] Trial 20 finished with value: 0.0021021672756701007 and parameters: {'diag': 0.0004657262004895797, 'lr': 0.014534507997123757, 'lr_gd': 0.035362716358117746, 'alpha': 2.4000000000000004, 's': 2}. Best is trial 7 with value: 0.0015721074222604325.\n",
      "[I 2024-02-09 16:15:23,006] Trial 21 finished with value: 0.0017341823746088246 and parameters: {'diag': 0.0031121160159440953, 'lr': 0.044381939428456724, 'lr_gd': 0.0042519071769163315, 'alpha': 2.8000000000000003, 's': 2}. Best is trial 7 with value: 0.0015721074222604325.\n",
      "[I 2024-02-09 16:15:34,349] Trial 22 finished with value: 0.0016409967832199657 and parameters: {'diag': 0.0036780069414437677, 'lr': 0.04865810062607908, 'lr_gd': 0.009090661945288686, 'alpha': 3.0, 's': 2}. Best is trial 7 with value: 0.0015721074222604325.\n",
      "[I 2024-02-09 16:15:46,082] Trial 23 finished with value: 0.002019289856615949 and parameters: {'diag': 0.001590224726915435, 'lr': 0.02070555332109875, 'lr_gd': 0.005587778283687155, 'alpha': 2.2, 's': 2}. Best is trial 7 with value: 0.0015721074222604325.\n",
      "[I 2024-02-09 16:15:57,372] Trial 24 finished with value: 0.0016960131900115093 and parameters: {'diag': 0.00661293564421449, 'lr': 0.05739968778678902, 'lr_gd': 0.0022505109385264435, 'alpha': 2.6, 's': 2}. Best is trial 7 with value: 0.0015721074222604325.\n",
      "[I 2024-02-09 16:16:08,956] Trial 25 finished with value: 0.0015548394050010593 and parameters: {'diag': 0.0022848009549230643, 'lr': 0.11727243867794986, 'lr_gd': 0.011725341452944031, 'alpha': 2.8000000000000003, 's': 2}. Best is trial 25 with value: 0.0015548394050010593.\n",
      "[I 2024-02-09 16:16:20,197] Trial 26 finished with value: 0.0014160275451048292 and parameters: {'diag': 0.0007947091099805349, 'lr': 0.2474468148865163, 'lr_gd': 0.012950616252475348, 'alpha': 2.2, 's': 2}. Best is trial 26 with value: 0.0014160275451048292.\n",
      "[I 2024-02-09 16:16:32,041] Trial 27 finished with value: 0.004001729737044789 and parameters: {'diag': 0.00022384797904000412, 'lr': 0.21582812864510767, 'lr_gd': 0.01647230040463334, 'alpha': 2.0, 's': 0}. Best is trial 26 with value: 0.0014160275451048292.\n",
      "[I 2024-02-09 16:16:44,170] Trial 28 finished with value: 0.0033433803894218593 and parameters: {'diag': 0.0007988475097599959, 'lr': 0.13041632586555388, 'lr_gd': 0.010277166878721027, 'alpha': 2.2, 's': 1}. Best is trial 26 with value: 0.0014160275451048292.\n",
      "[I 2024-02-09 16:16:56,432] Trial 29 finished with value: 0.0017757112665800754 and parameters: {'diag': 0.0010743975908462202, 'lr': 0.269935695179577, 'lr_gd': 0.012025728271416868, 'alpha': 1.8, 's': 1}. Best is trial 26 with value: 0.0014160275451048292.\n",
      "[I 2024-02-09 16:17:08,490] Trial 30 finished with value: 0.0015969885791789218 and parameters: {'diag': 0.0001740231983624209, 'lr': 0.16953237205833016, 'lr_gd': 0.02988948168378861, 'alpha': 2.6, 's': 2}. Best is trial 26 with value: 0.0014160275451048292.\n",
      "[I 2024-02-09 16:17:20,132] Trial 31 finished with value: 0.0025539720473494927 and parameters: {'diag': 0.00010329021017324898, 'lr': 0.3861061078446956, 'lr_gd': 0.015374169367341232, 'alpha': 2.6, 's': 2}. Best is trial 26 with value: 0.0014160275451048292.\n",
      "[I 2024-02-09 16:17:31,399] Trial 32 finished with value: 0.002003866313888775 and parameters: {'diag': 0.00018187128613553194, 'lr': 0.17258678092282528, 'lr_gd': 0.02951976289523828, 'alpha': 2.4000000000000004, 's': 2}. Best is trial 26 with value: 0.0014160275451048292.\n",
      "[I 2024-02-09 16:17:42,639] Trial 33 finished with value: 0.0019214013637096957 and parameters: {'diag': 0.0005320112624785548, 'lr': 0.10894466061740109, 'lr_gd': 0.006998061069233653, 'alpha': 2.0, 's': 2}. Best is trial 26 with value: 0.0014160275451048292.\n",
      "[I 2024-02-09 16:17:53,805] Trial 34 finished with value: 0.004483503686035646 and parameters: {'diag': 0.00022174459083712644, 'lr': 0.2096584599278769, 'lr_gd': 0.0278587081112223, 'alpha': 1.6, 's': 0}. Best is trial 26 with value: 0.0014160275451048292.\n",
      "[I 2024-02-09 16:18:05,184] Trial 35 finished with value: 0.0032828394828067218 and parameters: {'diag': 0.001866976101751565, 'lr': 0.00274059046697813, 'lr_gd': 0.0023494550198145726, 'alpha': 2.8000000000000003, 's': 2}. Best is trial 26 with value: 0.0014160275451048292.\n",
      "[I 2024-02-09 16:18:16,788] Trial 36 finished with value: 0.002551417726293568 and parameters: {'diag': 0.0006185223750659931, 'lr': 0.03507760292274435, 'lr_gd': 0.013683332885418606, 'alpha': 2.4000000000000004, 's': 0.5}. Best is trial 26 with value: 0.0014160275451048292.\n",
      "[I 2024-02-09 16:18:27,998] Trial 37 finished with value: 0.0035494876510514077 and parameters: {'diag': 0.0003161563496849083, 'lr': 0.3063497000419862, 'lr_gd': 0.006331165676388668, 'alpha': 1.8, 's': 2}. Best is trial 26 with value: 0.0014160275451048292.\n",
      "[I 2024-02-09 16:18:39,435] Trial 38 finished with value: 0.0016798027175430254 and parameters: {'diag': 0.004794998041395076, 'lr': 0.07577220065026673, 'lr_gd': 0.0245694219912273, 'alpha': 1.4000000000000001, 's': 1}. Best is trial 26 with value: 0.0014160275451048292.\n",
      "[I 2024-02-09 16:18:51,752] Trial 39 finished with value: 0.001803173755405691 and parameters: {'diag': 0.001250733594079338, 'lr': 0.2699253718373061, 'lr_gd': 0.018702728247210663, 'alpha': 2.2, 's': 0}. Best is trial 26 with value: 0.0014160275451048292.\n",
      "[I 2024-02-09 16:19:03,129] Trial 40 finished with value: 0.002428488420448404 and parameters: {'diag': 0.08077641434118572, 'lr': 0.006407915888080244, 'lr_gd': 0.010948601565196107, 'alpha': 0.0, 's': 0.5}. Best is trial 26 with value: 0.0014160275451048292.\n",
      "[I 2024-02-09 16:19:14,404] Trial 41 finished with value: 0.001660164519448919 and parameters: {'diag': 0.00287817652233426, 'lr': 0.09921207031433357, 'lr_gd': 0.09071369616881149, 'alpha': 2.8000000000000003, 's': 2}. Best is trial 26 with value: 0.0014160275451048292.\n",
      "[I 2024-02-09 16:19:26,132] Trial 42 finished with value: 0.0016718231755990555 and parameters: {'diag': 0.002331160963598964, 'lr': 0.14225656050056382, 'lr_gd': 0.38498002083574157, 'alpha': 3.0, 's': 2}. Best is trial 26 with value: 0.0014160275451048292.\n",
      "[I 2024-02-09 16:19:37,656] Trial 43 finished with value: 0.0014524885061778655 and parameters: {'diag': 0.007989065639365836, 'lr': 0.07101621583694412, 'lr_gd': 0.03991341067681079, 'alpha': 2.6, 's': 2}. Best is trial 26 with value: 0.0014160275451048292.\n",
      "[I 2024-02-09 16:19:49,118] Trial 44 finished with value: 0.0018767529911610486 and parameters: {'diag': 0.009471347849107501, 'lr': 0.03166628469046616, 'lr_gd': 0.0450624566169675, 'alpha': 2.6, 's': 2}. Best is trial 26 with value: 0.0014160275451048292.\n",
      "[I 2024-02-09 16:20:00,921] Trial 45 finished with value: 0.0018587831487852844 and parameters: {'diag': 0.015117640506817085, 'lr': 0.075107698805551, 'lr_gd': 0.056037550977485216, 'alpha': 2.4000000000000004, 's': 2}. Best is trial 26 with value: 0.0014160275451048292.\n",
      "[I 2024-02-09 16:20:12,272] Trial 46 finished with value: 0.002290895415731826 and parameters: {'diag': 0.035382929252783704, 'lr': 0.06253978899001635, 'lr_gd': 0.035150220906308406, 'alpha': 2.0, 's': 2}. Best is trial 26 with value: 0.0014160275451048292.\n",
      "[I 2024-02-09 16:20:23,730] Trial 47 finished with value: 0.0015652622340581197 and parameters: {'diag': 0.004596354989236503, 'lr': 0.01590339988051801, 'lr_gd': 0.019857694725545362, 'alpha': 2.6, 's': 0.5}. Best is trial 26 with value: 0.0014160275451048292.\n",
      "[I 2024-02-09 16:20:35,729] Trial 48 finished with value: 0.0016619991005527139 and parameters: {'diag': 0.00523265318699526, 'lr': 0.017379134848494862, 'lr_gd': 0.007674877911365153, 'alpha': 2.2, 's': 0.5}. Best is trial 26 with value: 0.0014160275451048292.\n",
      "[I 2024-02-09 16:20:47,220] Trial 49 finished with value: 0.0016731741389610817 and parameters: {'diag': 0.008070822077409208, 'lr': 0.008893849180942926, 'lr_gd': 0.022483341864789903, 'alpha': 2.8000000000000003, 's': 0.5}. Best is trial 26 with value: 0.0014160275451048292.\n"
     ]
    }
   ],
   "source": [
    "# srf = build_train_srf(key, X_train, y_train, R=R, diag=1e-3, epochs=1000, lr=0.1, alpha=0.5, s=0.5, from_data=False, init_ls=False)[0]\n",
    "# 0.0020596100864077723\n",
    "srf_study = run_hyperopt(\n",
    "    srf_cross_val, key, X_train, y_train, n_trials=50, R=R, epochs=1000, from_data=False, init_ls=False,\n",
    "    gd_params=lambda t: [t.kernel.transform.scale],\n",
    ")\n",
    "hparams[\"srf\"] = srf_study.best_params"
   ]
  },
  {
   "cell_type": "markdown",
   "metadata": {},
   "source": [
    "#### Mixture SRFR"
   ]
  },
  {
   "cell_type": "code",
   "execution_count": 11,
   "metadata": {},
   "outputs": [
    {
     "name": "stderr",
     "output_type": "stream",
     "text": [
      "[I 2024-02-09 14:19:37,100] A new study created in memory with name: no-name-1c828705-ce58-4fa3-865e-3707e5c646bb\n"
     ]
    },
    {
     "data": {
      "application/vnd.jupyter.widget-view+json": {
       "model_id": "b595fb325f71497ba560240a1dfd9bdd",
       "version_major": 2,
       "version_minor": 0
      },
      "text/plain": [
       "  0%|          | 0/75 [00:00<?, ?it/s]"
      ]
     },
     "metadata": {},
     "output_type": "display_data"
    },
    {
     "name": "stdout",
     "output_type": "stream",
     "text": [
      "[I 2024-02-09 14:20:20,111] Trial 0 finished with value: 0.001548594944027455 and parameters: {'diag': 0.0022742946996100106, 'lr': 0.09073038763378426, 'lr_gd': 0.007460318540195363, 'alpha': 1.4000000000000001, 'q': 2, 's': 1}. Best is trial 0 with value: 0.001548594944027455.\n",
      "[I 2024-02-09 14:21:03,979] Trial 1 finished with value: 0.0017445334749426257 and parameters: {'diag': 0.004325099909475718, 'lr': 0.24555676874551285, 'lr_gd': 0.0012065065852121704, 'alpha': 3.0, 'q': 2, 's': 1}. Best is trial 0 with value: 0.001548594944027455.\n",
      "[I 2024-02-09 14:21:48,670] Trial 2 finished with value: 0.002629037505924706 and parameters: {'diag': 0.04277219969537836, 'lr': 0.011137517940353898, 'lr_gd': 0.026589137423570167, 'alpha': 3.0, 'q': 2, 's': 1}. Best is trial 0 with value: 0.001548594944027455.\n",
      "[I 2024-02-09 14:22:12,569] Trial 3 finished with value: 0.0019560586199172934 and parameters: {'diag': 0.00022592825834054283, 'lr': 0.05313175145696674, 'lr_gd': 0.039612666171528275, 'alpha': 1.6, 'q': 4, 's': 0}. Best is trial 0 with value: 0.001548594944027455.\n",
      "[I 2024-02-09 14:24:06,454] Trial 4 finished with value: 0.0024186389727750388 and parameters: {'diag': 0.025849644036057145, 'lr': 0.0012495838578613016, 'lr_gd': 0.1812999869469713, 'alpha': 0.4, 'q': 4, 's': 0.5}. Best is trial 0 with value: 0.001548594944027455.\n",
      "[I 2024-02-09 14:25:11,951] Trial 5 finished with value: 0.0017858546551409286 and parameters: {'diag': 0.01111214737561223, 'lr': 0.04684751763276805, 'lr_gd': 0.005663476042899496, 'alpha': 1.6, 'q': 10, 's': 1}. Best is trial 0 with value: 0.001548594944027455.\n",
      "[I 2024-02-09 14:25:48,853] Trial 6 finished with value: 0.0014366093382267107 and parameters: {'diag': 0.003011269335535734, 'lr': 0.11009892964299704, 'lr_gd': 0.05021631223607533, 'alpha': 0.4, 'q': 6, 's': 2}. Best is trial 6 with value: 0.0014366093382267107.\n",
      "[I 2024-02-09 14:26:37,625] Trial 7 finished with value: 0.0015413033129543514 and parameters: {'diag': 0.0022802107745748157, 'lr': 0.12561895589944996, 'lr_gd': 0.002477226926210373, 'alpha': 2.6, 'q': 8, 's': 0}. Best is trial 6 with value: 0.0014366093382267107.\n",
      "[I 2024-02-09 14:27:26,120] Trial 8 finished with value: 0.002158322685680436 and parameters: {'diag': 0.011902601721967282, 'lr': 0.0013380505451714704, 'lr_gd': 0.13598738104202254, 'alpha': 1.0, 'q': 8, 's': 1}. Best is trial 6 with value: 0.0014366093382267107.\n",
      "[I 2024-02-09 14:28:14,746] Trial 9 finished with value: 0.001749245761217368 and parameters: {'diag': 0.00010977038985114341, 'lr': 0.01080057611807983, 'lr_gd': 0.010488244683543532, 'alpha': 1.2000000000000002, 'q': 8, 's': 0}. Best is trial 6 with value: 0.0014366093382267107.\n",
      "[I 2024-02-09 14:28:51,231] Trial 10 finished with value: 0.0016714610197194803 and parameters: {'diag': 0.0005249044101399607, 'lr': 0.3822929282372576, 'lr_gd': 0.0747656934977972, 'alpha': 0.0, 'q': 6, 's': 2}. Best is trial 6 with value: 0.0014366093382267107.\n",
      "[I 2024-02-09 14:29:39,968] Trial 11 finished with value: 0.0018428148512102064 and parameters: {'diag': 0.001163339926607082, 'lr': 0.14671802948378446, 'lr_gd': 0.0010116122261396715, 'alpha': 2.2, 'q': 8, 's': 2}. Best is trial 6 with value: 0.0014366093382267107.\n",
      "[I 2024-02-09 14:30:16,600] Trial 12 finished with value: 0.0015237918161827933 and parameters: {'diag': 0.003760233120634734, 'lr': 0.030055772344764288, 'lr_gd': 0.0028710083426327464, 'alpha': 2.2, 'q': 6, 's': 0}. Best is trial 6 with value: 0.0014366093382267107.\n",
      "[I 2024-02-09 14:30:52,999] Trial 13 finished with value: 0.002037298709991962 and parameters: {'diag': 0.006101501143235208, 'lr': 0.02179334728582294, 'lr_gd': 0.31072005658326185, 'alpha': 2.2, 'q': 6, 's': 2}. Best is trial 6 with value: 0.0014366093382267107.\n",
      "[I 2024-02-09 14:32:47,491] Trial 14 finished with value: 0.0026731856678884713 and parameters: {'diag': 0.09148227352767378, 'lr': 0.0036799523086153995, 'lr_gd': 0.018954008176496014, 'alpha': 0.6000000000000001, 'q': 4, 's': 0.5}. Best is trial 6 with value: 0.0014366093382267107.\n",
      "[I 2024-02-09 14:33:23,704] Trial 15 finished with value: 0.0022707378972045772 and parameters: {'diag': 0.0008365324965510289, 'lr': 0.029431789525104553, 'lr_gd': 0.0030508493514952045, 'alpha': 2.0, 'q': 6, 's': 2}. Best is trial 6 with value: 0.0014366093382267107.\n",
      "[I 2024-02-09 14:34:28,629] Trial 16 finished with value: 0.002099253586425598 and parameters: {'diag': 0.00781556006074308, 'lr': 0.011145119380918984, 'lr_gd': 0.0718192785498223, 'alpha': 0.8, 'q': 10, 's': 0}. Best is trial 6 with value: 0.0014366093382267107.\n",
      "[I 2024-02-09 14:34:52,634] Trial 17 finished with value: 0.0014363148562878258 and parameters: {'diag': 0.001599426473247442, 'lr': 0.07656160122159913, 'lr_gd': 0.01353595421120727, 'alpha': 0.0, 'q': 4, 's': 0}. Best is trial 17 with value: 0.0014363148562878258.\n",
      "[I 2024-02-09 14:36:47,594] Trial 18 finished with value: 0.0013948982792490881 and parameters: {'diag': 0.0003649181249920873, 'lr': 0.07284853048840034, 'lr_gd': 0.045788945516184024, 'alpha': 0.0, 'q': 4, 's': 2}. Best is trial 18 with value: 0.0013948982792490881.\n",
      "[I 2024-02-09 14:38:42,893] Trial 19 finished with value: 0.0017910578106556537 and parameters: {'diag': 0.0005624702433689824, 'lr': 0.059117653161441956, 'lr_gd': 0.016218289707673757, 'alpha': 0.0, 'q': 4, 's': 0.5}. Best is trial 18 with value: 0.0013948982792490881.\n",
      "[I 2024-02-09 14:39:06,626] Trial 20 finished with value: 0.002785292744136826 and parameters: {'diag': 0.00024358130061481948, 'lr': 0.24724415774090527, 'lr_gd': 0.013294654811851062, 'alpha': 0.2, 'q': 4, 's': 0}. Best is trial 18 with value: 0.0013948982792490881.\n",
      "[I 2024-02-09 14:41:01,708] Trial 21 finished with value: 0.0012920050788674847 and parameters: {'diag': 0.0013540158843671983, 'lr': 0.0937486185635713, 'lr_gd': 0.0459434816281165, 'alpha': 0.4, 'q': 4, 's': 2}. Best is trial 21 with value: 0.0012920050788674847.\n",
      "[I 2024-02-09 14:42:57,678] Trial 22 finished with value: 0.0013071430533447676 and parameters: {'diag': 0.0014200750483043616, 'lr': 0.07471949745840578, 'lr_gd': 0.02842026204857799, 'alpha': 0.0, 'q': 4, 's': 2}. Best is trial 21 with value: 0.0012920050788674847.\n",
      "[I 2024-02-09 14:43:40,821] Trial 23 finished with value: 0.0014325410510485042 and parameters: {'diag': 0.000340961471493962, 'lr': 0.19188839021090245, 'lr_gd': 0.03106434781315902, 'alpha': 0.4, 'q': 2, 's': 2}. Best is trial 21 with value: 0.0012920050788674847.\n",
      "[I 2024-02-09 14:45:37,409] Trial 24 finished with value: 0.001427544388434426 and parameters: {'diag': 0.0001394500052391441, 'lr': 0.034839082887085634, 'lr_gd': 0.0972932486549477, 'alpha': 0.8, 'q': 4, 's': 2}. Best is trial 21 with value: 0.0012920050788674847.\n",
      "[I 2024-02-09 14:46:20,804] Trial 25 finished with value: 0.0013088858313351289 and parameters: {'diag': 0.0008117284144239288, 'lr': 0.01824701774926508, 'lr_gd': 0.056167031473211185, 'alpha': 0.2, 'q': 2, 's': 2}. Best is trial 21 with value: 0.0012920050788674847.\n",
      "[I 2024-02-09 14:47:03,985] Trial 26 finished with value: 0.0015139874883166359 and parameters: {'diag': 0.0009073502093688126, 'lr': 0.012945981918300948, 'lr_gd': 0.3894040527642305, 'alpha': 0.6000000000000001, 'q': 2, 's': 2}. Best is trial 21 with value: 0.0012920050788674847.\n",
      "[I 2024-02-09 14:47:47,173] Trial 27 finished with value: 0.0013442292540758471 and parameters: {'diag': 0.0014845039423848326, 'lr': 0.006360611262014808, 'lr_gd': 0.027985332900622654, 'alpha': 0.2, 'q': 2, 's': 2}. Best is trial 21 with value: 0.0012920050788674847.\n",
      "[I 2024-02-09 14:48:30,680] Trial 28 finished with value: 0.00137793475951777 and parameters: {'diag': 0.0006583839503036982, 'lr': 0.01815749831126091, 'lr_gd': 0.2053724856762507, 'alpha': 0.8, 'q': 2, 's': 2}. Best is trial 21 with value: 0.0012920050788674847.\n",
      "[I 2024-02-09 14:49:13,442] Trial 29 finished with value: 0.001567898558305987 and parameters: {'diag': 0.0023927003260562985, 'lr': 0.0035360294674893766, 'lr_gd': 0.006721671368342103, 'alpha': 1.2000000000000002, 'q': 2, 's': 2}. Best is trial 21 with value: 0.0012920050788674847.\n",
      "[I 2024-02-09 14:51:08,351] Trial 30 finished with value: 0.0013059207264540023 and parameters: {'diag': 0.0013305608854642412, 'lr': 0.04129622617453792, 'lr_gd': 0.05910616561508936, 'alpha': 0.2, 'q': 4, 's': 2}. Best is trial 21 with value: 0.0012920050788674847.\n",
      "[I 2024-02-09 14:53:03,466] Trial 31 finished with value: 0.0014017006635660349 and parameters: {'diag': 0.0014940727153147384, 'lr': 0.04391106355286064, 'lr_gd': 0.06654549055394128, 'alpha': 0.2, 'q': 4, 's': 2}. Best is trial 21 with value: 0.0012920050788674847.\n",
      "[I 2024-02-09 14:53:46,408] Trial 32 finished with value: 0.0013442048717785967 and parameters: {'diag': 0.0012724089045395063, 'lr': 0.019829904769636537, 'lr_gd': 0.12620393461911383, 'alpha': 0.6000000000000001, 'q': 2, 's': 2}. Best is trial 21 with value: 0.0012920050788674847.\n",
      "[I 2024-02-09 14:55:44,150] Trial 33 finished with value: 0.0015628850275763244 and parameters: {'diag': 0.0050763804824314075, 'lr': 0.08963852551566552, 'lr_gd': 0.02384592166136956, 'alpha': 0.2, 'q': 4, 's': 2}. Best is trial 21 with value: 0.0012920050788674847.\n",
      "[I 2024-02-09 14:56:27,096] Trial 34 finished with value: 0.0014612013267458564 and parameters: {'diag': 0.0019827980226758313, 'lr': 0.03985123528777426, 'lr_gd': 0.053440051627177534, 'alpha': 0.4, 'q': 2, 's': 2}. Best is trial 21 with value: 0.0012920050788674847.\n",
      "[I 2024-02-09 14:58:21,781] Trial 35 finished with value: 0.00125178469527704 and parameters: {'diag': 0.0009327295239399016, 'lr': 0.18672195603246802, 'lr_gd': 0.03564189402643626, 'alpha': 0.2, 'q': 4, 's': 1}. Best is trial 35 with value: 0.00125178469527704.\n",
      "[I 2024-02-09 15:00:15,757] Trial 36 finished with value: 0.0013937151456259703 and parameters: {'diag': 0.0003341781377438615, 'lr': 0.37834292349260984, 'lr_gd': 0.035772674594787654, 'alpha': 0.6000000000000001, 'q': 4, 's': 1}. Best is trial 35 with value: 0.00125178469527704.\n",
      "[I 2024-02-09 15:00:52,148] Trial 37 finished with value: 0.0014618188495944865 and parameters: {'diag': 0.0031846704102757198, 'lr': 0.1761242988225026, 'lr_gd': 0.009614766512145496, 'alpha': 1.0, 'q': 6, 's': 1}. Best is trial 35 with value: 0.00125178469527704.\n",
      "[I 2024-02-09 15:02:46,327] Trial 38 finished with value: 0.001292788118576511 and parameters: {'diag': 0.0009861026891470137, 'lr': 0.24632835315805746, 'lr_gd': 0.09171923169619484, 'alpha': 0.0, 'q': 4, 's': 1}. Best is trial 35 with value: 0.00125178469527704.\n",
      "[I 2024-02-09 15:03:22,411] Trial 39 finished with value: 0.0011677799290638316 and parameters: {'diag': 0.0004602627084596435, 'lr': 0.2557866592383898, 'lr_gd': 0.10240823848881808, 'alpha': 0.4, 'q': 6, 's': 1}. Best is trial 39 with value: 0.0011677799290638316.\n",
      "[I 2024-02-09 15:03:58,686] Trial 40 finished with value: 0.0010218285407201139 and parameters: {'diag': 0.00018918969687806665, 'lr': 0.26111359173072646, 'lr_gd': 0.19232455521112318, 'alpha': 1.4000000000000001, 'q': 6, 's': 1}. Best is trial 40 with value: 0.0010218285407201139.\n",
      "[I 2024-02-09 15:04:34,843] Trial 41 finished with value: 0.001165764398108235 and parameters: {'diag': 0.00022340370308835056, 'lr': 0.2559102060143716, 'lr_gd': 0.2079761483199123, 'alpha': 1.8, 'q': 6, 's': 1}. Best is trial 40 with value: 0.0010218285407201139.\n",
      "[I 2024-02-09 15:05:11,503] Trial 42 finished with value: 0.0011458649171309967 and parameters: {'diag': 0.000188596195972915, 'lr': 0.291988855212284, 'lr_gd': 0.2245100230924031, 'alpha': 1.8, 'q': 6, 's': 1}. Best is trial 40 with value: 0.0010218285407201139.\n",
      "[I 2024-02-09 15:05:47,761] Trial 43 finished with value: 0.0010119497549543196 and parameters: {'diag': 0.0001711624082043764, 'lr': 0.28710358596658164, 'lr_gd': 0.22771443768884309, 'alpha': 1.8, 'q': 6, 's': 1}. Best is trial 43 with value: 0.0010119497549543196.\n",
      "[I 2024-02-09 15:06:24,075] Trial 44 finished with value: 0.0011258931813928606 and parameters: {'diag': 0.000183946881752575, 'lr': 0.3018459492297767, 'lr_gd': 0.2224807493053426, 'alpha': 1.8, 'q': 6, 's': 1}. Best is trial 43 with value: 0.0010119497549543196.\n",
      "[I 2024-02-09 15:07:12,582] Trial 45 finished with value: 0.001062560418026156 and parameters: {'diag': 0.00016282962015439626, 'lr': 0.35782481712948133, 'lr_gd': 0.22522778758884346, 'alpha': 1.8, 'q': 8, 's': 1}. Best is trial 43 with value: 0.0010119497549543196.\n",
      "[I 2024-02-09 15:08:01,116] Trial 46 finished with value: 0.001035197491869665 and parameters: {'diag': 0.00015263004751537066, 'lr': 0.3434107944380921, 'lr_gd': 0.2723399869524944, 'alpha': 1.6, 'q': 8, 's': 1}. Best is trial 43 with value: 0.0010119497549543196.\n",
      "[I 2024-02-09 15:08:49,645] Trial 47 finished with value: 0.0008583645718728899 and parameters: {'diag': 0.00010349222553994497, 'lr': 0.38778288841293496, 'lr_gd': 0.2860060539057772, 'alpha': 1.4000000000000001, 'q': 8, 's': 1}. Best is trial 47 with value: 0.0008583645718728899.\n",
      "[I 2024-02-09 15:09:38,132] Trial 48 finished with value: 0.001377534637797933 and parameters: {'diag': 0.00010191286963018065, 'lr': 0.38777804546612854, 'lr_gd': 0.3113118603951713, 'alpha': 1.4000000000000001, 'q': 8, 's': 1}. Best is trial 47 with value: 0.0008583645718728899.\n",
      "[I 2024-02-09 15:10:26,611] Trial 49 finished with value: 0.0010089899855922307 and parameters: {'diag': 0.00014254317455789694, 'lr': 0.13461844795758685, 'lr_gd': 0.13981738630017812, 'alpha': 1.6, 'q': 8, 's': 1}. Best is trial 47 with value: 0.0008583645718728899.\n",
      "[I 2024-02-09 15:11:31,578] Trial 50 finished with value: 0.0009634574275078651 and parameters: {'diag': 0.00013457129033945248, 'lr': 0.12849918073907762, 'lr_gd': 0.14950328537069646, 'alpha': 1.6, 'q': 10, 's': 1}. Best is trial 47 with value: 0.0008583645718728899.\n",
      "[I 2024-02-09 15:12:36,726] Trial 51 finished with value: 0.0010289223132031347 and parameters: {'diag': 0.00014106610450858684, 'lr': 0.13606411585110825, 'lr_gd': 0.12454231399742785, 'alpha': 1.6, 'q': 10, 's': 1}. Best is trial 47 with value: 0.0008583645718728899.\n",
      "[I 2024-02-09 15:13:41,959] Trial 52 finished with value: 0.0008941829932930008 and parameters: {'diag': 0.00012561431424710208, 'lr': 0.12868946706887457, 'lr_gd': 0.15560024113320062, 'alpha': 1.6, 'q': 10, 's': 1}. Best is trial 47 with value: 0.0008583645718728899.\n",
      "[I 2024-02-09 15:14:47,244] Trial 53 finished with value: 0.0010592441030871386 and parameters: {'diag': 0.0002738744458259807, 'lr': 0.16986908650448443, 'lr_gd': 0.17326850952998285, 'alpha': 1.4000000000000001, 'q': 10, 's': 1}. Best is trial 47 with value: 0.0008583645718728899.\n",
      "[I 2024-02-09 15:15:52,450] Trial 54 finished with value: 0.000984636280652996 and parameters: {'diag': 0.00010559232162399922, 'lr': 0.11648965317500444, 'lr_gd': 0.1562376951938401, 'alpha': 2.0, 'q': 10, 's': 1}. Best is trial 47 with value: 0.0008583645718728899.\n",
      "[I 2024-02-09 15:16:57,717] Trial 55 finished with value: 0.0010386484846951444 and parameters: {'diag': 0.00010097027763364699, 'lr': 0.11269421901832306, 'lr_gd': 0.1565312214572406, 'alpha': 2.4000000000000004, 'q': 10, 's': 0.5}. Best is trial 47 with value: 0.0008583645718728899.\n",
      "[I 2024-02-09 15:18:03,066] Trial 56 finished with value: 0.0010982602501898768 and parameters: {'diag': 0.0001255717801820725, 'lr': 0.14324022596786587, 'lr_gd': 0.3687949739578558, 'alpha': 2.0, 'q': 10, 's': 1}. Best is trial 47 with value: 0.0008583645718728899.\n",
      "[I 2024-02-09 15:19:09,439] Trial 57 finished with value: 0.002180653527446774 and parameters: {'diag': 0.024247183817674996, 'lr': 0.2050204827614518, 'lr_gd': 0.2818198223507219, 'alpha': 2.0, 'q': 10, 's': 1}. Best is trial 47 with value: 0.0008583645718728899.\n",
      "[I 2024-02-09 15:19:58,238] Trial 58 finished with value: 0.0009649248263985368 and parameters: {'diag': 0.00028398830180976006, 'lr': 0.054646433621405616, 'lr_gd': 0.1463748446399477, 'alpha': 1.2000000000000002, 'q': 8, 's': 1}. Best is trial 47 with value: 0.0008583645718728899.\n",
      "[I 2024-02-09 15:20:47,078] Trial 59 finished with value: 0.0012506591241695055 and parameters: {'diag': 0.0002613770340022098, 'lr': 0.09495094632558677, 'lr_gd': 0.08684896938241943, 'alpha': 1.2000000000000002, 'q': 8, 's': 1}. Best is trial 47 with value: 0.0008583645718728899.\n",
      "[I 2024-02-09 15:21:52,339] Trial 60 finished with value: 0.000982974582256158 and parameters: {'diag': 0.0004438928011808693, 'lr': 0.06024482170165702, 'lr_gd': 0.14182200598374797, 'alpha': 2.8000000000000003, 'q': 10, 's': 0.5}. Best is trial 47 with value: 0.0008583645718728899.\n",
      "[I 2024-02-09 15:22:57,703] Trial 61 finished with value: 0.0012598671043885824 and parameters: {'diag': 0.00012609843464821003, 'lr': 0.0608315242667601, 'lr_gd': 0.14203036639761138, 'alpha': 2.8000000000000003, 'q': 10, 's': 0.5}. Best is trial 47 with value: 0.0008583645718728899.\n",
      "[I 2024-02-09 15:24:03,094] Trial 62 finished with value: 0.0011597255703072926 and parameters: {'diag': 0.00022184128928305787, 'lr': 0.05326061460951134, 'lr_gd': 0.11334585995638194, 'alpha': 3.0, 'q': 10, 's': 0.5}. Best is trial 47 with value: 0.0008583645718728899.\n",
      "[I 2024-02-09 15:24:52,164] Trial 63 finished with value: 0.001014344910215742 and parameters: {'diag': 0.00042590090787697076, 'lr': 0.11566584568605932, 'lr_gd': 0.15319737874307426, 'alpha': 1.0, 'q': 8, 's': 0.5}. Best is trial 47 with value: 0.0008583645718728899.\n",
      "[I 2024-02-09 15:25:57,805] Trial 64 finished with value: 0.0009781026527668954 and parameters: {'diag': 0.0001195238439137702, 'lr': 0.06371905184051116, 'lr_gd': 0.16541464419799176, 'alpha': 2.4000000000000004, 'q': 10, 's': 1}. Best is trial 47 with value: 0.0008583645718728899.\n",
      "[I 2024-02-09 15:27:03,185] Trial 65 finished with value: 0.001024209564392651 and parameters: {'diag': 0.00031130034048318497, 'lr': 0.02658697444233447, 'lr_gd': 0.17283811258995213, 'alpha': 2.6, 'q': 10, 's': 0.5}. Best is trial 47 with value: 0.0008583645718728899.\n",
      "[I 2024-02-09 15:28:08,453] Trial 66 finished with value: 0.001402112794403438 and parameters: {'diag': 0.00011751801310242573, 'lr': 0.0704851267056833, 'lr_gd': 0.08028495830248622, 'alpha': 2.4000000000000004, 'q': 10, 's': 1}. Best is trial 47 with value: 0.0008583645718728899.\n",
      "[I 2024-02-09 15:29:13,878] Trial 67 finished with value: 0.0014681262428421014 and parameters: {'diag': 0.00020390079906127374, 'lr': 0.05801469580855891, 'lr_gd': 0.2694712041489046, 'alpha': 2.8000000000000003, 'q': 10, 's': 0}. Best is trial 47 with value: 0.0008583645718728899.\n",
      "[I 2024-02-09 15:30:19,054] Trial 68 finished with value: 0.001203259276931936 and parameters: {'diag': 0.00010119112471219869, 'lr': 0.0999450156167941, 'lr_gd': 0.10611561909706567, 'alpha': 2.4000000000000004, 'q': 10, 's': 1}. Best is trial 47 with value: 0.0008583645718728899.\n",
      "[I 2024-02-09 15:31:24,429] Trial 69 finished with value: 0.001192985223843659 and parameters: {'diag': 0.0006287776621485105, 'lr': 0.08042085103832308, 'lr_gd': 0.33043146180122235, 'alpha': 2.2, 'q': 10, 's': 1}. Best is trial 47 with value: 0.0008583645718728899.\n",
      "[I 2024-02-09 15:32:29,775] Trial 70 finished with value: 0.0011134994680951713 and parameters: {'diag': 0.00039170220309761464, 'lr': 0.0322232205807519, 'lr_gd': 0.397569692473324, 'alpha': 1.2000000000000002, 'q': 10, 's': 0.5}. Best is trial 47 with value: 0.0008583645718728899.\n",
      "[I 2024-02-09 15:33:18,682] Trial 71 finished with value: 0.0010110403907916603 and parameters: {'diag': 0.00014319521690587365, 'lr': 0.15275977748447453, 'lr_gd': 0.1454542668781261, 'alpha': 1.6, 'q': 8, 's': 1}. Best is trial 47 with value: 0.0008583645718728899.\n",
      "[I 2024-02-09 15:34:07,567] Trial 72 finished with value: 0.001161527329457587 and parameters: {'diag': 0.0001270172890660085, 'lr': 0.04856998208611128, 'lr_gd': 0.12498002838252763, 'alpha': 1.4000000000000001, 'q': 8, 's': 1}. Best is trial 47 with value: 0.0008583645718728899.\n",
      "[I 2024-02-09 15:34:56,579] Trial 73 finished with value: 0.001230287697694149 and parameters: {'diag': 0.00025308544159337125, 'lr': 0.1171580007295866, 'lr_gd': 0.07081597795279854, 'alpha': 2.0, 'q': 8, 's': 1}. Best is trial 47 with value: 0.0008583645718728899.\n",
      "[I 2024-02-09 15:36:01,883] Trial 74 finished with value: 0.000895692529332692 and parameters: {'diag': 0.0001604648745793935, 'lr': 0.06821442337326283, 'lr_gd': 0.1872388902826098, 'alpha': 1.6, 'q': 10, 's': 1}. Best is trial 47 with value: 0.0008583645718728899.\n"
     ]
    }
   ],
   "source": [
    "# mix_rff = build_train_mix_rff(\n",
    "#     key, X_train, y_train, diag=1e-2, q=5, R=100, alpha=1.4, lr=0.1, from_data=False, epochs=1000, init_ls=False\n",
    "# )[0]\n",
    "prior = TFTarget(tfd.Normal(jnp.zeros(d), jnp.ones(d) * 3))\n",
    "mix_rff_study = run_hyperopt(\n",
    "    mix_rff_cross_val, key, X_train, y_train, n_trials=75, R=R, epochs=1000, from_data=False, prior=prior, init_ls=False,\n",
    "    gd_params=lambda t: [t.kernel.transform.scale], \n",
    ")"
   ]
  },
  {
   "cell_type": "markdown",
   "metadata": {},
   "source": [
    "#### Nonstationary GP"
   ]
  },
  {
   "cell_type": "code",
   "execution_count": null,
   "metadata": {},
   "outputs": [],
   "source": [
    "# build_train_nrff(key, X_train, y_train, R=100, diag=1e-4, epochs=1000, lr=0.01, from_data=False, init_ls=False)\n",
    "nrff_study = run_hyperopt(\n",
    "    nrff_cross_val, key, X_train, y_train, n_trials=n_trials, R=R, from_data=False, epochs=1000, init_ls=False\n",
    ")\n",
    "hparams[\"nrff\"] = nrff_study.best_params"
   ]
  },
  {
   "cell_type": "markdown",
   "metadata": {},
   "source": [
    "#### Nonstationary Mixture SRFR"
   ]
  },
  {
   "cell_type": "code",
   "execution_count": null,
   "metadata": {},
   "outputs": [],
   "source": [
    "# build_train_nmix_rff(\n",
    "#     key, X_train, y_train, q=5, R=100, diag=1e-4, alpha=0.5, epochs=10, lr=0.01, from_data=False, init_ls=False\n",
    "# )\n",
    "nmix_rff = run_hyperopt(\n",
    "    nmix_cross_val, key, X_train, y_train, n_trials=75, R=R, from_data=False, epochs=1000, init_ls=False\n",
    ")\n",
    "hparams[\"nmix_rff\"] = nmix_rff.best_params"
   ]
  },
  {
   "cell_type": "markdown",
   "metadata": {},
   "source": [
    "## Define and Run Experiment"
   ]
  },
  {
   "cell_type": "markdown",
   "metadata": {},
   "source": [
    "### Definition"
   ]
  },
  {
   "cell_type": "code",
   "execution_count": 26,
   "metadata": {},
   "outputs": [],
   "source": [
    "def experiment_run(exp_key, X, y, scaler, params, R, restarts=1):    \n",
    "    # split data\n",
    "    X_tr, X_test, y_tr, y_test = train_test_split(X, y, test_size=0.2, random_state=int(exp_key[0]))\n",
    "    X_tr, X_test, y_tr, y_test = jnp.array(X_tr), jnp.array(X_test), jnp.array(y_tr), jnp.array(y_test)\n",
    "\n",
    "    ############ SVGP ############\n",
    "    svgp, _ = build_train_svgp(exp_key, X_tr, y_tr, R=R, **params[\"svgp\"])\n",
    "    svgp_preds, svgp_sd = svgp_predict(svgp, X_test)\n",
    "    svgp_metrics = metric_model(y_test, svgp_preds, svgp_sd, scaler=scaler)\n",
    "\n",
    "    ############ RFF RBF ############\n",
    "    rff_rbf_gp, _ = build_train_rff_rbf(exp_key, X_tr, y_tr, R=R, restarts=restarts, **params[\"rff_rbf\"])\n",
    "    rff_rbf_preds, rff_rbf_sd = rff_rbf_gp.condition(y_tr, X_test)\n",
    "    rff_rbf_metrics = metric_model(y_test, rff_rbf_preds, rff_rbf_sd, scaler=scaler)\n",
    "\n",
    "    ############ RFF ############\n",
    "    rff_gp, _ = build_train_rff(exp_key, X_tr, y_tr, R=R, restarts=restarts, **params[\"rff\"])\n",
    "    rff_preds, rff_sd = rff_gp.condition(y_tr, X_test)\n",
    "    rff_metrics = metric_model(y_test, rff_preds, rff_sd, scaler=scaler)\n",
    "\n",
    "    ############ RFF-Q ############\n",
    "    # RFF with the equilvalent number of R as the computational complexity of the mixture.\n",
    "    q = params[\"mix_rff\"][\"q\"]\n",
    "    R_equiv_q = int((q * R**3)**(1/3))\n",
    "    qrff_gp, _ = build_train_rff(exp_key, X_tr, y_tr, R=R_equiv_q, restarts=restarts, **params[\"rff\"])\n",
    "    qrff_preds, qrff_sd = qrff_gp.condition(y_tr, X_test)\n",
    "    qrff_metrics = metric_model(y_test, qrff_preds, qrff_sd, scaler=scaler)\n",
    "\n",
    "    ############ SRF ############\n",
    "    srf_gp, _ = build_train_srf(exp_key, X_tr, y_tr, R=R, restarts=restarts, **params[\"srf\"])\n",
    "    srf_preds, srf_sd = srf_gp.condition(y_tr, X_test)\n",
    "    srf_metrics = metric_model(y_test, srf_preds, srf_sd, scaler=scaler)\n",
    "\n",
    "    ############ NRFF ############\n",
    "    # nrff_gp, _ = build_train_nrff(exp_key, X_tr, y_tr, R=R, restarts=restarts, **params[\"nrff\"])\n",
    "    # nrff_preds, nrff_sd = nrff_gp.condition(y_tr, X_test)\n",
    "    # nrff_metrics = metric_model(y_test, nrff_preds, nrff_sd, scaler=scaler)\n",
    "\n",
    "    ############ MIX ############\n",
    "    mix_gp, _ = build_train_mix_rff(exp_key, X_tr, y_tr, R=R, restarts=restarts, **params[\"mix_rff\"])\n",
    "    mix_preds, mix_sd = mix_gp.condition(exp_key, y_tr, X_test)\n",
    "    mix_metrics = metric_model(y_test, mix_preds, mix_sd, scaler=scaler)\n",
    "\n",
    "    # # ############ NMIX ############\n",
    "    # nmix_rff_gp, _ = build_train_nsrf(exp_key, X_tr, y_tr, R=R, **params[\"nmix_rff\"])\n",
    "    # nmix_rff_preds, nmix_rff_sd = nmix_rff_gp.condition(exp_key, y_tr, X_test)\n",
    "    # nmix_rff_metrics = metric_model(y_test, nmix_rff_preds, nmix_rff_sd, scaler=scaler)\n",
    "\n",
    "    metrics = {\n",
    "        \"seed\": exp_key[1],\n",
    "        \"svgp\": svgp_metrics,\n",
    "        \"rff_rbf\": rff_rbf_metrics,\n",
    "        \"rff\": rff_metrics,\n",
    "        \"qrff\": qrff_metrics,\n",
    "        \"srf\": srf_metrics,\n",
    "        # \"nrff\": nrff_metrics,\n",
    "        \"mix\": mix_metrics,\n",
    "        # \"nmix\": nmix_rff_metrics\n",
    "    }\n",
    "\n",
    "    return metrics"
   ]
  },
  {
   "cell_type": "code",
   "execution_count": 27,
   "metadata": {},
   "outputs": [],
   "source": [
    "def multi_run(multi_key, X, y, scaler, params, R, n_runs=10):\n",
    "    metrics = []\n",
    "    run_keys = jax.random.split(multi_key, n_runs)\n",
    "\n",
    "    for i in range(n_runs):\n",
    "        print(f\"Running experiment {i+1} of {n_runs}\")\n",
    "        run_res = experiment_run(run_keys[i], X, y, scaler, params, R)\n",
    "        metrics.append(run_res)\n",
    "        print(run_res)\n",
    "    \n",
    "    return metrics"
   ]
  },
  {
   "cell_type": "markdown",
   "metadata": {},
   "source": [
    "### Run"
   ]
  },
  {
   "cell_type": "code",
   "execution_count": 30,
   "metadata": {},
   "outputs": [],
   "source": [
    "# parameters\n",
    "KEY, subkey = jax.random.split(jax.random.PRNGKey(2024))\n",
    "params = {\n",
    "    \"svgp\": {'epochs': 4000, 'lr': 0.006205596625783714, 'from_data': False, 'diag': 1e-2},\n",
    "    \"rff_rbf\": {'init_ls': False, 'epochs': 1000, 'diag': 0.002107794213114641, 'lr': 0.04026430906645888},\n",
    "    \"rff\": {'epochs': 1000, 'from_data': False, 'init_ls': False, 'diag': 0.001013232749942153, 'lr': 0.0500335389855656},\n",
    "    \"srf\": {\n",
    "        'diag': 0.0007947091099805349, 'lr': 0.2474468148865163, 'lr_gd': 0.012950616252475348, 'alpha': 2.2, 's': 2,\n",
    "        'epochs': 1000, 'from_data': False, 'init_ls': False, 'gd_params': lambda t: [t.kernel.transform.scale]\n",
    "    },\n",
    "    \"mix_rff\": {\n",
    "        'diag': 0.00010349222553994497, 'lr': 0.38778288841293496, 'lr_gd': 0.2860060539057772, 'alpha': 1.4, 'q': 8, 's': 1,\n",
    "        'epochs': 1000, 'from_data': False, 'init_ls': False, 'gd_params': lambda t: [t.kernel.transform.scale],\n",
    "        'prior': TFTarget(tfd.Normal(jnp.zeros(d), jnp.ones(d) * 3)),\n",
    "    },\n",
    "}"
   ]
  },
  {
   "cell_type": "code",
   "execution_count": 31,
   "metadata": {},
   "outputs": [
    {
     "name": "stdout",
     "output_type": "stream",
     "text": [
      "Running experiment 1 of 10\n",
      "{'seed': Array(3007921430, dtype=uint32), 'svgp': Array([8.84916855, 1.98704193, 0.84415585, 0.01973068], dtype=float64), 'rff_rbf': Array([ 2.39230255e-01,  3.44767298e-01,  9.15584385e-01, -7.49805007e-04],      dtype=float64), 'rff': Array([ 1.01681336e-01,  2.27172320e-01,  9.48051929e-01, -4.35881333e-04],      dtype=float64), 'qrff': Array([ 1.18637745e-01,  2.46231495e-01,  9.35064912e-01, -2.21081222e-04],      dtype=float64), 'srf': Array([0.16029243, 0.32310227, 0.87662339, 0.00143389], dtype=float64), 'mix': Array([ 0.07805722,  0.18184272,  0.86363637, -0.00122216], dtype=float64)}\n",
      "Running experiment 2 of 10\n",
      "{'seed': Array(2158071644, dtype=uint32), 'svgp': Array([ 7.18543975e+00,  1.84007654e+00,  8.83116901e-01, -3.71704345e-03],      dtype=float64), 'rff_rbf': Array([ 0.26312596,  0.36738678,  0.89610392, -0.00304965], dtype=float64), 'rff': Array([ 1.27193774e-01,  2.57236643e-01,  9.28571403e-01, -1.34932081e-04],      dtype=float64), 'qrff': Array([ 1.32201018e-01,  2.53568095e-01,  9.41558421e-01, -7.72526708e-04],      dtype=float64), 'srf': Array([ 2.64341986e-01,  3.54643820e-01,  8.44155848e-01, -4.92896582e-04],      dtype=float64), 'mix': Array([ 7.61743832e-02,  1.81598514e-01,  8.96103919e-01, -8.39315131e-04],      dtype=float64)}\n",
      "Running experiment 3 of 10\n",
      "{'seed': Array(1467386374, dtype=uint32), 'svgp': Array([ 8.20918860e+00,  1.95704652e+00,  8.57142866e-01, -6.06723834e-03],      dtype=float64), 'rff_rbf': Array([ 0.23055397,  0.35885861,  0.92207789, -0.00202731], dtype=float64), 'rff': Array([0.12354862, 0.25748091, 0.92207789, 0.00136393], dtype=float64), 'qrff': Array([0.12265555, 0.26584198, 0.93506491, 0.00101507], dtype=float64), 'srf': Array([1.90700204e-01, 3.31150539e-01, 8.57142866e-01, 7.76627836e-04],      dtype=float64), 'mix': Array([8.29594467e-02, 2.11992523e-01, 8.50649357e-01, 1.45142955e-04],      dtype=float64)}\n",
      "Running experiment 4 of 10\n",
      "{'seed': Array(165929394, dtype=uint32), 'svgp': Array([ 9.22871328,  2.19176686,  0.8051948 , -0.01470781], dtype=float64), 'rff_rbf': Array([ 2.08087397e-01,  3.48879233e-01,  9.61038947e-01, -9.46603872e-04],      dtype=float64), 'rff': Array([ 0.22294662,  0.31577283,  0.88961041, -0.0042173 ], dtype=float64), 'qrff': Array([ 0.19178578,  0.3014465 ,  0.8831169 , -0.00505265], dtype=float64), 'srf': Array([ 0.1704593 ,  0.27871698,  0.90259743, -0.00372726], dtype=float64), 'mix': Array([ 0.1275807 ,  0.22221552,  0.83766234, -0.00305506], dtype=float64)}\n",
      "Running experiment 5 of 10\n",
      "{'seed': Array(1594289240, dtype=uint32), 'svgp': Array([5.48674738e+00, 1.59024951e+00, 9.35064912e-01, 1.60907291e-03],      dtype=float64), 'rff_rbf': Array([0.30481626, 0.37452228, 0.93506491, 0.0028686 ], dtype=float64), 'rff': Array([0.18100167, 0.25470885, 0.93506491, 0.00233648], dtype=float64), 'qrff': Array([0.18156257, 0.27078389, 0.93506491, 0.00196113], dtype=float64), 'srf': Array([1.54469140e-01, 2.43659023e-01, 9.48051929e-01, 3.50987147e-04],      dtype=float64), 'mix': Array([0.15432155, 0.23211234, 0.82467532, 0.00152382], dtype=float64)}\n",
      "Running experiment 6 of 10\n",
      "{'seed': Array(1320423330, dtype=uint32), 'svgp': Array([ 7.08150570e+00,  1.84840823e+00,  8.63636374e-01, -6.91675499e-03],      dtype=float64), 'rff_rbf': Array([ 0.22317105,  0.34100622,  0.93506491, -0.00127203], dtype=float64), 'rff': Array([ 0.14273331,  0.26265901,  0.90259743, -0.00102951], dtype=float64), 'qrff': Array([ 0.15843524,  0.30089513,  0.88961041, -0.00207527], dtype=float64), 'srf': Array([ 0.14755391,  0.28363991,  0.88961041, -0.00190488], dtype=float64), 'mix': Array([ 0.16057242,  0.29185047,  0.83766234, -0.00108225], dtype=float64)}\n",
      "Running experiment 7 of 10\n",
      "{'seed': Array(4018544872, dtype=uint32), 'svgp': Array([ 6.652671  ,  1.74143017,  0.89610392, -0.01470899], dtype=float64), 'rff_rbf': Array([0.18229797, 0.31526226, 0.96753246, 0.0022042 ], dtype=float64), 'rff': Array([1.27767582e-01, 2.63446935e-01, 9.22077894e-01, 8.52466993e-04],      dtype=float64), 'qrff': Array([0.1549383 , 0.28078612, 0.92207789, 0.0009978 ], dtype=float64), 'srf': Array([0.1195561 , 0.26108033, 0.9285714 , 0.00301864], dtype=float64), 'mix': Array([0.11015746, 0.24300853, 0.81818181, 0.00163178], dtype=float64)}\n",
      "Running experiment 8 of 10\n",
      "{'seed': Array(614199572, dtype=uint32), 'svgp': Array([ 7.1820637 ,  1.82234268,  0.89610392, -0.01594037], dtype=float64), 'rff_rbf': Array([0.20603747, 0.34502284, 0.94155842, 0.00152237], dtype=float64), 'rff': Array([1.45521483e-01, 2.92840451e-01, 9.02597427e-01, 8.40856966e-04],      dtype=float64), 'qrff': Array([0.16431949, 0.28704901, 0.88961041, 0.00090347], dtype=float64), 'srf': Array([1.32293649e-01, 2.70445054e-01, 9.09090936e-01, 5.21282162e-04],      dtype=float64), 'mix': Array([1.21479930e-01, 2.52724549e-01, 8.18181813e-01, 5.69716165e-04],      dtype=float64)}\n",
      "Running experiment 9 of 10\n",
      "{'seed': Array(1580435565, dtype=uint32), 'svgp': Array([6.80143598e+00, 1.79648095e+00, 8.83116901e-01, 4.17202287e-03],      dtype=float64), 'rff_rbf': Array([ 2.31931327e-01,  3.56678394e-01,  9.15584385e-01, -7.70807808e-04],      dtype=float64), 'rff': Array([0.12854254, 0.27594489, 0.92207789, 0.00178332], dtype=float64), 'qrff': Array([1.80466900e-01, 3.32523067e-01, 8.63636374e-01, 4.44080646e-04],      dtype=float64), 'srf': Array([0.10084188, 0.24633954, 0.92207789, 0.00175868], dtype=float64), 'mix': Array([0.09815449, 0.22155138, 0.77922076, 0.00168937], dtype=float64)}\n",
      "Running experiment 10 of 10\n",
      "{'seed': Array(2847194475, dtype=uint32), 'svgp': Array([ 6.55609568,  1.72636524,  0.90259743, -0.00948537], dtype=float64), 'rff_rbf': Array([ 0.21489403,  0.34220468,  0.94805193, -0.00107524], dtype=float64), 'rff': Array([ 1.27535091e-01,  2.50166702e-01,  9.09090936e-01, -4.73801713e-04],      dtype=float64), 'qrff': Array([1.24619365e-01, 2.57249884e-01, 9.35064912e-01, 4.87417076e-04],      dtype=float64), 'srf': Array([1.55893224, 1.01174865, 0.37012988, 0.00256436], dtype=float64), 'mix': Array([ 7.82569964e-02,  2.04528694e-01,  8.76623392e-01, -6.97549970e-04],      dtype=float64)}\n"
     ]
    }
   ],
   "source": [
    "# experiment_run(subkey, X_val, y_val, y_scaler, params, R)\n",
    "res = multi_run(KEY, X, y, y_scaler, params, R=50, n_runs=10)"
   ]
  },
  {
   "cell_type": "code",
   "execution_count": 33,
   "metadata": {},
   "outputs": [],
   "source": [
    "res_df = []\n",
    "for exp in res:\n",
    "    res_df.extend([[k, *v.tolist()] for k,v in exp.items() if k != \"seed\"])\n",
    "res_df = pd.DataFrame(res_df, columns=[\"model\", \"mse\", \"mae\", \"cal\", \"z\"])\n",
    "res_df.to_csv(\"results.csv\", index=False)"
   ]
  },
  {
   "cell_type": "markdown",
   "metadata": {},
   "source": [
    "## Evaluate"
   ]
  },
  {
   "cell_type": "code",
   "execution_count": 69,
   "metadata": {},
   "outputs": [],
   "source": [
    "res_df = pd.read_csv(\"results.csv\")\n",
    "\n",
    "names = {\n",
    "    \"rff\": \"RFF\",\n",
    "    \"nrff\": \"Nonstationary RFF\",\n",
    "    \"rff_rbf\": \"RFF-RBF\",\n",
    "    \"svgp\": \"Sparse VGP\",\n",
    "    \"srf\": \"Stein RFF\",\n",
    "    \"qrff\": \"RFF Equiv Mix Big-O\",\n",
    "    \"mix\": \"Stein Mixture RFF\",\n",
    "    \"nmix\": \"Nonstationary Stein Mixture RFF\",\n",
    "}\n",
    "\n",
    "res_df[\"model\"] = res_df[\"model\"].apply(lambda x: names[x])\n",
    "res_df[\"rmse\"] = np.sqrt(res_df[\"mse\"])\n",
    "res_df[\"log_mse\"] = np.log(res_df[\"mse\"])"
   ]
  },
  {
   "cell_type": "code",
   "execution_count": 71,
   "metadata": {},
   "outputs": [
    {
     "data": {
      "text/html": [
       "<div>\n",
       "<style scoped>\n",
       "    .dataframe tbody tr th:only-of-type {\n",
       "        vertical-align: middle;\n",
       "    }\n",
       "\n",
       "    .dataframe tbody tr th {\n",
       "        vertical-align: top;\n",
       "    }\n",
       "\n",
       "    .dataframe thead th {\n",
       "        text-align: right;\n",
       "    }\n",
       "</style>\n",
       "<table border=\"1\" class=\"dataframe\">\n",
       "  <thead>\n",
       "    <tr style=\"text-align: right;\">\n",
       "      <th></th>\n",
       "      <th>model</th>\n",
       "      <th>mse_mean</th>\n",
       "      <th>mse_std</th>\n",
       "      <th>mae_mean</th>\n",
       "      <th>mae_std</th>\n",
       "      <th>cal_mean</th>\n",
       "      <th>cal_std</th>\n",
       "      <th>z_mean</th>\n",
       "      <th>z_std</th>\n",
       "      <th>rmse_mean</th>\n",
       "      <th>rmse_std</th>\n",
       "      <th>log_mse_mean</th>\n",
       "      <th>log_mse_std</th>\n",
       "    </tr>\n",
       "  </thead>\n",
       "  <tbody>\n",
       "    <tr>\n",
       "      <th>0</th>\n",
       "      <td>Stein Mixture RFF</td>\n",
       "      <td>0.108771</td>\n",
       "      <td>0.031608</td>\n",
       "      <td>0.224343</td>\n",
       "      <td>0.033271</td>\n",
       "      <td>0.840260</td>\n",
       "      <td>0.033420</td>\n",
       "      <td>-0.000134</td>\n",
       "      <td>0.001535</td>\n",
       "      <td>0.326763</td>\n",
       "      <td>0.047111</td>\n",
       "      <td>-2.255400</td>\n",
       "      <td>0.284330</td>\n",
       "    </tr>\n",
       "    <tr>\n",
       "      <th>1</th>\n",
       "      <td>RFF</td>\n",
       "      <td>0.142847</td>\n",
       "      <td>0.034733</td>\n",
       "      <td>0.265743</td>\n",
       "      <td>0.024379</td>\n",
       "      <td>0.918182</td>\n",
       "      <td>0.017370</td>\n",
       "      <td>0.000089</td>\n",
       "      <td>0.001860</td>\n",
       "      <td>0.375700</td>\n",
       "      <td>0.043424</td>\n",
       "      <td>-1.969176</td>\n",
       "      <td>0.220024</td>\n",
       "    </tr>\n",
       "    <tr>\n",
       "      <th>2</th>\n",
       "      <td>RFF Equiv Mix Big-O</td>\n",
       "      <td>0.152962</td>\n",
       "      <td>0.027030</td>\n",
       "      <td>0.279638</td>\n",
       "      <td>0.026554</td>\n",
       "      <td>0.912987</td>\n",
       "      <td>0.028420</td>\n",
       "      <td>-0.000231</td>\n",
       "      <td>0.002030</td>\n",
       "      <td>0.389714</td>\n",
       "      <td>0.034720</td>\n",
       "      <td>-1.891880</td>\n",
       "      <td>0.179187</td>\n",
       "    </tr>\n",
       "    <tr>\n",
       "      <th>3</th>\n",
       "      <td>RFF-RBF</td>\n",
       "      <td>0.230415</td>\n",
       "      <td>0.033972</td>\n",
       "      <td>0.349459</td>\n",
       "      <td>0.016417</td>\n",
       "      <td>0.933766</td>\n",
       "      <td>0.022031</td>\n",
       "      <td>-0.000330</td>\n",
       "      <td>0.001902</td>\n",
       "      <td>0.478894</td>\n",
       "      <td>0.034556</td>\n",
       "      <td>-1.477112</td>\n",
       "      <td>0.141488</td>\n",
       "    </tr>\n",
       "    <tr>\n",
       "      <th>4</th>\n",
       "      <td>Stein RFF</td>\n",
       "      <td>0.299944</td>\n",
       "      <td>0.444622</td>\n",
       "      <td>0.360453</td>\n",
       "      <td>0.231827</td>\n",
       "      <td>0.844805</td>\n",
       "      <td>0.169840</td>\n",
       "      <td>0.000430</td>\n",
       "      <td>0.002048</td>\n",
       "      <td>0.481684</td>\n",
       "      <td>0.274721</td>\n",
       "      <td>-1.636580</td>\n",
       "      <td>0.776567</td>\n",
       "    </tr>\n",
       "    <tr>\n",
       "      <th>5</th>\n",
       "      <td>Sparse VGP</td>\n",
       "      <td>7.323303</td>\n",
       "      <td>1.131602</td>\n",
       "      <td>1.850121</td>\n",
       "      <td>0.165098</td>\n",
       "      <td>0.876623</td>\n",
       "      <td>0.035959</td>\n",
       "      <td>-0.004603</td>\n",
       "      <td>0.010917</td>\n",
       "      <td>2.698952</td>\n",
       "      <td>0.208064</td>\n",
       "      <td>1.980391</td>\n",
       "      <td>0.153973</td>\n",
       "    </tr>\n",
       "  </tbody>\n",
       "</table>\n",
       "</div>"
      ],
      "text/plain": [
       "                 model  mse_mean   mse_std  mae_mean   mae_std  cal_mean  \\\n",
       "0    Stein Mixture RFF  0.108771  0.031608  0.224343  0.033271  0.840260   \n",
       "1                  RFF  0.142847  0.034733  0.265743  0.024379  0.918182   \n",
       "2  RFF Equiv Mix Big-O  0.152962  0.027030  0.279638  0.026554  0.912987   \n",
       "3              RFF-RBF  0.230415  0.033972  0.349459  0.016417  0.933766   \n",
       "4            Stein RFF  0.299944  0.444622  0.360453  0.231827  0.844805   \n",
       "5           Sparse VGP  7.323303  1.131602  1.850121  0.165098  0.876623   \n",
       "\n",
       "    cal_std    z_mean     z_std  rmse_mean  rmse_std  log_mse_mean  \\\n",
       "0  0.033420 -0.000134  0.001535   0.326763  0.047111     -2.255400   \n",
       "1  0.017370  0.000089  0.001860   0.375700  0.043424     -1.969176   \n",
       "2  0.028420 -0.000231  0.002030   0.389714  0.034720     -1.891880   \n",
       "3  0.022031 -0.000330  0.001902   0.478894  0.034556     -1.477112   \n",
       "4  0.169840  0.000430  0.002048   0.481684  0.274721     -1.636580   \n",
       "5  0.035959 -0.004603  0.010917   2.698952  0.208064      1.980391   \n",
       "\n",
       "   log_mse_std  \n",
       "0     0.284330  \n",
       "1     0.220024  \n",
       "2     0.179187  \n",
       "3     0.141488  \n",
       "4     0.776567  \n",
       "5     0.153973  "
      ]
     },
     "execution_count": 71,
     "metadata": {},
     "output_type": "execute_result"
    }
   ],
   "source": [
    "sum_df = res_df.groupby(\"model\").agg([\"mean\", \"std\"])\n",
    "sum_df.columns = sum_df.columns.map(lambda x: '_'.join(x) if isinstance(x, tuple) else x)\n",
    "sum_df = sum_df.sort_values(\"rmse_mean\", ascending=True).reset_index()\n",
    "sum_df"
   ]
  },
  {
   "cell_type": "code",
   "execution_count": 36,
   "metadata": {},
   "outputs": [
    {
     "data": {
      "text/plain": [
       "Text(0.5, 1.0, 'Energy UCI Dataset Error')"
      ]
     },
     "execution_count": 36,
     "metadata": {},
     "output_type": "execute_result"
    },
    {
     "data": {
      "image/png": "[encoded data removed]",
      "text/plain": [
       "<Figure size 640x480 with 1 Axes>"
      ]
     },
     "metadata": {},
     "output_type": "display_data"
    }
   ],
   "source": [
    "unique_models = res_df[\"model\"].unique()\n",
    "colors = sns.color_palette(\"hls\", len(unique_models))\n",
    "\n",
    "pointplot = sns.pointplot(\n",
    "    data=res_df, x=\"log_mse\", y=\"model\", hue=\"model\",\n",
    "    errorbar=\"ci\", capsize=.4,\n",
    "    palette=colors, legend=False,\n",
    "    color=\".5\", linestyle=\"none\", marker=\"D\",\n",
    ")\n",
    "pointplot.set_title(\"Energy UCI Dataset Error\")"
   ]
  }
 ],
 "metadata": {
  "kernelspec": {
   "display_name": "steinRF",
   "language": "python",
   "name": "python3"
  },
  "language_info": {
   "codemirror_mode": {
    "name": "ipython",
    "version": 3
   },
   "file_extension": ".py",
   "mimetype": "text/x-python",
   "name": "python",
   "nbconvert_exporter": "python",
   "pygments_lexer": "ipython3",
   "version": "3.1.0"
  }
 },
 "nbformat": 4,
 "nbformat_minor": 2
}
